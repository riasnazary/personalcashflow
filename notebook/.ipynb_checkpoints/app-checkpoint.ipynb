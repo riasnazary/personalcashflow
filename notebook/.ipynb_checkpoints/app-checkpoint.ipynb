{
 "cells": [
  {
   "cell_type": "code",
   "execution_count": null,
   "id": "ffbe4b34-4e89-41a7-8bc4-04b3a4ea14e6",
   "metadata": {},
   "outputs": [],
   "source": [
    "import plotly.express as px\n",
    "import streamlit as st\n",
    "\n",
    "st.set_page_config(page_title=\"Finance Dashboard\",\n",
    "                  layout=\"wide\"\n",
    "                  )\n",
    "\n",
    "df = pd.DataFrame(\n",
    "    {'months':months,\n",
    "     'revenue': avg_revenue_list,\n",
    "     'expenditures': monthly_expenditures_list\n",
    "    }\n",
    ")\n",
    "\n",
    "st.dataframe(df)"
   ]
  }
 ],
 "metadata": {
  "kernelspec": {
   "display_name": "Python 3 (ipykernel)",
   "language": "python",
   "name": "python3"
  },
  "language_info": {
   "codemirror_mode": {
    "name": "ipython",
    "version": 3
   },
   "file_extension": ".py",
   "mimetype": "text/x-python",
   "name": "python",
   "nbconvert_exporter": "python",
   "pygments_lexer": "ipython3",
   "version": "3.8.8"
  }
 },
 "nbformat": 4,
 "nbformat_minor": 5
}
