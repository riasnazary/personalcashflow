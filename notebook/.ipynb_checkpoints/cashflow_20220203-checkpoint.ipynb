{
 "cells": [
  {
   "cell_type": "markdown",
   "id": "c07403ac-9553-4eb5-b124-7fc90a30fcf2",
   "metadata": {},
   "source": [
    "## import bank statements"
   ]
  },
  {
   "cell_type": "code",
   "execution_count": 1,
   "id": "193d537d-a822-4b59-83c5-11c7203e0771",
   "metadata": {},
   "outputs": [
    {
     "name": "stdout",
     "output_type": "stream",
     "text": [
      "This is the length of your transactions: 286 \n",
      "\n"
     ]
    }
   ],
   "source": [
    "import pandas as pd\n",
    "import numpy as np\n",
    "import glob\n",
    "import os.path\n",
    "import warnings\n",
    "warnings.filterwarnings('ignore')\n",
    "\n",
    "# read the latest csv-file of bank statements\n",
    "folder_path = r'/Users/riasnazary/datascience/00_final-project/data/'\n",
    "file_type = '/*csv'\n",
    "files = glob.glob(folder_path + file_type)\n",
    "max_file = max(files, key=os.path.getctime)\n",
    "\n",
    "# spliting bank statements in 3 parts: meta_data, standing_order and transactions\n",
    "meta_data = pd.read_csv(max_file, sep = \";\", encoding= 'unicode_escape',\n",
    "                    skiprows = 1,\n",
    "                    nrows = 5,\n",
    "                    index_col = False,\n",
    "                    names = ['designation','value']\n",
    "                   )\n",
    "# start to read standing_order from a constant index number for the next 20 rows (will be tailored)\n",
    "standing_order = pd.read_csv(max_file, sep = \";\", encoding= 'unicode_escape', \n",
    "                             skiprows = 10, nrows = 100, \n",
    "                             names = ['buchungsdatum','umsatzart','buchungsdetails',\n",
    "                                     'auftraggeber','empfaenger','betrag_eur','NaN']\n",
    "                            ).iloc[:,:6]\n",
    "\n",
    "# finding a complete empty row, which will be used as reference to start the header for transactions\n",
    "missing_cols, missing_rows = (\n",
    "    (standing_order.isnull().sum(x) | standing_order.eq('').sum(x))\n",
    "    .loc[lambda x: x.gt(0)].index\n",
    "    for x in (0, 1)\n",
    ")\n",
    "index_empty_row = standing_order.loc[missing_rows, missing_cols].index.tolist()[0]\n",
    "standing_order.drop(standing_order.index[index_empty_row:], inplace=True)\n",
    "theader = index_empty_row+10\n",
    "\n",
    "transactions = pd.read_csv(max_file, sep = \";\", encoding= 'unicode_escape', header = theader,\n",
    "                          names = ['buchungsdatum','wertstellung','umsatzart','buchungsdetails',\n",
    "                                     'auftraggeber','empfaenger','betrag_eur','saldo','NaN']\n",
    "                          ).iloc[:,:8]\n",
    "\n",
    "print(\"This is the length of your transactions:\",len(transactions),\"\\n\")\n",
    "# transactions"
   ]
  },
  {
   "cell_type": "code",
   "execution_count": 2,
   "id": "d8f26609-37c5-42f5-a9a4-6bb7544b24d1",
   "metadata": {},
   "outputs": [],
   "source": [
    "# excel_file = (folder_path + 'Finanzen.xlsx')\n",
    "\n",
    "# datasets = pd.ExcelFile(excel_file)\n",
    "\n",
    "# sheet0 = pd.read_excel(excel_file, sheet_name=0, index_col=0)\n",
    "# sheet1 = pd.read_excel(excel_file, sheet_name=1, index_col=0)\n",
    "# sheet2 = pd.read_excel(excel_file, sheet_name=2, index_col=0)\n",
    "# sheet3 = pd.read_excel(excel_file, sheet_name=3, index_col=0)\n",
    "# sheet4 = pd.read_excel(excel_file, sheet_name=4, index_col=0)\n",
    "# sheet5 = pd.read_excel(excel_file, sheet_name=5, index_col=0)\n",
    "# sheet6 = pd.read_excel(excel_file, sheet_name=6, index_col=0)\n",
    "# sheet7 = pd.read_excel(excel_file, sheet_name=7, index_col=0)\n",
    "# sheet8 = pd.read_excel(excel_file, sheet_name=8, index_col=0)"
   ]
  },
  {
   "cell_type": "code",
   "execution_count": 3,
   "id": "0dee90c1-da27-44b9-b247-985a2e765618",
   "metadata": {
    "tags": []
   },
   "outputs": [],
   "source": [
    "pd.set_option('display.max_colwidth', None)\n",
    "\n",
    "first_name = meta_data.value.str.split(expand=True)[[0]][:1].iat[0,0]\n",
    "last_name = meta_data.value.str.split(expand=True)[[1]][:1].iat[0,0]\n",
    "blz = meta_data.loc[meta_data['designation'] == 'BLZ', 'value'].values[0]\n",
    "kontonummer = meta_data.loc[meta_data['designation'] == 'Kontonummer', 'value'].values[0]\n",
    "iban = meta_data.loc[meta_data['designation'] == 'IBAN', 'value'].values[0]\n",
    "account_balance = meta_data.loc[meta_data['designation'] == 'Aktueller Kontostand', 'value'].values[0]"
   ]
  },
  {
   "cell_type": "code",
   "execution_count": 4,
   "id": "decb1ba3-c5f0-4e67-bf97-df1cf9f5ad08",
   "metadata": {},
   "outputs": [],
   "source": [
    "# # seperate window to welcome the user\n",
    "# from tkinter import *\n",
    "  \n",
    "# root = Tk() \n",
    "# a = Label(root, \n",
    "#           text = (\"Hello \" + first_name + \" \" + last_name + \"!\" +\n",
    "#                   \"\\n your current balance:\" +\n",
    "#                   \"\\n\" + account_balance + \"Euro\"),\n",
    "#           height = 15, width = 25)\n",
    "\n",
    "# a.config(font=('Helvatical bold',30))\n",
    "# a.pack()\n",
    "# root.mainloop()"
   ]
  },
  {
   "cell_type": "code",
   "execution_count": 5,
   "id": "0e55c812-8e4f-4014-a708-8e928f4bae00",
   "metadata": {},
   "outputs": [],
   "source": [
    "# print(\"This is the full name:\", first_name, last_name)\n",
    "# print(\"This is the Bankleitzahl:\", blz)\n",
    "# print(\"This is the Kontonummer:\", kontonummer)\n",
    "# print(\"This is the IBAN:\", iban)\n",
    "# print(\"Current account balance:\", account_balance, \"Euro\")"
   ]
  },
  {
   "cell_type": "markdown",
   "id": "f0cda9e6-952e-4b07-80d9-2fe02a815ab7",
   "metadata": {},
   "source": [
    "## exploring and converting"
   ]
  },
  {
   "cell_type": "code",
   "execution_count": 6,
   "id": "ed87e4b0-d571-41b1-9d26-5c352d18d5ef",
   "metadata": {
    "tags": []
   },
   "outputs": [],
   "source": [
    "# transactions.info()"
   ]
  },
  {
   "cell_type": "code",
   "execution_count": 7,
   "id": "969d42d5-4886-42d4-9393-1a504d798427",
   "metadata": {
    "tags": []
   },
   "outputs": [],
   "source": [
    "# convert german numbers to english numbers\n",
    "transactions = transactions.assign(\n",
    "    betrag_eur = transactions['betrag_eur'].str.replace('\\.','', regex=True),\n",
    "    saldo = transactions['saldo'].str.replace('\\.','', regex=True),\n",
    ")"
   ]
  },
  {
   "cell_type": "code",
   "execution_count": 8,
   "id": "03dfc12b-1089-478c-b9d7-715a9fd5811c",
   "metadata": {
    "tags": []
   },
   "outputs": [],
   "source": [
    "transactions = transactions.assign(\n",
    "    betrag_eur = transactions['betrag_eur'].str.replace('\\,','.', regex=True),\n",
    "    saldo = transactions['saldo'].str.replace('\\,','.', regex=True),\n",
    ")"
   ]
  },
  {
   "cell_type": "code",
   "execution_count": 9,
   "id": "ecc1fc50-7508-43de-91a7-5de3cb831bfc",
   "metadata": {
    "tags": []
   },
   "outputs": [],
   "source": [
    "transactions['betrag_eur'] = transactions['betrag_eur'].str[:-2]\n",
    "transactions['saldo'] = transactions['saldo'].str[:-2]"
   ]
  },
  {
   "cell_type": "code",
   "execution_count": 10,
   "id": "193ed772-0748-4f23-9759-f5474de7aafc",
   "metadata": {
    "tags": []
   },
   "outputs": [],
   "source": [
    "import datetime\n",
    "import time\n",
    "\n",
    "temp = transactions\n",
    "temp['buchungsdatum'] = pd.to_datetime(temp['buchungsdatum'], format='%d.%m.%Y').dt.strftime('%Y-%m-%d')\n",
    "temp['buchungsdatum'] = pd.to_datetime(temp['buchungsdatum'])\n",
    "temp['wertstellung'] = pd.to_datetime(temp['wertstellung'], format='%d.%m.%Y').dt.strftime('%Y-%m-%d')\n",
    "temp['wertstellung'] = pd.to_datetime(temp['wertstellung'])\n",
    "temp['betrag_eur'] = pd.to_numeric(temp['betrag_eur'])\n",
    "temp['saldo'] = pd.to_numeric(temp['saldo'])\n",
    "transactions = temp\n",
    "# transactions.info()"
   ]
  },
  {
   "cell_type": "code",
   "execution_count": 11,
   "id": "a4a2fc77-7e31-4125-b8fc-bfdb997fa2f4",
   "metadata": {
    "tags": []
   },
   "outputs": [],
   "source": [
    "# transactions.isna().sum()"
   ]
  },
  {
   "cell_type": "code",
   "execution_count": 12,
   "id": "00f674d7-b10f-459f-9dbe-ca059f38e48d",
   "metadata": {
    "tags": []
   },
   "outputs": [],
   "source": [
    "# # funciton to identify empty lines and show their content\n",
    "# missing_cols, missing_rows = (\n",
    "#     (transactions.isnull().sum(x) | transactions.eq('').sum(x))\n",
    "#     .loc[lambda x: x.gt(0)].index\n",
    "#     for x in (0, 1)\n",
    "# )\n",
    "# transactions.loc[missing_rows, missing_cols]"
   ]
  },
  {
   "cell_type": "code",
   "execution_count": 13,
   "id": "ed7dab95-01a6-479c-a5d8-6fdd669c6653",
   "metadata": {},
   "outputs": [],
   "source": [
    "import numpy as np\n",
    "\n",
    "transactions = (\n",
    "transactions\n",
    "    .assign(buchungsdetails = lambda x: np.where(\n",
    "        x['buchungsdetails'].str.contains('.PP .|LU96ZZZ0000000000000000058'),\n",
    "        x['buchungsdetails'].str[113:], \n",
    "        x['buchungsdetails']\n",
    "      )\n",
    "    )\n",
    ")\n",
    "# transactions.head()"
   ]
  },
  {
   "cell_type": "code",
   "execution_count": 14,
   "id": "7691eaab-d7e1-4f91-b221-194731665c27",
   "metadata": {},
   "outputs": [],
   "source": [
    "most_freq_receiver = pd.DataFrame(transactions['empfaenger'].value_counts()[:10])\n",
    "top_receiver_number = most_freq_receiver.iat[0,0]\n",
    "top_receiver_name = most_freq_receiver.index.values[0]\n",
    "top_amount = transactions.query('empfaenger == @top_receiver_name')['empfaenger'].count()\n",
    "top_rate = round(top_amount / transactions['empfaenger'].count(),2)*100\n",
    "# print(\"These are the Top 10 receiver:\\n\", most_freq_receiver,\n",
    "# \"\\n\\nRate of\", top_receiver_name, \"to all transactions:\", top_rate, \"%\")"
   ]
  },
  {
   "cell_type": "markdown",
   "id": "759f1303-1cad-421d-86f9-08148bd33b4e",
   "metadata": {},
   "source": [
    "# 1. categorization"
   ]
  },
  {
   "cell_type": "markdown",
   "id": "9a7aa662-8559-45fa-831d-4dc0c01f03a9",
   "metadata": {},
   "source": [
    "## sub categories"
   ]
  },
  {
   "cell_type": "code",
   "execution_count": 15,
   "id": "063ff895-9509-42c9-949c-624ebe63ebf8",
   "metadata": {},
   "outputs": [
    {
     "name": "stdout",
     "output_type": "stream",
     "text": [
      "This is the amount of sub categories 29\n"
     ]
    },
    {
     "data": {
      "text/plain": [
       "music_dl            53\n",
       "movies_dl           44\n",
       "food_delivery_dl    28\n",
       "other_dl            20\n",
       "mobility            13\n",
       "Name: scategory, dtype: int64"
      ]
     },
     "execution_count": 15,
     "metadata": {},
     "output_type": "execute_result"
    }
   ],
   "source": [
    "# categorization of revenues and expenditure \n",
    "import re\n",
    "import numpy as np\n",
    "\n",
    "# the last will be the first ones\n",
    "regexp_dict1 = {\n",
    "# revenue\n",
    "    'revenue':'(ENTGELT|LOHN|GEHALT|Lisa Pataczek)',\n",
    "    'revenue_lease':'(GARCIA|GIRAUDO|Quiring)',\n",
    "    'onetimer_revenue':'(Gutschrift|Arbeit-Service|79172|MW304|NN304|HB304|63378)',\n",
    "# rent\n",
    "    'rent':'(MIETE FUER:BACHWIESENSTR. 14/1,70199 STUTTGART|ENERGIELIEFERUNG|TELEKOM|ARD, ZDF, DRadio|RUNDFUNK)',\n",
    "    'rent_lease': '(vodafone|NEULAND|LSW Energie GmbH & Co. KG)',\n",
    "# grocery\n",
    "    'grocery':'(MONATSBUDGET FÜR ALLTÄGLICHES|REWE|NETTO|SUEDMARKT|LIDL|ALDI|Ghorbani-Farid)',\n",
    "# mobility\n",
    "    'mobility':'(DB Vertrieb|Strassenbahnen)',\n",
    "# daily life (which builds the base for later cuts)\n",
    "    'share_mobility_dl':'(MILES|SHARE NOW GMBH|UMI Urban Mobility|Voi Technology)',\n",
    "    'smartphone_dl':'(SIMply)',\n",
    "    'food_delivery_dl':'(Takeaway.com|Lieferando)',\n",
    "    'cinema_dl':'(CinemaxX)',\n",
    "    'movies_dl':'(Apple Services, Ihr Einkauf bei Apple Services)',\n",
    "    'music_dl':'(iTunes and App Store,Ihr Einkauf bei iTunes and App Store)',\n",
    "    'subscription_dl':'(DISNEY)',\n",
    "    'games_dl':'(Nintendo|PLAYSTATION)',\n",
    "    'restaurant_dl':'(Grillhaus|El Reda|Restaurant|Bar)',\n",
    "    'clothes_dl':'(Hennes|H+M|MauritzBV|Greenality|GREENALITY)',\n",
    "    'other_dl':'(IKEA|BAUHAUS|HELLWEG|AMZ|Amazon.de|posterXXL|STEFA)',\n",
    "# budgeted (plan costs with constant values)\n",
    "    'debts':'(DARLEHENSKONTONUMMER55208109450)',\n",
    "    'holiday':'(URLAUB)',\n",
    "    'pension_parents':'(RENTE FÜR ELTERN|DE07ZZZ00000002074Halima)',\n",
    "    'donation':'(SPENDE|DRK GENERALSEKRETARIAT)',\n",
    "# cash (and cash equivalents)\n",
    "    'reserve':'(RUECKLAGEN)',\n",
    "    'savings_plan':'(ETF-SPARPLAN|Kommando zurueck|DE07ZZZ00000002074Rias)',\n",
    "    'building_savings':'(0163765701)',\n",
    "# provision\n",
    "    'medicine':'(SIEVERS|APOTHEKE|Apotheke)',\n",
    "    'insurance':'(AXA|Adam Riese|VHV|Envivas|Rechtsanwalt)',\n",
    "    'onetimer_expenditure':'(DATA003|Schadennr|Kaution|84507316273|LANDESHAUPTKASSE BERLIN|Post)',\n",
    "    'outside_capital':'(mama|Bolzstr. 3-7)'\n",
    "}\n",
    "\n",
    "sub_cat = transactions.copy().assign(scategory = 'uncategorized')\n",
    "\n",
    "for val1 in regexp_dict1.items(): \n",
    "    label1 = val1[0]\n",
    "    regexp1 = re.compile(val1[1], flags=re.IGNORECASE)\n",
    "    sub_cat = (\n",
    "    sub_cat\n",
    "        .assign(\n",
    "            scategory = lambda x: np.where(\n",
    "                (x['umsatzart'].str.contains(regexp1, regex=True)) &\n",
    "                (x['scategory'] == 'uncategorized')|\n",
    "                (x['empfaenger'].str.contains(regexp1, regex=True)) &\n",
    "                (x['scategory'] == 'uncategorized')|\n",
    "                (x['auftraggeber'].str.contains(regexp1, regex=True)) &\n",
    "                (x['scategory'] == 'uncategorized')|\n",
    "                (x['buchungsdetails'].str.contains(regexp1, regex=True)) &\n",
    "                (x['scategory'] == 'uncategorized'), label1, x['scategory'])))\n",
    "\n",
    "print(\"This is the amount of sub categories\", len(sub_cat.groupby(['scategory'])))\n",
    "sub_cat['scategory'].value_counts()[:5]\n",
    "# sub_cat[['buchungsdetails','empfaenger','scategory']][:50]"
   ]
  },
  {
   "cell_type": "markdown",
   "id": "793f4736-4e48-4853-bd18-86492f8e23ed",
   "metadata": {},
   "source": [
    "## major categories"
   ]
  },
  {
   "cell_type": "code",
   "execution_count": 16,
   "id": "4a70da75-ed01-40e6-8a85-56c960367d85",
   "metadata": {},
   "outputs": [
    {
     "name": "stdout",
     "output_type": "stream",
     "text": [
      "This is the current amount of major categories 20\n"
     ]
    },
    {
     "data": {
      "text/plain": [
       "dailylife               166\n",
       "mobility                 13\n",
       "onetimer_revenue         11\n",
       "rent                     11\n",
       "onetimer_expenditure     10\n",
       "Name: mcategory, dtype: int64"
      ]
     },
     "execution_count": 16,
     "metadata": {},
     "output_type": "execute_result"
    }
   ],
   "source": [
    "# daily life\n",
    "regexp_dict2 = {'dailylife':'(_dl)'}\n",
    "maj_cat = sub_cat.copy().assign(mcategory = 'uncategorized')\n",
    "\n",
    "for val2 in regexp_dict2.items():\n",
    "    label2 = val2[0]\n",
    "    regexp2 = re.compile(val2[1], flags=re.IGNORECASE)\n",
    "    maj_cat = (\n",
    "    maj_cat\n",
    "        .assign(\n",
    "            mcategory = lambda x: np.where(\n",
    "                (x['scategory'].str.contains(regexp2, regex=True)), label2, x['scategory'])))\n",
    "\n",
    "print(\"This is the current amount of major categories\", len(maj_cat.groupby(['mcategory'])))    \n",
    "maj_cat['mcategory'].value_counts().head()"
   ]
  },
  {
   "cell_type": "code",
   "execution_count": 17,
   "id": "f3c786fc-1dbf-4e98-96c6-cc0e1364b04d",
   "metadata": {},
   "outputs": [
    {
     "name": "stdout",
     "output_type": "stream",
     "text": [
      "This is the current amount of major categories 17\n"
     ]
    },
    {
     "data": {
      "text/plain": [
       "dailylife           166\n",
       "budgeted             15\n",
       "mobility             13\n",
       "rent                 11\n",
       "onetimer_revenue     11\n",
       "Name: mcategory, dtype: int64"
      ]
     },
     "execution_count": 17,
     "metadata": {},
     "output_type": "execute_result"
    }
   ],
   "source": [
    "# budgeted\n",
    "regexp_dict2 = {'budgeted':'(debts|holiday|pension_parents|donation)'}\n",
    "# maj_cat = sub_cat.copy().assign(mcategory = 'uncategorized')\n",
    "for val2 in regexp_dict2.items():\n",
    "    label2 = val2[0]\n",
    "    regexp2 = re.compile(val2[1], flags=re.IGNORECASE)\n",
    "    maj_cat = (\n",
    "    maj_cat\n",
    "        .assign(\n",
    "            mcategory = lambda x: np.where(\n",
    "                (x['scategory'].str.contains(regexp2, regex=True)), label2, x['mcategory'])))\n",
    "    \n",
    "print(\"This is the current amount of major categories\", len(maj_cat.groupby(['mcategory'])))    \n",
    "maj_cat['mcategory'].value_counts().head()"
   ]
  },
  {
   "cell_type": "code",
   "execution_count": 18,
   "id": "376a6369-60df-4c0d-829e-b3d04a6f426e",
   "metadata": {},
   "outputs": [
    {
     "name": "stdout",
     "output_type": "stream",
     "text": [
      "This is the current amount of major categories 15\n"
     ]
    },
    {
     "data": {
      "text/plain": [
       "dailylife           166\n",
       "budgeted             15\n",
       "mobility             13\n",
       "cash                 12\n",
       "onetimer_revenue     11\n",
       "Name: mcategory, dtype: int64"
      ]
     },
     "execution_count": 18,
     "metadata": {},
     "output_type": "execute_result"
    }
   ],
   "source": [
    "# cash and cash equivalents\n",
    "regexp_dict2 = {'cash':'(reserve|savings_plan|building_savings)'}\n",
    "# maj_cat = sub_cat.copy().assign(mcategory = 'uncategorized')\n",
    "for val2 in regexp_dict2.items():\n",
    "    label2 = val2[0]\n",
    "    regexp2 = re.compile(val2[1], flags=re.IGNORECASE)\n",
    "    maj_cat = (\n",
    "    maj_cat\n",
    "        .assign(\n",
    "            mcategory = lambda x: np.where(\n",
    "                (x['scategory'].str.contains(regexp2, regex=True)), label2, x['mcategory'])))\n",
    "    \n",
    "print(\"This is the current amount of major categories\", len(maj_cat.groupby(['mcategory'])))    \n",
    "maj_cat['mcategory'].value_counts().head()"
   ]
  },
  {
   "cell_type": "code",
   "execution_count": 19,
   "id": "a3a83e92-dafd-442a-b67c-656bcc72341d",
   "metadata": {},
   "outputs": [
    {
     "name": "stdout",
     "output_type": "stream",
     "text": [
      "This is the current amount of major categories 14\n"
     ]
    },
    {
     "data": {
      "text/plain": [
       "dailylife           166\n",
       "budgeted             15\n",
       "mobility             13\n",
       "cash                 12\n",
       "onetimer_revenue     11\n",
       "Name: mcategory, dtype: int64"
      ]
     },
     "execution_count": 19,
     "metadata": {},
     "output_type": "execute_result"
    }
   ],
   "source": [
    "# provision\n",
    "regexp_dict2 = {'Provision':'(medicine|insurance)'}\n",
    "# maj_cat = sub_cat.copy().assign(mcategory = 'uncategorized')\n",
    "for val2 in regexp_dict2.items():\n",
    "    label2 = val2[0]\n",
    "    regexp2 = re.compile(val2[1], flags=re.IGNORECASE)\n",
    "    maj_cat = (\n",
    "    maj_cat\n",
    "        .assign(\n",
    "            mcategory = lambda x: np.where(\n",
    "                (x['scategory'].str.contains(regexp2, regex=True)), label2, x['mcategory'])))\n",
    "    \n",
    "print(\"This is the current amount of major categories\", len(maj_cat.groupby(['mcategory'])))    \n",
    "maj_cat['mcategory'].value_counts().head()"
   ]
  },
  {
   "cell_type": "code",
   "execution_count": 20,
   "id": "788f9dd6-7350-4885-8465-2bd2a18c4e22",
   "metadata": {},
   "outputs": [],
   "source": [
    "transactions = maj_cat"
   ]
  },
  {
   "cell_type": "markdown",
   "id": "4fc2b156-8e11-49d3-8aeb-461ff2009084",
   "metadata": {},
   "source": [
    "## uncategorized transactions"
   ]
  },
  {
   "cell_type": "code",
   "execution_count": 21,
   "id": "c939a855-30b2-4ea8-9857-bd6383fccac2",
   "metadata": {},
   "outputs": [
    {
     "name": "stdout",
     "output_type": "stream",
     "text": [
      "The total amount of uncategorized transactions is:  9\n",
      "The percentage of categorized transactions to total transactions is:  97.0 %\n"
     ]
    }
   ],
   "source": [
    "# test amount of unknwon transactions\n",
    "uncategorized = pd.DataFrame(sub_cat.query('scategory == \"uncategorized\"')[['betrag_eur']].count()).iat[0,0]\n",
    "print(\"The total amount of uncategorized transactions is: \", uncategorized)\n",
    "print(\"The percentage of categorized transactions to total transactions is: \",\n",
    "      100*round(1-uncategorized/transactions['empfaenger'].count(),2),\"%\")"
   ]
  },
  {
   "cell_type": "code",
   "execution_count": 22,
   "id": "f7144a01-90f0-44e3-bc59-779eb7824a62",
   "metadata": {
    "tags": []
   },
   "outputs": [],
   "source": [
    "# # quick check if uncategorized transactions are more than 20% of all transactions\n",
    "# if uncategorized > (1-(uncategorized/len(transactions)))*100*.2: \n",
    "#     print(\"\"\"\n",
    "#         May be you should add transactions details to existing categories,\n",
    "#         since the amount of uncategorized transactions is too high!\n",
    "#     \"\"\")\n",
    "# elif uncategorized <= (1-(uncategorized/len(transactions)))*100*.2:\n",
    "#     print(\"\"\" \n",
    "#         You did your homework and all transactions seem to be categorized properly!\n",
    " \n",
    "#                                 ░░█▀░░░░░░░░░░░▀▀███████░░░░ \n",
    "#                                 ░░█▌░░░░░░░░░░░░░░░▀██████░░░ \n",
    "#                                 ░█▌░░░░░░░░░░░░░░░░███████▌░░ \n",
    "#                                 ░█░░░░░░░░░░░░░░░░░████████░░ \n",
    "#                                 ▐▌░░░░░░░░░░░░░░░░░▀██████▌░░ \n",
    "#                                 ░▌▄███▌░░░░▀████▄░░░░▀████▌░░ \n",
    "#                                 ▐▀▀▄█▄░▌░░░▄██▄▄▄▀░░░░████▄▄░ \n",
    "#                                 ▐░▀░░═▐░░░░░░══░░▀░░░░▐▀░▄▀▌▌ \n",
    "#                                 ▐░░░░░▌░░░░░░░░░░░░░░░▀░▀░░▌▌ \n",
    "#                                 ▐░░░▄▀░░░▀░▌░░░░░░░░░░░░▌█░▌▌ \n",
    "#                                 ░▌░░▀▀▄▄▀▀▄▌▌░░░░░░░░░░▐░▀▐▐░ \n",
    "#                                 ░▌░░▌░▄▄▄▄░░░▌░░░░░░░░▐░░▀▐░░ \n",
    "#                                 ░█░▐▄██████▄░▐░░░░░░░░█▀▄▄▀░░ \n",
    "#                                 ░▐░▌▌░░░░░░▀▀▄▐░░░░░░█▌░░░░░░ \n",
    "#                                 ░░█░░▄▀▀▀▀▄░▄═╝▄░░░▄▀░▌░░░░░░ \n",
    "#                                 ░░░▌▐░░░░░░▌░▀▀░░▄▀░░▐░░░░░░░ \n",
    "#                                 ░░░▀▄░░░░░░░░░▄▀▀░░░░█░░░░░░░ \n",
    "#                                 ░░░▄█▄▄▄▄▄▄▄▀▀░░░░░░░▌▌░░░░░░ \n",
    "#                                 ░░▄▀▌▀▌░░░░░░░░░░░░░▄▀▀▄░░░░░ \n",
    "#                                 ▄▀░░▌░▀▄░░░░░░░░░░▄▀░░▌░▀▄░░░ \n",
    "#                                 ░░░░▌█▄▄▀▄░░░░░░▄▀░░░░▌░░░▌▄▄ \n",
    "#                                 ░░░▄▐██████▄▄░▄▀░░▄▄▄▄▌░░░░▄░ \n",
    "#                                 ░░▄▌████████▄▄▄███████▌░░░░░▄ \n",
    "#                                 ░▄▀░██████████████████▌▀▄░░░░ \n",
    "#                                 ▀░░░█████▀▀░░░▀███████░░░▀▄░░ \n",
    "#                                 ░░░░▐█▀░░░▐░░░░░▀████▌░░░░▀▄░ \n",
    "#                                 ░░░░░░▌░░░▐░░░░▐░░▀▀█░░░░░░░▀ \n",
    "#                                 ░░░░░░▐░░░░▌░░░▐░░░░░▌░░░░░░░ \n",
    "#                                 ░╔╗║░╔═╗░═╦═░░░░░╔╗░░╔═╗░╦═╗░ \n",
    "#                                 ░║║║░║░║░░║░░░░░░╠╩╗░╠═╣░║░║░ \n",
    "#                                 ░║╚╝░╚═╝░░║░░░░░░╚═╝░║░║░╩═╝░ \n",
    "#           \"\"\")\n",
    "                                    "
   ]
  },
  {
   "cell_type": "markdown",
   "id": "bc299224-2328-4fbd-8e39-f5c9dd65f3c5",
   "metadata": {},
   "source": [
    "<!-- ...is too high: \n",
    "\n",
    "![Data Science Process](https://pics.me.me/tis-too-damn-high-14233414.png) -->"
   ]
  },
  {
   "cell_type": "markdown",
   "id": "6513f8f2-fd16-4e07-a5ea-196ef60ce52c",
   "metadata": {},
   "source": [
    "## save manager"
   ]
  },
  {
   "cell_type": "code",
   "execution_count": 23,
   "id": "786957e9-e7bd-4f51-99bc-a10ccb90a6ec",
   "metadata": {},
   "outputs": [],
   "source": [
    "# # current version saved with todays date\n",
    "# today = datetime.datetime.today().strftime('%Y%m%d')\n",
    "# save_path = '/Users/riasnazary/datascience/00_final-project/saved/'\n",
    "# transactions.to_csv(save_path + 'transactions_'f'{today}.csv')\n",
    "\n",
    "# # call the transactions history\n",
    "# history = pd.read_csv(save_path + 'transactions_history.csv')\n",
    "# history = history.drop(history.columns[0], axis=1)\n",
    "# temp = history\n",
    "# temp['buchungsdatum'] = pd.to_datetime(temp['buchungsdatum'], format='%Y-%m-%d').dt.strftime('%Y-%m-%d')\n",
    "# temp['buchungsdatum'] = pd.to_datetime(temp['buchungsdatum'])\n",
    "# temp['wertstellung'] = pd.to_datetime(temp['wertstellung'], format='%Y-%m-%d').dt.strftime('%Y-%m-%d')\n",
    "# temp['wertstellung'] = pd.to_datetime(temp['wertstellung'])\n",
    "# temp['betrag_eur'] = pd.to_numeric(temp['betrag_eur'])\n",
    "# temp['saldo'] = pd.to_numeric(temp['saldo'])\n",
    "# histoy = temp\n",
    "\n",
    "# # merging latest transactions to history \n",
    "# history = pd.concat([transactions, history]).drop_duplicates().reset_index(drop=True)\n",
    "\n",
    "# # save history\n",
    "# history.to_csv(save_path + 'transactions_history.csv')\n",
    "\n",
    "# # quick check \n",
    "# if len(history) > len(transactions): \n",
    "#     print(len(history)-len(transactions),\n",
    "#           \"more transactions have been added to your history csv-file.\",\n",
    "#           \"\\n\\nOverall there are now\", len(history), \"transactions\",\n",
    "#           \"saved in your save-folder: \\n\",save_path,\".\")\n",
    "# else:\n",
    "#     print(\"something went wrong with the save manager\")"
   ]
  },
  {
   "cell_type": "markdown",
   "id": "c5dd97ee-2c25-48f1-bc3b-8de52d5407b6",
   "metadata": {},
   "source": [
    "# 2. dashboard"
   ]
  },
  {
   "cell_type": "markdown",
   "id": "5d7a8a40-d7bc-4763-a69e-cd6b86d63c50",
   "metadata": {},
   "source": [
    "## validate regular transactions"
   ]
  },
  {
   "cell_type": "markdown",
   "id": "e1dc31bc-cb88-4541-9fee-440ceba6a963",
   "metadata": {},
   "source": [
    "### iter-1 by categories"
   ]
  },
  {
   "cell_type": "code",
   "execution_count": 152,
   "id": "0d2059dc-0ef4-4bcd-a2d0-e174be85e28c",
   "metadata": {},
   "outputs": [
    {
     "name": "stdout",
     "output_type": "stream",
     "text": [
      "The amount of irregular transactions to total transactions is in this first iteration:  40  of  286 . \n",
      "That makes:  13.99 %.\n"
     ]
    }
   ],
   "source": [
    "# cleaning irregular transactions, which don't belong to regular transactions\n",
    "temp = transactions[~transactions.scategory.str.contains(\n",
    "    \"onetimer|outside_capital|lease\") == True][['buchungsdatum','buchungsdetails','betrag_eur',\n",
    "                                          'scategory','mcategory']]\n",
    "\n",
    "print(\"The amount of irregular transactions to total transactions is in this first iteration: \",\n",
    "      len(transactions)-len(temp),\" of \",len(transactions),\".\",\n",
    "      \"\\nThat makes: \",round((1 - len(temp)/len(transactions))*100,2),\"%.\")"
   ]
  },
  {
   "cell_type": "code",
   "execution_count": 153,
   "id": "50eeeac6-9517-4285-a3c3-30fdccbe7ab3",
   "metadata": {},
   "outputs": [
    {
     "name": "stdout",
     "output_type": "stream",
     "text": [
      "This is the current amount of major categories 9\n"
     ]
    },
    {
     "data": {
      "text/plain": [
       "dailylife        166\n",
       "budgeted          15\n",
       "mobility          13\n",
       "cash              12\n",
       "rent              11\n",
       "grocery           10\n",
       "uncategorized      9\n",
       "revenue            8\n",
       "Provision          2\n",
       "Name: mcategory, dtype: int64"
      ]
     },
     "execution_count": 153,
     "metadata": {},
     "output_type": "execute_result"
    }
   ],
   "source": [
    "print(\"This is the current amount of major categories\", len(temp.groupby(['mcategory'])))\n",
    "temp['mcategory'].value_counts()"
   ]
  },
  {
   "cell_type": "code",
   "execution_count": 154,
   "id": "b6455361-8480-4613-9646-de54e25287c7",
   "metadata": {},
   "outputs": [],
   "source": [
    "revenues = temp.query('betrag_eur > 0')\n",
    "expenditures = temp.query('betrag_eur < 0')"
   ]
  },
  {
   "cell_type": "markdown",
   "id": "85c12d7d-d416-4ce7-9231-1c027895bcce",
   "metadata": {},
   "source": [
    "### iter-2 at first glance"
   ]
  },
  {
   "cell_type": "code",
   "execution_count": 155,
   "id": "9de823b3-dba6-4ee2-8213-92d45a5649b7",
   "metadata": {},
   "outputs": [],
   "source": [
    "# # check data for irregular transactions at first glance\n",
    "# df[['buchungsdatum','buchungsdetails','betrag_eur']].sort_values('betrag_eur')"
   ]
  },
  {
   "cell_type": "code",
   "execution_count": 156,
   "id": "6581c1b0-2b28-4097-86c2-202f7f7fe7df",
   "metadata": {},
   "outputs": [],
   "source": [
    "# # looking at expenditures\n",
    "# expenditures.sort_values('betrag_eur')\n",
    "# # looks fine! ready to go"
   ]
  },
  {
   "cell_type": "code",
   "execution_count": 157,
   "id": "e59bd6fb-a4aa-4010-87dd-07208f8b92b6",
   "metadata": {},
   "outputs": [],
   "source": [
    "# # looking at revenues\n",
    "# revenues.sort_values('betrag_eur')\n",
    "# # still some irregular transactions, which needs to be filtered"
   ]
  },
  {
   "cell_type": "code",
   "execution_count": 158,
   "id": "dfa3b211-7810-4d44-a269-8167c938778f",
   "metadata": {},
   "outputs": [],
   "source": [
    "# # basic statistics to expenditures\n",
    "# expenditures.describe()"
   ]
  },
  {
   "cell_type": "code",
   "execution_count": 159,
   "id": "cc4578fc-e827-4641-bc36-0d5a9a1a7643",
   "metadata": {},
   "outputs": [],
   "source": [
    "# # basic statistics to revenues\n",
    "# revenues.describe()"
   ]
  },
  {
   "cell_type": "code",
   "execution_count": 160,
   "id": "7fb29fbe-320d-4ba1-ad1c-df6936e3c794",
   "metadata": {},
   "outputs": [],
   "source": [
    "# # visualize how the distribution looks like\n",
    "# from matplotlib import pyplot as plt\n",
    "# import numpy as np\n",
    "\n",
    "# fig = plt.figure(figsize =(15, 2))\n",
    "# revenues[['betrag_eur']].boxplot(vert=False)\n",
    "# plt.suptitle(\"Boxplot\")\n",
    "# plt.title(\"Revenues\")\n",
    "# fig = plt.figure(figsize =(15, 2))\n",
    "# expenditures[['betrag_eur']].boxplot(vert=False)\n",
    "# plt.suptitle(\"Boxplot\")\n",
    "# plt.title(\"Expenditures\")\n",
    "# plt.subplots_adjust(left=0.1)\n",
    "\n",
    "# plt.rcParams[\"figure.figsize\"] = [12, 3.50]\n",
    "# plt.rcParams[\"figure.autolayout\"] = True\n",
    "\n",
    "# fig, axes = plt.subplots(1, 2)\n",
    "# plt.suptitle(\"Simple Plot\")\n",
    "# revenues.plot('betrag_eur', ax=axes[0], title = 'revenues', legend = False)\n",
    "# expenditures.plot('betrag_eur', ax=axes[1], title = 'expenditures', legend = False)\n",
    "\n",
    "# fig, axes = plt.subplots(1, 2)\n",
    "# plt.suptitle(\"Histogram\")\n",
    "# revenues.hist('betrag_eur', ax=axes[0], bins = 100)\n",
    "# expenditures.hist('betrag_eur', ax=axes[1], bins = 100)\n",
    "# plt.show()"
   ]
  },
  {
   "cell_type": "code",
   "execution_count": 161,
   "id": "b74b4bb8-4f12-46ac-8245-a399c49f572e",
   "metadata": {},
   "outputs": [],
   "source": [
    "# q1_revenue = np.percentile(revenues.betrag_eur, 25)\n",
    "# q1_revenue"
   ]
  },
  {
   "cell_type": "code",
   "execution_count": 162,
   "id": "cae05936-50db-4585-9315-bf51b1e81ecd",
   "metadata": {},
   "outputs": [],
   "source": [
    "# # Since some revenues are not in the usual range nore frequency --> irregular transactions we well.\n",
    "# revenues = revenues.query('betrag_eur > @q1_revenue')\n",
    "# revenues"
   ]
  },
  {
   "cell_type": "markdown",
   "id": "282d2400-9e51-498d-9329-ffb4fa499a71",
   "metadata": {},
   "source": [
    "### iter-3 by statistical ranges"
   ]
  },
  {
   "cell_type": "code",
   "execution_count": 163,
   "id": "b4d1ea5a-cfda-4213-b01f-254873b29381",
   "metadata": {},
   "outputs": [
    {
     "name": "stdout",
     "output_type": "stream",
     "text": [
      "This is the current length of all expenditures transactions: 238\n"
     ]
    }
   ],
   "source": [
    "print(\"This is the current length of all expenditures transactions:\",len(expenditures))"
   ]
  },
  {
   "cell_type": "code",
   "execution_count": 164,
   "id": "be5f26ac-4549-4693-9134-38aa82f7f7e3",
   "metadata": {},
   "outputs": [
    {
     "name": "stdout",
     "output_type": "stream",
     "text": [
      "This is the current length of all expenditures transactions: 233\n"
     ]
    }
   ],
   "source": [
    "# show only transactions sub categories with a frequency more than 1 \n",
    "temp = expenditures[['scategory']]\n",
    "expenditures = expenditures[temp.replace(temp.stack().value_counts()).gt(1).all(1)]\n",
    "print(\"This is the current length of all expenditures transactions:\",len(expenditures))"
   ]
  },
  {
   "cell_type": "code",
   "execution_count": 165,
   "id": "5063d1c9-77b5-466c-926f-5f4fd3f1575a",
   "metadata": {},
   "outputs": [
    {
     "name": "stdout",
     "output_type": "stream",
     "text": [
      "Amount of sub_categories for expenditures: 18 \n",
      "\n"
     ]
    },
    {
     "data": {
      "text/plain": [
       "'movies_dl'"
      ]
     },
     "execution_count": 165,
     "metadata": {},
     "output_type": "execute_result"
    }
   ],
   "source": [
    "print(\"Amount of sub_categories for expenditures:\", len(expenditures['scategory'].unique()),\"\\n\")\n",
    "arr = expenditures['scategory'].unique()\n",
    "arr[0]"
   ]
  },
  {
   "cell_type": "code",
   "execution_count": 166,
   "id": "2f720613-272d-49c1-986c-bee7cd2b232a",
   "metadata": {},
   "outputs": [
    {
     "data": {
      "text/html": [
       "<div>\n",
       "<style scoped>\n",
       "    .dataframe tbody tr th:only-of-type {\n",
       "        vertical-align: middle;\n",
       "    }\n",
       "\n",
       "    .dataframe tbody tr th {\n",
       "        vertical-align: top;\n",
       "    }\n",
       "\n",
       "    .dataframe thead th {\n",
       "        text-align: right;\n",
       "    }\n",
       "</style>\n",
       "<table border=\"1\" class=\"dataframe\">\n",
       "  <thead>\n",
       "    <tr style=\"text-align: right;\">\n",
       "      <th></th>\n",
       "      <th>scategory</th>\n",
       "      <th>min_r</th>\n",
       "      <th>max_r</th>\n",
       "      <th>median</th>\n",
       "      <th>mean</th>\n",
       "    </tr>\n",
       "  </thead>\n",
       "  <tbody>\n",
       "    <tr>\n",
       "      <th>0</th>\n",
       "      <td>movies_dl</td>\n",
       "      <td>-43.46</td>\n",
       "      <td>0.00</td>\n",
       "      <td>-3.99</td>\n",
       "      <td>-6.82</td>\n",
       "    </tr>\n",
       "    <tr>\n",
       "      <th>1</th>\n",
       "      <td>share_mobility_dl</td>\n",
       "      <td>-42.35</td>\n",
       "      <td>-1.28</td>\n",
       "      <td>-11.55</td>\n",
       "      <td>-13.27</td>\n",
       "    </tr>\n",
       "    <tr>\n",
       "      <th>2</th>\n",
       "      <td>smartphone_dl</td>\n",
       "      <td>-15.75</td>\n",
       "      <td>-11.41</td>\n",
       "      <td>-12.49</td>\n",
       "      <td>-13.03</td>\n",
       "    </tr>\n",
       "    <tr>\n",
       "      <th>3</th>\n",
       "      <td>food_delivery_dl</td>\n",
       "      <td>-68.76</td>\n",
       "      <td>-8.07</td>\n",
       "      <td>-23.24</td>\n",
       "      <td>-18.97</td>\n",
       "    </tr>\n",
       "    <tr>\n",
       "      <th>4</th>\n",
       "      <td>rent</td>\n",
       "      <td>-1164.03</td>\n",
       "      <td>0.00</td>\n",
       "      <td>-65.00</td>\n",
       "      <td>-276.83</td>\n",
       "    </tr>\n",
       "  </tbody>\n",
       "</table>\n",
       "</div>"
      ],
      "text/plain": [
       "           scategory    min_r  max_r  median    mean\n",
       "0          movies_dl   -43.46   0.00   -3.99   -6.82\n",
       "1  share_mobility_dl   -42.35  -1.28  -11.55  -13.27\n",
       "2      smartphone_dl   -15.75 -11.41  -12.49  -13.03\n",
       "3   food_delivery_dl   -68.76  -8.07  -23.24  -18.97\n",
       "4               rent -1164.03   0.00  -65.00 -276.83"
      ]
     },
     "execution_count": 166,
     "metadata": {},
     "output_type": "execute_result"
    }
   ],
   "source": [
    "# define a function for the range-builder based on median values\n",
    "b = []\n",
    "\n",
    "def range_builer(a):\n",
    "    for i in range(len(a)):\n",
    "        result = {}\n",
    "        result['min_r'] = round(\n",
    "            expenditures.query(\n",
    "                f'scategory == @arr[{i}]').median()[0],2)-round(\n",
    "            expenditures.query(\n",
    "                f'scategory == @arr[{i}]')[['betrag_eur']].std()[0]*3,2)\n",
    "        result['max_r'] = round(\n",
    "            expenditures.query(\n",
    "                f'scategory == @arr[{i}]').median()[0],2)+round(\n",
    "            expenditures.query(\n",
    "                f'scategory == @arr[{i}]')[['betrag_eur']].std()[0]*1,2)\n",
    "        result['median'] = round(\n",
    "            expenditures.query(\n",
    "                f'scategory == @arr[{i}]').median()[0],2)\n",
    "        result['mean'] = round(\n",
    "            expenditures.query(\n",
    "                f'scategory == @arr[{i}]').mean()[0],2)\n",
    "        b.append(result)\n",
    "    return b\n",
    "\n",
    "# arr = arr.tolist()\n",
    "sranges = pd.DataFrame(data={'scategory': arr})\n",
    "temp = pd.DataFrame(range_builer(arr))\n",
    "sranges = sranges.join(temp)\n",
    "\n",
    "# Since we are not interested in positive values for expenditures, we can set a suitable condition for max_range\n",
    "sranges = sranges.assign(max_r = lambda x: np.where(x['max_r']>0, 0, x['max_r']))\n",
    "sranges[:5]"
   ]
  },
  {
   "cell_type": "code",
   "execution_count": 167,
   "id": "208194d5-d5f3-4e20-bb4c-7b122ba56b7a",
   "metadata": {},
   "outputs": [
    {
     "data": {
      "text/html": [
       "<div>\n",
       "<style scoped>\n",
       "    .dataframe tbody tr th:only-of-type {\n",
       "        vertical-align: middle;\n",
       "    }\n",
       "\n",
       "    .dataframe tbody tr th {\n",
       "        vertical-align: top;\n",
       "    }\n",
       "\n",
       "    .dataframe thead th {\n",
       "        text-align: right;\n",
       "    }\n",
       "</style>\n",
       "<table border=\"1\" class=\"dataframe\">\n",
       "  <thead>\n",
       "    <tr style=\"text-align: right;\">\n",
       "      <th></th>\n",
       "      <th>buchungsdatum</th>\n",
       "      <th>buchungsdetails</th>\n",
       "      <th>betrag_eur</th>\n",
       "      <th>scategory</th>\n",
       "      <th>mcategory</th>\n",
       "      <th>min_r</th>\n",
       "      <th>max_r</th>\n",
       "      <th>median</th>\n",
       "      <th>mean</th>\n",
       "      <th>check</th>\n",
       "    </tr>\n",
       "  </thead>\n",
       "  <tbody>\n",
       "    <tr>\n",
       "      <th>4</th>\n",
       "      <td>2022-01-18</td>\n",
       "      <td>Takeaway.com PaymentsB.V., Ihr Einkauf bei Takeaway.comPayments B.V.</td>\n",
       "      <td>-1.15</td>\n",
       "      <td>food_delivery_dl</td>\n",
       "      <td>dailylife</td>\n",
       "      <td>-68.76</td>\n",
       "      <td>-8.07</td>\n",
       "      <td>-23.24</td>\n",
       "      <td>-18.97</td>\n",
       "      <td>out of range</td>\n",
       "    </tr>\n",
       "    <tr>\n",
       "      <th>14</th>\n",
       "      <td>2022-01-17</td>\n",
       "      <td>Takeaway.com PaymentsB.V., Ihr Einkauf bei Takeaway.comPayments B.V.</td>\n",
       "      <td>-1.82</td>\n",
       "      <td>food_delivery_dl</td>\n",
       "      <td>dailylife</td>\n",
       "      <td>-68.76</td>\n",
       "      <td>-8.07</td>\n",
       "      <td>-23.24</td>\n",
       "      <td>-18.97</td>\n",
       "      <td>out of range</td>\n",
       "    </tr>\n",
       "    <tr>\n",
       "      <th>38</th>\n",
       "      <td>2022-01-04</td>\n",
       "      <td>Takeaway.com PaymentsB.V., Ihr Einkauf bei Takeaway.comPayments B.V.</td>\n",
       "      <td>-1.25</td>\n",
       "      <td>food_delivery_dl</td>\n",
       "      <td>dailylife</td>\n",
       "      <td>-68.76</td>\n",
       "      <td>-8.07</td>\n",
       "      <td>-23.24</td>\n",
       "      <td>-18.97</td>\n",
       "      <td>out of range</td>\n",
       "    </tr>\n",
       "    <tr>\n",
       "      <th>66</th>\n",
       "      <td>2021-12-27</td>\n",
       "      <td>Voi Technology GermanyGmbH, Ihr Einkauf bei Voi Technology Germany GmbH</td>\n",
       "      <td>-1.06</td>\n",
       "      <td>share_mobility_dl</td>\n",
       "      <td>dailylife</td>\n",
       "      <td>-42.35</td>\n",
       "      <td>-1.28</td>\n",
       "      <td>-11.55</td>\n",
       "      <td>-13.27</td>\n",
       "      <td>out of range</td>\n",
       "    </tr>\n",
       "    <tr>\n",
       "      <th>86</th>\n",
       "      <td>2021-12-15</td>\n",
       "      <td>Apple Services, Ihr Einkauf bei Apple Services</td>\n",
       "      <td>-89.99</td>\n",
       "      <td>movies_dl</td>\n",
       "      <td>dailylife</td>\n",
       "      <td>-43.46</td>\n",
       "      <td>0.00</td>\n",
       "      <td>-3.99</td>\n",
       "      <td>-6.82</td>\n",
       "      <td>out of range</td>\n",
       "    </tr>\n",
       "  </tbody>\n",
       "</table>\n",
       "</div>"
      ],
      "text/plain": [
       "   buchungsdatum  \\\n",
       "4     2022-01-18   \n",
       "14    2022-01-17   \n",
       "38    2022-01-04   \n",
       "66    2021-12-27   \n",
       "86    2021-12-15   \n",
       "\n",
       "                                                            buchungsdetails  \\\n",
       "4      Takeaway.com PaymentsB.V., Ihr Einkauf bei Takeaway.comPayments B.V.   \n",
       "14     Takeaway.com PaymentsB.V., Ihr Einkauf bei Takeaway.comPayments B.V.   \n",
       "38     Takeaway.com PaymentsB.V., Ihr Einkauf bei Takeaway.comPayments B.V.   \n",
       "66  Voi Technology GermanyGmbH, Ihr Einkauf bei Voi Technology Germany GmbH   \n",
       "86                           Apple Services, Ihr Einkauf bei Apple Services   \n",
       "\n",
       "    betrag_eur          scategory  mcategory  min_r  max_r  median   mean  \\\n",
       "4        -1.15   food_delivery_dl  dailylife -68.76  -8.07  -23.24 -18.97   \n",
       "14       -1.82   food_delivery_dl  dailylife -68.76  -8.07  -23.24 -18.97   \n",
       "38       -1.25   food_delivery_dl  dailylife -68.76  -8.07  -23.24 -18.97   \n",
       "66       -1.06  share_mobility_dl  dailylife -42.35  -1.28  -11.55 -13.27   \n",
       "86      -89.99          movies_dl  dailylife -43.46   0.00   -3.99  -6.82   \n",
       "\n",
       "           check  \n",
       "4   out of range  \n",
       "14  out of range  \n",
       "38  out of range  \n",
       "66  out of range  \n",
       "86  out of range  "
      ]
     },
     "execution_count": 167,
     "metadata": {},
     "output_type": "execute_result"
    }
   ],
   "source": [
    "# range checker for irregular transaction out of their own categories range\n",
    "(\n",
    "expenditures\n",
    "    .merge(sranges, how='left', left_on='scategory', right_on='scategory')\n",
    "    .assign(check = lambda x: np.where((x['betrag_eur'] < x['min_r']) | \n",
    "                                        (x['betrag_eur'] > x['max_r']), \n",
    "                                        f\"out of range\", \n",
    "                                        f\"in range\"))\n",
    "    .query('check == \"out of range\"')\n",
    ")[:5]"
   ]
  },
  {
   "cell_type": "code",
   "execution_count": 168,
   "id": "f92228e3-a48b-4e8b-ae77-0a2e013aa784",
   "metadata": {},
   "outputs": [
    {
     "name": "stdout",
     "output_type": "stream",
     "text": [
      "In this transaction obversation, small expenditures were detected, mainly on food_delivery, \n",
      "which can be interepreted as seperate transactions for tips and not as irregelar transactions. \n",
      "Same goes for the amount on music purchase or shared mobility services ('share_mobility_dl').\n"
     ]
    }
   ],
   "source": [
    "print(\"In this transaction obversation, small expenditures were detected, mainly on food_delivery,\", \n",
    "\"\\nwhich can be interepreted as seperate transactions for tips and not as irregelar transactions.\",\n",
    "\"\\nSame goes for the amount on music purchase or shared mobility services ('share_mobility_dl').\" )"
   ]
  },
  {
   "cell_type": "code",
   "execution_count": 169,
   "id": "3014d65a-4098-4ef2-9dfc-96e360e1811b",
   "metadata": {},
   "outputs": [
    {
     "name": "stdout",
     "output_type": "stream",
     "text": [
      "The amount for irregular transactions on expenditures is: 5 \n",
      "\n"
     ]
    },
    {
     "data": {
      "text/html": [
       "<div>\n",
       "<style scoped>\n",
       "    .dataframe tbody tr th:only-of-type {\n",
       "        vertical-align: middle;\n",
       "    }\n",
       "\n",
       "    .dataframe tbody tr th {\n",
       "        vertical-align: top;\n",
       "    }\n",
       "\n",
       "    .dataframe thead th {\n",
       "        text-align: right;\n",
       "    }\n",
       "</style>\n",
       "<table border=\"1\" class=\"dataframe\">\n",
       "  <thead>\n",
       "    <tr style=\"text-align: right;\">\n",
       "      <th></th>\n",
       "      <th>buchungsdatum</th>\n",
       "      <th>buchungsdetails</th>\n",
       "      <th>betrag_eur</th>\n",
       "      <th>scategory</th>\n",
       "      <th>mcategory</th>\n",
       "      <th>min_r</th>\n",
       "      <th>max_r</th>\n",
       "      <th>median</th>\n",
       "      <th>mean</th>\n",
       "      <th>check</th>\n",
       "    </tr>\n",
       "  </thead>\n",
       "  <tbody>\n",
       "    <tr>\n",
       "      <th>86</th>\n",
       "      <td>2021-12-15</td>\n",
       "      <td>Apple Services, Ihr Einkauf bei Apple Services</td>\n",
       "      <td>-89.99</td>\n",
       "      <td>movies_dl</td>\n",
       "      <td>dailylife</td>\n",
       "      <td>-43.46</td>\n",
       "      <td>0.00</td>\n",
       "      <td>-3.99</td>\n",
       "      <td>-6.82</td>\n",
       "      <td>out of range</td>\n",
       "    </tr>\n",
       "    <tr>\n",
       "      <th>137</th>\n",
       "      <td>2021-11-24</td>\n",
       "      <td>iTunes and App Store,Ihr Einkauf bei iTunes and App Store</td>\n",
       "      <td>-14.99</td>\n",
       "      <td>music_dl</td>\n",
       "      <td>dailylife</td>\n",
       "      <td>-12.78</td>\n",
       "      <td>-1.06</td>\n",
       "      <td>-3.99</td>\n",
       "      <td>-4.37</td>\n",
       "      <td>out of range</td>\n",
       "    </tr>\n",
       "  </tbody>\n",
       "</table>\n",
       "</div>"
      ],
      "text/plain": [
       "    buchungsdatum                                            buchungsdetails  \\\n",
       "86     2021-12-15             Apple Services, Ihr Einkauf bei Apple Services   \n",
       "137    2021-11-24  iTunes and App Store,Ihr Einkauf bei iTunes and App Store   \n",
       "\n",
       "     betrag_eur  scategory  mcategory  min_r  max_r  median  mean  \\\n",
       "86       -89.99  movies_dl  dailylife -43.46   0.00   -3.99 -6.82   \n",
       "137      -14.99   music_dl  dailylife -12.78  -1.06   -3.99 -4.37   \n",
       "\n",
       "            check  \n",
       "86   out of range  \n",
       "137  out of range  "
      ]
     },
     "execution_count": 169,
     "metadata": {},
     "output_type": "execute_result"
    }
   ],
   "source": [
    "# small expenditures are detected on food_delivery, which are seperate tips and not as irregelar transactions\n",
    "# range checker for irregular transaction out of their own categories range and more positive then their avg.\n",
    "rangechecker = (\n",
    "expenditures\n",
    "    .merge(sranges, how='left', left_on='scategory', right_on='scategory')\n",
    "    .assign(check = lambda x: np.where((x['betrag_eur'] < x['min_r']) | \n",
    "                                        ((x['betrag_eur'] > x['max_r']) & \n",
    "                                         (x['betrag_eur'] < x['mean'])), \n",
    "                                        f\"out of range\", \n",
    "                                        f\"in range\"))\n",
    "    .query('check == \"out of range\"')\n",
    ")\n",
    "print(\"The amount for irregular transactions on expenditures is:\",len(rangechecker),\"\\n\")\n",
    "rangechecker[:2]"
   ]
  },
  {
   "cell_type": "code",
   "execution_count": 170,
   "id": "98331246-a213-451c-8ba6-2390b1614474",
   "metadata": {},
   "outputs": [],
   "source": [
    "expenditures = (\n",
    "expenditures\n",
    "    .merge(sranges, how='left', left_on='scategory', right_on='scategory')\n",
    "    .assign(check = lambda x: np.where((x['betrag_eur'] < x['min_r']) | \n",
    "                                        ((x['betrag_eur'] > x['max_r']) & \n",
    "                                         (x['betrag_eur'] < x['mean'])), \n",
    "                                        f\"out of range\", \n",
    "                                        f\"in range\"))\n",
    "    .query('check == \"in range\"')\n",
    ")\n",
    "expenditures.drop(['min_r', 'max_r', 'median', 'mean', 'check'], axis=1, inplace=True)"
   ]
  },
  {
   "cell_type": "code",
   "execution_count": 171,
   "id": "19d6d0a5-587a-4396-83de-291232b22912",
   "metadata": {},
   "outputs": [
    {
     "name": "stdout",
     "output_type": "stream",
     "text": [
      "Length of new regular expenditures: 228 \n",
      "\n"
     ]
    },
    {
     "data": {
      "text/html": [
       "<div>\n",
       "<style scoped>\n",
       "    .dataframe tbody tr th:only-of-type {\n",
       "        vertical-align: middle;\n",
       "    }\n",
       "\n",
       "    .dataframe tbody tr th {\n",
       "        vertical-align: top;\n",
       "    }\n",
       "\n",
       "    .dataframe thead th {\n",
       "        text-align: right;\n",
       "    }\n",
       "</style>\n",
       "<table border=\"1\" class=\"dataframe\">\n",
       "  <thead>\n",
       "    <tr style=\"text-align: right;\">\n",
       "      <th></th>\n",
       "      <th>buchungsdatum</th>\n",
       "      <th>buchungsdetails</th>\n",
       "      <th>betrag_eur</th>\n",
       "      <th>scategory</th>\n",
       "      <th>mcategory</th>\n",
       "    </tr>\n",
       "  </thead>\n",
       "  <tbody>\n",
       "    <tr>\n",
       "      <th>0</th>\n",
       "      <td>2022-01-21</td>\n",
       "      <td>Apple Services, Ihr Einkauf bei Apple Services</td>\n",
       "      <td>-0.69</td>\n",
       "      <td>movies_dl</td>\n",
       "      <td>dailylife</td>\n",
       "    </tr>\n",
       "    <tr>\n",
       "      <th>1</th>\n",
       "      <td>2022-01-19</td>\n",
       "      <td>Apple Services, Ihr Einkauf bei Apple Services</td>\n",
       "      <td>-0.99</td>\n",
       "      <td>movies_dl</td>\n",
       "      <td>dailylife</td>\n",
       "    </tr>\n",
       "  </tbody>\n",
       "</table>\n",
       "</div>"
      ],
      "text/plain": [
       "  buchungsdatum                                 buchungsdetails  betrag_eur  \\\n",
       "0    2022-01-21  Apple Services, Ihr Einkauf bei Apple Services       -0.69   \n",
       "1    2022-01-19  Apple Services, Ihr Einkauf bei Apple Services       -0.99   \n",
       "\n",
       "   scategory  mcategory  \n",
       "0  movies_dl  dailylife  \n",
       "1  movies_dl  dailylife  "
      ]
     },
     "execution_count": 171,
     "metadata": {},
     "output_type": "execute_result"
    }
   ],
   "source": [
    "print(\"Length of new regular expenditures:\",len(expenditures),\"\\n\")\n",
    "expenditures[:2]"
   ]
  },
  {
   "cell_type": "code",
   "execution_count": 172,
   "id": "4f23ce0c-2915-4036-82ed-44e22747ddec",
   "metadata": {},
   "outputs": [],
   "source": [
    "out_of_range_info = rangechecker[['buchungsdatum','buchungsdetails','betrag_eur']]\n",
    "out_of_range_info = out_of_range_info.assign(buchungsdetails = lambda x: x['buchungsdetails'].str[:25])"
   ]
  },
  {
   "cell_type": "code",
   "execution_count": 173,
   "id": "c55b5070-590f-48ab-971b-54fa6161dd93",
   "metadata": {},
   "outputs": [
    {
     "name": "stdout",
     "output_type": "stream",
     "text": [
      "The amount for irregular transactions on revenues is: 1 \n",
      "\n"
     ]
    },
    {
     "data": {
      "text/html": [
       "<div>\n",
       "<style scoped>\n",
       "    .dataframe tbody tr th:only-of-type {\n",
       "        vertical-align: middle;\n",
       "    }\n",
       "\n",
       "    .dataframe tbody tr th {\n",
       "        vertical-align: top;\n",
       "    }\n",
       "\n",
       "    .dataframe thead th {\n",
       "        text-align: right;\n",
       "    }\n",
       "</style>\n",
       "<table border=\"1\" class=\"dataframe\">\n",
       "  <thead>\n",
       "    <tr style=\"text-align: right;\">\n",
       "      <th></th>\n",
       "      <th>buchungsdatum</th>\n",
       "      <th>buchungsdetails</th>\n",
       "      <th>betrag_eur</th>\n",
       "      <th>scategory</th>\n",
       "      <th>mcategory</th>\n",
       "    </tr>\n",
       "  </thead>\n",
       "  <tbody>\n",
       "    <tr>\n",
       "      <th>81</th>\n",
       "      <td>2021-12-28</td>\n",
       "      <td>Referenz ETE20551590853202112201821220001321VerwendungszweckENTGELTUEBERWEISUNG 12.2021</td>\n",
       "      <td>3134.22</td>\n",
       "      <td>revenue</td>\n",
       "      <td>revenue</td>\n",
       "    </tr>\n",
       "    <tr>\n",
       "      <th>85</th>\n",
       "      <td>2021-12-27</td>\n",
       "      <td>Referenz 000000009802VerwendungszweckMiete</td>\n",
       "      <td>483.44</td>\n",
       "      <td>revenue</td>\n",
       "      <td>revenue</td>\n",
       "    </tr>\n",
       "    <tr>\n",
       "      <th>162</th>\n",
       "      <td>2021-11-26</td>\n",
       "      <td>Referenz 7832101090-0090853LG0000VerwendungszweckLOHN / GEHALT 11/21</td>\n",
       "      <td>548.46</td>\n",
       "      <td>revenue</td>\n",
       "      <td>revenue</td>\n",
       "    </tr>\n",
       "    <tr>\n",
       "      <th>163</th>\n",
       "      <td>2021-11-26</td>\n",
       "      <td>Referenz ETE20551590853202111231822040001448VerwendungszweckENTGELTUEBERWEISUNG 11.2021</td>\n",
       "      <td>3185.56</td>\n",
       "      <td>revenue</td>\n",
       "      <td>revenue</td>\n",
       "    </tr>\n",
       "    <tr>\n",
       "      <th>168</th>\n",
       "      <td>2021-11-25</td>\n",
       "      <td>Referenz 000000009802VerwendungszweckMiete</td>\n",
       "      <td>473.44</td>\n",
       "      <td>revenue</td>\n",
       "      <td>revenue</td>\n",
       "    </tr>\n",
       "  </tbody>\n",
       "</table>\n",
       "</div>"
      ],
      "text/plain": [
       "    buchungsdatum  \\\n",
       "81     2021-12-28   \n",
       "85     2021-12-27   \n",
       "162    2021-11-26   \n",
       "163    2021-11-26   \n",
       "168    2021-11-25   \n",
       "\n",
       "                                                                             buchungsdetails  \\\n",
       "81   Referenz ETE20551590853202112201821220001321VerwendungszweckENTGELTUEBERWEISUNG 12.2021   \n",
       "85                                                Referenz 000000009802VerwendungszweckMiete   \n",
       "162                     Referenz 7832101090-0090853LG0000VerwendungszweckLOHN / GEHALT 11/21   \n",
       "163  Referenz ETE20551590853202111231822040001448VerwendungszweckENTGELTUEBERWEISUNG 11.2021   \n",
       "168                                               Referenz 000000009802VerwendungszweckMiete   \n",
       "\n",
       "     betrag_eur scategory mcategory  \n",
       "81      3134.22   revenue   revenue  \n",
       "85       483.44   revenue   revenue  \n",
       "162      548.46   revenue   revenue  \n",
       "163     3185.56   revenue   revenue  \n",
       "168      473.44   revenue   revenue  "
      ]
     },
     "execution_count": 173,
     "metadata": {},
     "output_type": "execute_result"
    }
   ],
   "source": [
    "# similar procedure for revenues, where we consider all incomes which are .5x bigger then the revenue median.\n",
    "temp = (\n",
    "revenues\n",
    "    .assign(check = lambda x: np.where((x['betrag_eur'] < (.5*revenues.median()[0])), \n",
    "                                           f\"out of range\", f\"in range\"))\n",
    "    .query('check == \"in range\"')\n",
    ")\n",
    "print(\"The amount for irregular transactions on revenues is:\",len(revenues)-len(temp),\"\\n\")\n",
    "temp.drop(['check'], axis=1, inplace=True)\n",
    "revenues = temp\n",
    "revenues[:5]"
   ]
  },
  {
   "cell_type": "code",
   "execution_count": 174,
   "id": "8409eca2-f595-421e-a53b-007b06ba6305",
   "metadata": {},
   "outputs": [],
   "source": [
    "# # inform user in a seperate window\n",
    "# from tkinter import *\n",
    "# if len(rangechecker) > 0: \n",
    "#     root = Tk() \n",
    "#     a = Label(root, \n",
    "#               text = \"There have been some irregular transactions detected, which\"\n",
    "#               +\"\\n doesn't fit to your regular beahviour:\\n\\n\"+str(out_of_range_info)\n",
    "#               +\"\"\"\n",
    "#                 ──────────▀█───────────────────▀█─\n",
    "#                 ──────────▄█───────────────────▄█─\n",
    "#                 ──█████████▀───────────█████████▀─\n",
    "#                 ───▄██████▄─────────────▄██████▄──\n",
    "#                 ─▄██▀────▀██▄─────────▄██▀────▀██▄\n",
    "#                 ─██────────██─────────██────────██\n",
    "#                 ─██───██───██─────────██───██───██\n",
    "#                 ─██────────██─────────██────────██\n",
    "#                 ──██▄────▄██───────────██▄────▄██─\n",
    "#                 ───▀██████▀─────────────▀██████▀──\"\"\",\n",
    "#               height=20, width=50)\n",
    "#     a.config(font=('Helvatical bold',32))\n",
    "#     a.pack() \n",
    "#     root.mainloop()\n",
    "# else:\n",
    "#     root = Tk() \n",
    "#     a = Label(root, \n",
    "#               text = (\"No irregular transactions have been spoted! :-) \"),\n",
    "#               height=20, width=50) \n",
    "#     a.config(font=('Helvatical bold',32))\n",
    "#     a.pack() \n",
    "#     root.mainloop()"
   ]
  },
  {
   "cell_type": "markdown",
   "id": "5927a069-aa2d-4de9-96c5-7da4d022b160",
   "metadata": {},
   "source": [
    "### ? boxplot sub categories"
   ]
  },
  {
   "cell_type": "code",
   "execution_count": 175,
   "id": "26309984-4fe5-40e7-ab78-b2312e42f3d4",
   "metadata": {},
   "outputs": [],
   "source": [
    "# import numpy as np\n",
    "# from scipy.stats import norm\n",
    "# import matplotlib.pyplot as plt\n",
    "\n",
    "# plt.rcParams[\"figure.figsize\"] = [12, 2.50]\n",
    "# plt.rcParams[\"figure.autolayout\"] = True\n",
    "\n",
    "# for i in range(len(arr)):\n",
    "#     data = expenditures.query(f'scategory == @arr[{i}]')[['betrag_eur']]\n",
    "#     mu, std = norm.fit(data)\n",
    "#     plt.hist(data, bins=50, width=1, density=True, alpha=0.6, color='g', edgecolor='grey')\n",
    "\n",
    "#     xmin, xmax = plt.xlim()\n",
    "#     x = np.linspace(xmin, xmax, 100)\n",
    "#     p = norm.pdf(x, mu, std)\n",
    "\n",
    "#     plt.plot(x, p, 'k', linewidth=2)\n",
    "#     title = arr[i]+\", mean = {:.2f} and std = {:.2f}\".format(mu, std)\n",
    "#     plt.title(title)\n",
    "#     plt.show()"
   ]
  },
  {
   "cell_type": "markdown",
   "id": "56e28164-5cbe-4596-9900-cc760b061de1",
   "metadata": {},
   "source": [
    "## monthly overviews"
   ]
  },
  {
   "cell_type": "markdown",
   "id": "45780255-aeb0-48ba-8174-739b69ce4acf",
   "metadata": {},
   "source": [
    "### understanding revenues"
   ]
  },
  {
   "cell_type": "code",
   "execution_count": 176,
   "id": "c2f68040-8418-44eb-96c6-6a8113948f3c",
   "metadata": {},
   "outputs": [],
   "source": [
    "# import numpy as np\n",
    "# from scipy.stats import norm\n",
    "# import matplotlib.pyplot as plt\n",
    "\n",
    "# data = revenues['betrag_eur']\n",
    "# mu, std = norm.fit(data)\n",
    "# plt.hist(data, bins=50, density=True, alpha=0.8, color='g')\n",
    "\n",
    "# xmin, xmax = plt.xlim()\n",
    "# x = np.linspace(xmin, xmax, 100)\n",
    "# p = norm.pdf(x, mu, std)\n",
    "\n",
    "# plt.plot(x, p, 'k', linewidth=2)\n",
    "# title = \"Revnues mean = {:.2f} and std = {:.2f}\".format(mu, std)\n",
    "# plt.title(title)\n",
    "# plt.show()\n",
    "\n",
    "# x = np.arange((data.mean()-3*data.std()), (data.mean()+3*data.std()), 1)\n",
    "# y = norm.pdf(x,data.std(), data.mean())\n",
    "\n",
    "# fig, ax = plt.subplots(figsize=(6,4))\n",
    "# ax.plot(x,y, color=\"g\")\n",
    "\n",
    "# ax.set_title('Normal gaussian curve for revenues')\n",
    "# plt.style.use('seaborn-whitegrid')\n",
    "# plt.show()"
   ]
  },
  {
   "cell_type": "code",
   "execution_count": 177,
   "id": "c362ac39-0576-4a57-83e8-7419e09d5c59",
   "metadata": {},
   "outputs": [
    {
     "name": "stdout",
     "output_type": "stream",
     "text": [
      "The length of both table are equal: 7 transactions.\n"
     ]
    },
    {
     "data": {
      "text/html": [
       "<div>\n",
       "<style scoped>\n",
       "    .dataframe tbody tr th:only-of-type {\n",
       "        vertical-align: middle;\n",
       "    }\n",
       "\n",
       "    .dataframe tbody tr th {\n",
       "        vertical-align: top;\n",
       "    }\n",
       "\n",
       "    .dataframe thead th {\n",
       "        text-align: right;\n",
       "    }\n",
       "</style>\n",
       "<table border=\"1\" class=\"dataframe\">\n",
       "  <thead>\n",
       "    <tr style=\"text-align: right;\">\n",
       "      <th></th>\n",
       "      <th>buchungsdatum</th>\n",
       "      <th>buchungsdetails</th>\n",
       "      <th>betrag_eur</th>\n",
       "      <th>scategory</th>\n",
       "      <th>mcategory</th>\n",
       "      <th>wertstellung</th>\n",
       "      <th>umsatzart</th>\n",
       "      <th>auftraggeber</th>\n",
       "      <th>empfaenger</th>\n",
       "      <th>saldo</th>\n",
       "    </tr>\n",
       "  </thead>\n",
       "  <tbody>\n",
       "    <tr>\n",
       "      <th>81</th>\n",
       "      <td>2021-12-28</td>\n",
       "      <td>Referenz ETE20551590853202112201821220001321VerwendungszweckENTGELTUEBERWEISUNG 12.2021</td>\n",
       "      <td>3134.22</td>\n",
       "      <td>revenue</td>\n",
       "      <td>revenue</td>\n",
       "      <td>2021-12-28</td>\n",
       "      <td>Gehalt/Rente</td>\n",
       "      <td>mypegasus-Transfer-GmbH</td>\n",
       "      <td>Rias Nazary</td>\n",
       "      <td>13435.18</td>\n",
       "    </tr>\n",
       "    <tr>\n",
       "      <th>85</th>\n",
       "      <td>2021-12-27</td>\n",
       "      <td>Referenz 000000009802VerwendungszweckMiete</td>\n",
       "      <td>483.44</td>\n",
       "      <td>revenue</td>\n",
       "      <td>revenue</td>\n",
       "      <td>2021-12-27</td>\n",
       "      <td>Dauergutschrift</td>\n",
       "      <td>Lisa Pataczek</td>\n",
       "      <td>Rias Nazary</td>\n",
       "      <td>10405.75</td>\n",
       "    </tr>\n",
       "  </tbody>\n",
       "</table>\n",
       "</div>"
      ],
      "text/plain": [
       "   buchungsdatum  \\\n",
       "81    2021-12-28   \n",
       "85    2021-12-27   \n",
       "\n",
       "                                                                            buchungsdetails  \\\n",
       "81  Referenz ETE20551590853202112201821220001321VerwendungszweckENTGELTUEBERWEISUNG 12.2021   \n",
       "85                                               Referenz 000000009802VerwendungszweckMiete   \n",
       "\n",
       "    betrag_eur scategory mcategory wertstellung        umsatzart  \\\n",
       "81     3134.22   revenue   revenue   2021-12-28     Gehalt/Rente   \n",
       "85      483.44   revenue   revenue   2021-12-27  Dauergutschrift   \n",
       "\n",
       "               auftraggeber   empfaenger     saldo  \n",
       "81  mypegasus-Transfer-GmbH  Rias Nazary  13435.18  \n",
       "85            Lisa Pataczek  Rias Nazary  10405.75  "
      ]
     },
     "execution_count": 177,
     "metadata": {},
     "output_type": "execute_result"
    }
   ],
   "source": [
    "temp = pd.merge(revenues, transactions)\n",
    "temp.set_index(revenues.index,inplace=True)\n",
    "if len(temp) == len(revenues):\n",
    "    print(\"The length of both table are equal:\",len(temp),\"transactions.\")\n",
    "temp[:2]"
   ]
  },
  {
   "cell_type": "code",
   "execution_count": 178,
   "id": "47fd357a-d9cb-466f-a1aa-95a5d22ba8b1",
   "metadata": {},
   "outputs": [
    {
     "data": {
      "text/plain": [
       "3"
      ]
     },
     "execution_count": 178,
     "metadata": {},
     "output_type": "execute_result"
    }
   ],
   "source": [
    "# This is the amount of numbers, where revenues where received\n",
    "freq = (\n",
    "temp\n",
    "    .assign(year = revenues['buchungsdatum'].dt.strftime('%Y'), \n",
    "           month = revenues['buchungsdatum'].dt.strftime('%b'))\n",
    "    .groupby(['year','month'])\n",
    "    .agg({'betrag_eur':'sum'})\n",
    "    .sort_values(['month'], ascending=False)\n",
    "    .count()[0]\n",
    ")\n",
    "freq"
   ]
  },
  {
   "cell_type": "code",
   "execution_count": 179,
   "id": "b9cf3185-22e9-4d60-a90f-8b81ffe8e6d1",
   "metadata": {},
   "outputs": [
    {
     "data": {
      "text/plain": [
       "True"
      ]
     },
     "execution_count": 179,
     "metadata": {},
     "output_type": "execute_result"
    }
   ],
   "source": [
    "# Revenues, which are 80% of their mean and equals the frequency of received revenues\n",
    "top80rev = temp[temp['betrag_eur'] > temp['betrag_eur'].mean()*.8][['betrag_eur']].count()[0]\n",
    "top80rev == freq"
   ]
  },
  {
   "cell_type": "code",
   "execution_count": 180,
   "id": "d570f90a-bc20-4df0-a7b5-ec4a5b4cdc2d",
   "metadata": {},
   "outputs": [
    {
     "name": "stdout",
     "output_type": "stream",
     "text": [
      " Seems like your regular employer is:\n",
      "\n",
      "    mypegasus-Transfer-GmbH .\n",
      "\n",
      " Your average income is:\n",
      "\n",
      "    3134.22  Euro\n",
      "\n",
      "\n"
     ]
    }
   ],
   "source": [
    "# Identify the employer\n",
    "employer = temp[temp['betrag_eur'] > temp['betrag_eur'].mean()*.8][['auftraggeber']].iat[0,0]\n",
    "income = temp.query('auftraggeber == @employer')[['betrag_eur']].mean()[0]\n",
    "\n",
    "print(\" Seems like your regular employer is:\\n\\n   \",employer,\n",
    "      \".\\n\\n Your average income is:\\n\\n   \",\n",
    "      income,\" Euro\\n\\n\")"
   ]
  },
  {
   "cell_type": "code",
   "execution_count": 181,
   "id": "bb175292-4ef7-4bf7-96b2-36661be926e1",
   "metadata": {},
   "outputs": [
    {
     "name": "stdout",
     "output_type": "stream",
     "text": [
      "Your average income of 3134.22 Euro makes 82.61 % of your average revenue. \n",
      "That means, that 17.0 % are from different money source(s).\n"
     ]
    }
   ],
   "source": [
    "# Since there are more then 1 revenue type, we can also show the total revenue per month\n",
    "mon_rev = (\n",
    "revenues\n",
    "    .assign(year = revenues['buchungsdatum'].dt.strftime('%Y'), \n",
    "           month = revenues['buchungsdatum'].dt.strftime('%b'))\n",
    "    .groupby(['year','month'])\n",
    "    .agg({'betrag_eur':'sum'})\n",
    "    .sort_values(['year'], ascending=False)\n",
    ")\n",
    "# Here we can see, that payments are not always paid in same time frames\n",
    "print(\"Your average income of\",income,\n",
    "      \"Euro makes\",round((income*100/mon_rev.mean()[0]),2),\"% of your average revenue.\",\n",
    "     \"\\nThat means, that\",round(1-(income/mon_rev.mean()[0]),2)*100,\"% are from different money source(s).\")"
   ]
  },
  {
   "cell_type": "code",
   "execution_count": 182,
   "id": "88bc456c-207b-4a3f-b042-ca61885ffe8c",
   "metadata": {},
   "outputs": [
    {
     "data": {
      "text/html": [
       "<div>\n",
       "<style scoped>\n",
       "    .dataframe tbody tr th:only-of-type {\n",
       "        vertical-align: middle;\n",
       "    }\n",
       "\n",
       "    .dataframe tbody tr th {\n",
       "        vertical-align: top;\n",
       "    }\n",
       "\n",
       "    .dataframe thead th {\n",
       "        text-align: right;\n",
       "    }\n",
       "</style>\n",
       "<table border=\"1\" class=\"dataframe\">\n",
       "  <thead>\n",
       "    <tr style=\"text-align: right;\">\n",
       "      <th></th>\n",
       "      <th></th>\n",
       "      <th>betrag_eur</th>\n",
       "    </tr>\n",
       "    <tr>\n",
       "      <th>year</th>\n",
       "      <th>month</th>\n",
       "      <th></th>\n",
       "    </tr>\n",
       "  </thead>\n",
       "  <tbody>\n",
       "    <tr>\n",
       "      <th rowspan=\"3\" valign=\"top\">2021</th>\n",
       "      <th>Dec</th>\n",
       "      <td>3617.66</td>\n",
       "    </tr>\n",
       "    <tr>\n",
       "      <th>Nov</th>\n",
       "      <td>4207.46</td>\n",
       "    </tr>\n",
       "    <tr>\n",
       "      <th>Oct</th>\n",
       "      <td>3556.32</td>\n",
       "    </tr>\n",
       "  </tbody>\n",
       "</table>\n",
       "</div>"
      ],
      "text/plain": [
       "            betrag_eur\n",
       "year month            \n",
       "2021 Dec       3617.66\n",
       "     Nov       4207.46\n",
       "     Oct       3556.32"
      ]
     },
     "execution_count": 182,
     "metadata": {},
     "output_type": "execute_result"
    }
   ],
   "source": [
    "mon_rev"
   ]
  },
  {
   "cell_type": "code",
   "execution_count": 462,
   "id": "3ed6ae19-1509-478b-a4fb-19fec3acd45e",
   "metadata": {},
   "outputs": [
    {
     "data": {
      "text/plain": [
       "3793.81"
      ]
     },
     "execution_count": 462,
     "metadata": {},
     "output_type": "execute_result"
    }
   ],
   "source": [
    "# Define average revenue\n",
    "avg_revenue = round(mon_rev.mean()[0],2)\n",
    "avg_revenue"
   ]
  },
  {
   "cell_type": "code",
   "execution_count": 185,
   "id": "97b252fc-7a4d-4ac3-8d36-f170ff838917",
   "metadata": {},
   "outputs": [],
   "source": [
    "# # some funny stuff\n",
    "# import sys\n",
    "# import time\n",
    "# def delay_print(s):\n",
    "#     for c in s:\n",
    "#         sys.stdout.write(c)\n",
    "#         sys.stdout.flush()\n",
    "#         time.sleep(0.05)\n",
    "# delay_print(\" Seems like your employer is:\\n\\n\\n\\n                                  \"\n",
    "#             +employer+\".\\n\\n\\n\\n Further calculations will be made with this income.\")"
   ]
  },
  {
   "cell_type": "markdown",
   "id": "5da6d40e-0daa-4501-a7bc-9141de429c75",
   "metadata": {},
   "source": [
    "### understanding expenditures"
   ]
  },
  {
   "cell_type": "code",
   "execution_count": 186,
   "id": "78ea9411-4ce1-4d0d-8ed0-50aad90f89de",
   "metadata": {},
   "outputs": [
    {
     "name": "stdout",
     "output_type": "stream",
     "text": [
      "length: 59\n"
     ]
    },
    {
     "data": {
      "text/html": [
       "<div>\n",
       "<style scoped>\n",
       "    .dataframe tbody tr th:only-of-type {\n",
       "        vertical-align: middle;\n",
       "    }\n",
       "\n",
       "    .dataframe tbody tr th {\n",
       "        vertical-align: top;\n",
       "    }\n",
       "\n",
       "    .dataframe thead th {\n",
       "        text-align: right;\n",
       "    }\n",
       "</style>\n",
       "<table border=\"1\" class=\"dataframe\">\n",
       "  <thead>\n",
       "    <tr style=\"text-align: right;\">\n",
       "      <th></th>\n",
       "      <th></th>\n",
       "      <th></th>\n",
       "      <th></th>\n",
       "      <th>betrag_eur</th>\n",
       "      <th>rate</th>\n",
       "      <th>restrate</th>\n",
       "    </tr>\n",
       "    <tr>\n",
       "      <th>year</th>\n",
       "      <th>month</th>\n",
       "      <th>scategory</th>\n",
       "      <th>mcategory</th>\n",
       "      <th></th>\n",
       "      <th></th>\n",
       "      <th></th>\n",
       "    </tr>\n",
       "  </thead>\n",
       "  <tbody>\n",
       "    <tr>\n",
       "      <th rowspan=\"5\" valign=\"top\">2022</th>\n",
       "      <th rowspan=\"5\" valign=\"top\">Jan</th>\n",
       "      <th>building_savings</th>\n",
       "      <th>cash</th>\n",
       "      <td>-250.00</td>\n",
       "      <td>0.07</td>\n",
       "      <td>0.93</td>\n",
       "    </tr>\n",
       "    <tr>\n",
       "      <th>food_delivery_dl</th>\n",
       "      <th>dailylife</th>\n",
       "      <td>-156.18</td>\n",
       "      <td>0.04</td>\n",
       "      <td>0.96</td>\n",
       "    </tr>\n",
       "    <tr>\n",
       "      <th>grocery</th>\n",
       "      <th>grocery</th>\n",
       "      <td>-491.74</td>\n",
       "      <td>0.13</td>\n",
       "      <td>0.87</td>\n",
       "    </tr>\n",
       "    <tr>\n",
       "      <th>holiday</th>\n",
       "      <th>budgeted</th>\n",
       "      <td>-250.00</td>\n",
       "      <td>0.07</td>\n",
       "      <td>0.93</td>\n",
       "    </tr>\n",
       "    <tr>\n",
       "      <th>mobility</th>\n",
       "      <th>mobility</th>\n",
       "      <td>-2.55</td>\n",
       "      <td>0.00</td>\n",
       "      <td>1.00</td>\n",
       "    </tr>\n",
       "  </tbody>\n",
       "</table>\n",
       "</div>"
      ],
      "text/plain": [
       "                                       betrag_eur  rate  restrate\n",
       "year month scategory        mcategory                            \n",
       "2022 Jan   building_savings cash          -250.00  0.07      0.93\n",
       "           food_delivery_dl dailylife     -156.18  0.04      0.96\n",
       "           grocery          grocery       -491.74  0.13      0.87\n",
       "           holiday          budgeted      -250.00  0.07      0.93\n",
       "           mobility         mobility        -2.55  0.00      1.00"
      ]
     },
     "execution_count": 186,
     "metadata": {},
     "output_type": "execute_result"
    }
   ],
   "source": [
    "# expenditures are easier to grab when ratios to revenues are build\n",
    "mon_exp = (\n",
    "expenditures\n",
    "    .assign(year = expenditures['buchungsdatum'].dt.strftime('%Y'), \n",
    "           month = expenditures['buchungsdatum'].dt.strftime('%b'))\n",
    "    .groupby(['year','month','scategory','mcategory'])\n",
    "    .agg({'betrag_eur':'sum'})\n",
    "    .sort_values(['year', 'month'], ascending=False)\n",
    ")\n",
    "\n",
    "b = []\n",
    "\n",
    "def rate_builder(a):\n",
    "    for i in range(len(a)):\n",
    "        result = {}\n",
    "        result['rate'] = round((abs(a[['betrag_eur']].iat[i,0])/avg_revenue),2)\n",
    "        result['restrate'] = round((1-(abs(a[['betrag_eur']].iat[i,0])/avg_revenue)),2)\n",
    "        b.append(result)\n",
    "    return b\n",
    "\n",
    "temp = pd.DataFrame(rate_builder(mon_exp))\n",
    "temp.set_index(mon_exp.index,inplace=True)\n",
    "mon_exp = mon_exp.join(temp)\n",
    "print(\"length:\",len(mon_exp))\n",
    "mon_exp[:5]"
   ]
  },
  {
   "cell_type": "code",
   "execution_count": 187,
   "id": "456a1d58-2407-4912-b99e-4cfd362504c7",
   "metadata": {},
   "outputs": [
    {
     "data": {
      "text/html": [
       "<div>\n",
       "<style scoped>\n",
       "    .dataframe tbody tr th:only-of-type {\n",
       "        vertical-align: middle;\n",
       "    }\n",
       "\n",
       "    .dataframe tbody tr th {\n",
       "        vertical-align: top;\n",
       "    }\n",
       "\n",
       "    .dataframe thead th {\n",
       "        text-align: right;\n",
       "    }\n",
       "</style>\n",
       "<table border=\"1\" class=\"dataframe\">\n",
       "  <thead>\n",
       "    <tr style=\"text-align: right;\">\n",
       "      <th></th>\n",
       "      <th>year</th>\n",
       "      <th>month</th>\n",
       "      <th>mcategory</th>\n",
       "      <th>betrag_eur</th>\n",
       "      <th>rate</th>\n",
       "    </tr>\n",
       "  </thead>\n",
       "  <tbody>\n",
       "    <tr>\n",
       "      <th>0</th>\n",
       "      <td>2022</td>\n",
       "      <td>Jan</td>\n",
       "      <td>budgeted</td>\n",
       "      <td>-300.00</td>\n",
       "      <td>0.08</td>\n",
       "    </tr>\n",
       "    <tr>\n",
       "      <th>1</th>\n",
       "      <td>2022</td>\n",
       "      <td>Jan</td>\n",
       "      <td>cash</td>\n",
       "      <td>-550.00</td>\n",
       "      <td>0.15</td>\n",
       "    </tr>\n",
       "    <tr>\n",
       "      <th>2</th>\n",
       "      <td>2022</td>\n",
       "      <td>Jan</td>\n",
       "      <td>dailylife</td>\n",
       "      <td>-658.15</td>\n",
       "      <td>0.17</td>\n",
       "    </tr>\n",
       "    <tr>\n",
       "      <th>3</th>\n",
       "      <td>2022</td>\n",
       "      <td>Jan</td>\n",
       "      <td>grocery</td>\n",
       "      <td>-491.74</td>\n",
       "      <td>0.13</td>\n",
       "    </tr>\n",
       "    <tr>\n",
       "      <th>4</th>\n",
       "      <td>2022</td>\n",
       "      <td>Jan</td>\n",
       "      <td>mobility</td>\n",
       "      <td>-2.55</td>\n",
       "      <td>0.00</td>\n",
       "    </tr>\n",
       "  </tbody>\n",
       "</table>\n",
       "</div>"
      ],
      "text/plain": [
       "   year month  mcategory  betrag_eur  rate\n",
       "0  2022   Jan   budgeted     -300.00  0.08\n",
       "1  2022   Jan       cash     -550.00  0.15\n",
       "2  2022   Jan  dailylife     -658.15  0.17\n",
       "3  2022   Jan    grocery     -491.74  0.13\n",
       "4  2022   Jan   mobility       -2.55  0.00"
      ]
     },
     "execution_count": 187,
     "metadata": {},
     "output_type": "execute_result"
    }
   ],
   "source": [
    "mon_expm = (\n",
    "mon_exp\n",
    "    .groupby(['year','month','mcategory'])\n",
    "    .agg({'betrag_eur':'sum', 'rate':'sum'})\n",
    "    .sort_values(['year', 'month'], ascending=False)\n",
    "    .reset_index()\n",
    ")\n",
    "mon_expm[:5]"
   ]
  },
  {
   "cell_type": "markdown",
   "id": "c50759b9-3d97-450c-b25c-4e92655622fe",
   "metadata": {},
   "source": [
    "### time frames"
   ]
  },
  {
   "cell_type": "code",
   "execution_count": 188,
   "id": "f59caeeb-30aa-4e82-b41a-75cd1f000b7e",
   "metadata": {},
   "outputs": [
    {
     "data": {
      "text/plain": [
       "2022"
      ]
     },
     "execution_count": 188,
     "metadata": {},
     "output_type": "execute_result"
    }
   ],
   "source": [
    "from datetime import datetime\n",
    "\n",
    "datetime.today().year"
   ]
  },
  {
   "cell_type": "code",
   "execution_count": 189,
   "id": "de528b5c-8123-4086-9286-6afda5876925",
   "metadata": {},
   "outputs": [],
   "source": [
    "# pip install python-dateutil"
   ]
  },
  {
   "cell_type": "code",
   "execution_count": 190,
   "id": "e03adf56-b408-4aaa-ace9-6938e5af26ad",
   "metadata": {},
   "outputs": [],
   "source": [
    "from dateutil.relativedelta import relativedelta\n",
    "\n",
    "# Returns the same day of last month if possible otherwise end of month\n",
    "# (eg: March 31st->29th Feb an July 31st->June 30th)\n",
    "last_1m = datetime.now() - relativedelta(months=1)\n",
    "last_2m = datetime.now() - relativedelta(months=2)\n",
    "last_3m = datetime.now() - relativedelta(months=3)\n",
    "\n",
    "# Create string of month name and year...\n",
    "# lastmonthYear = format(last_month, '%B %Y')"
   ]
  },
  {
   "cell_type": "code",
   "execution_count": 191,
   "id": "3a154595-2216-4d58-96c0-4dc2b9758476",
   "metadata": {},
   "outputs": [],
   "source": [
    "last1m, last2m, last3m = format(last_1m, '%b'), format(last_2m, '%b'), format(last_3m, '%b')"
   ]
  },
  {
   "cell_type": "code",
   "execution_count": 192,
   "id": "8b04bf94-d6a4-479e-8268-94ffb44cb39f",
   "metadata": {},
   "outputs": [
    {
     "data": {
      "text/plain": [
       "('Jan', 'Dec', 'Nov')"
      ]
     },
     "execution_count": 192,
     "metadata": {},
     "output_type": "execute_result"
    }
   ],
   "source": [
    "last1m, last2m, last3m"
   ]
  },
  {
   "cell_type": "code",
   "execution_count": 193,
   "id": "9ce9207c-ed90-48a6-9d7b-9b6811217e97",
   "metadata": {},
   "outputs": [],
   "source": [
    "# mon_expm[:1]['year'][0]"
   ]
  },
  {
   "cell_type": "code",
   "execution_count": 194,
   "id": "fd835872-2cd8-4924-829c-a08089382378",
   "metadata": {},
   "outputs": [],
   "source": [
    "# thisyear = datetime.today().year\n",
    "# thisyear"
   ]
  },
  {
   "cell_type": "code",
   "execution_count": 195,
   "id": "3d344c4a-a73a-4a3f-b1e6-7260704bbe9b",
   "metadata": {},
   "outputs": [],
   "source": [
    "# thisyear == mon_expm[:1]['year'][0]"
   ]
  },
  {
   "cell_type": "code",
   "execution_count": 196,
   "id": "3825ced0-e208-4cb9-a764-30f1a0072207",
   "metadata": {},
   "outputs": [],
   "source": [
    "# from datetime import datetime\n",
    "# mon_expm[:1][['year']].iat[0,0] == datetime.today().year"
   ]
  },
  {
   "cell_type": "code",
   "execution_count": 197,
   "id": "6f67666b-5453-4793-94cd-b485e79a29ac",
   "metadata": {},
   "outputs": [],
   "source": [
    "from datetime import datetime\n",
    "\n",
    "mnumbers = mon_expm.query(f'month == \"{last1m}\"')\n",
    "qnumbers = mon_expm.query(f'month == \"{last1m}\" | month == \"{last2m}\" | month == \"{last3m}\"')"
   ]
  },
  {
   "cell_type": "code",
   "execution_count": 198,
   "id": "932ac8a3-a709-4056-9933-8c225c4033b7",
   "metadata": {},
   "outputs": [
    {
     "data": {
      "text/html": [
       "<div>\n",
       "<style scoped>\n",
       "    .dataframe tbody tr th:only-of-type {\n",
       "        vertical-align: middle;\n",
       "    }\n",
       "\n",
       "    .dataframe tbody tr th {\n",
       "        vertical-align: top;\n",
       "    }\n",
       "\n",
       "    .dataframe thead th {\n",
       "        text-align: right;\n",
       "    }\n",
       "</style>\n",
       "<table border=\"1\" class=\"dataframe\">\n",
       "  <thead>\n",
       "    <tr style=\"text-align: right;\">\n",
       "      <th></th>\n",
       "      <th>year</th>\n",
       "      <th>month</th>\n",
       "      <th>mcategory</th>\n",
       "      <th>betrag_eur</th>\n",
       "      <th>rate</th>\n",
       "    </tr>\n",
       "  </thead>\n",
       "  <tbody>\n",
       "    <tr>\n",
       "      <th>0</th>\n",
       "      <td>2022</td>\n",
       "      <td>Jan</td>\n",
       "      <td>budgeted</td>\n",
       "      <td>-300.00</td>\n",
       "      <td>0.08</td>\n",
       "    </tr>\n",
       "    <tr>\n",
       "      <th>1</th>\n",
       "      <td>2022</td>\n",
       "      <td>Jan</td>\n",
       "      <td>cash</td>\n",
       "      <td>-550.00</td>\n",
       "      <td>0.15</td>\n",
       "    </tr>\n",
       "    <tr>\n",
       "      <th>2</th>\n",
       "      <td>2022</td>\n",
       "      <td>Jan</td>\n",
       "      <td>dailylife</td>\n",
       "      <td>-658.15</td>\n",
       "      <td>0.17</td>\n",
       "    </tr>\n",
       "    <tr>\n",
       "      <th>3</th>\n",
       "      <td>2022</td>\n",
       "      <td>Jan</td>\n",
       "      <td>grocery</td>\n",
       "      <td>-491.74</td>\n",
       "      <td>0.13</td>\n",
       "    </tr>\n",
       "    <tr>\n",
       "      <th>4</th>\n",
       "      <td>2022</td>\n",
       "      <td>Jan</td>\n",
       "      <td>mobility</td>\n",
       "      <td>-2.55</td>\n",
       "      <td>0.00</td>\n",
       "    </tr>\n",
       "    <tr>\n",
       "      <th>5</th>\n",
       "      <td>2022</td>\n",
       "      <td>Jan</td>\n",
       "      <td>rent</td>\n",
       "      <td>-1020.08</td>\n",
       "      <td>0.27</td>\n",
       "    </tr>\n",
       "    <tr>\n",
       "      <th>6</th>\n",
       "      <td>2022</td>\n",
       "      <td>Jan</td>\n",
       "      <td>uncategorized</td>\n",
       "      <td>-6.00</td>\n",
       "      <td>0.00</td>\n",
       "    </tr>\n",
       "  </tbody>\n",
       "</table>\n",
       "</div>"
      ],
      "text/plain": [
       "   year month      mcategory  betrag_eur  rate\n",
       "0  2022   Jan       budgeted     -300.00  0.08\n",
       "1  2022   Jan           cash     -550.00  0.15\n",
       "2  2022   Jan      dailylife     -658.15  0.17\n",
       "3  2022   Jan        grocery     -491.74  0.13\n",
       "4  2022   Jan       mobility       -2.55  0.00\n",
       "5  2022   Jan           rent    -1020.08  0.27\n",
       "6  2022   Jan  uncategorized       -6.00  0.00"
      ]
     },
     "execution_count": 198,
     "metadata": {},
     "output_type": "execute_result"
    }
   ],
   "source": [
    "mnumbers"
   ]
  },
  {
   "cell_type": "code",
   "execution_count": 302,
   "id": "64d3c631-8dc9-41d1-bc7b-8493a08196d7",
   "metadata": {},
   "outputs": [
    {
     "data": {
      "text/html": [
       "<div>\n",
       "<style scoped>\n",
       "    .dataframe tbody tr th:only-of-type {\n",
       "        vertical-align: middle;\n",
       "    }\n",
       "\n",
       "    .dataframe tbody tr th {\n",
       "        vertical-align: top;\n",
       "    }\n",
       "\n",
       "    .dataframe thead th {\n",
       "        text-align: right;\n",
       "    }\n",
       "</style>\n",
       "<table border=\"1\" class=\"dataframe\">\n",
       "  <thead>\n",
       "    <tr style=\"text-align: right;\">\n",
       "      <th></th>\n",
       "      <th>year</th>\n",
       "      <th>month</th>\n",
       "      <th>mcategory</th>\n",
       "      <th>betrag_eur</th>\n",
       "      <th>rate</th>\n",
       "    </tr>\n",
       "  </thead>\n",
       "  <tbody>\n",
       "    <tr>\n",
       "      <th>0</th>\n",
       "      <td>2022</td>\n",
       "      <td>Jan</td>\n",
       "      <td>budgeted</td>\n",
       "      <td>-300.00</td>\n",
       "      <td>0.08</td>\n",
       "    </tr>\n",
       "    <tr>\n",
       "      <th>1</th>\n",
       "      <td>2022</td>\n",
       "      <td>Jan</td>\n",
       "      <td>cash</td>\n",
       "      <td>-550.00</td>\n",
       "      <td>0.15</td>\n",
       "    </tr>\n",
       "    <tr>\n",
       "      <th>2</th>\n",
       "      <td>2022</td>\n",
       "      <td>Jan</td>\n",
       "      <td>dailylife</td>\n",
       "      <td>-658.15</td>\n",
       "      <td>0.17</td>\n",
       "    </tr>\n",
       "    <tr>\n",
       "      <th>3</th>\n",
       "      <td>2022</td>\n",
       "      <td>Jan</td>\n",
       "      <td>grocery</td>\n",
       "      <td>-491.74</td>\n",
       "      <td>0.13</td>\n",
       "    </tr>\n",
       "    <tr>\n",
       "      <th>4</th>\n",
       "      <td>2022</td>\n",
       "      <td>Jan</td>\n",
       "      <td>mobility</td>\n",
       "      <td>-2.55</td>\n",
       "      <td>0.00</td>\n",
       "    </tr>\n",
       "    <tr>\n",
       "      <th>5</th>\n",
       "      <td>2022</td>\n",
       "      <td>Jan</td>\n",
       "      <td>rent</td>\n",
       "      <td>-1020.08</td>\n",
       "      <td>0.27</td>\n",
       "    </tr>\n",
       "    <tr>\n",
       "      <th>6</th>\n",
       "      <td>2022</td>\n",
       "      <td>Jan</td>\n",
       "      <td>uncategorized</td>\n",
       "      <td>-6.00</td>\n",
       "      <td>0.00</td>\n",
       "    </tr>\n",
       "    <tr>\n",
       "      <th>14</th>\n",
       "      <td>2021</td>\n",
       "      <td>Nov</td>\n",
       "      <td>budgeted</td>\n",
       "      <td>-580.00</td>\n",
       "      <td>0.16</td>\n",
       "    </tr>\n",
       "    <tr>\n",
       "      <th>15</th>\n",
       "      <td>2021</td>\n",
       "      <td>Nov</td>\n",
       "      <td>cash</td>\n",
       "      <td>-800.00</td>\n",
       "      <td>0.21</td>\n",
       "    </tr>\n",
       "    <tr>\n",
       "      <th>16</th>\n",
       "      <td>2021</td>\n",
       "      <td>Nov</td>\n",
       "      <td>dailylife</td>\n",
       "      <td>-393.88</td>\n",
       "      <td>0.11</td>\n",
       "    </tr>\n",
       "  </tbody>\n",
       "</table>\n",
       "</div>"
      ],
      "text/plain": [
       "    year month      mcategory  betrag_eur  rate\n",
       "0   2022   Jan       budgeted     -300.00  0.08\n",
       "1   2022   Jan           cash     -550.00  0.15\n",
       "2   2022   Jan      dailylife     -658.15  0.17\n",
       "3   2022   Jan        grocery     -491.74  0.13\n",
       "4   2022   Jan       mobility       -2.55  0.00\n",
       "5   2022   Jan           rent    -1020.08  0.27\n",
       "6   2022   Jan  uncategorized       -6.00  0.00\n",
       "14  2021   Nov       budgeted     -580.00  0.16\n",
       "15  2021   Nov           cash     -800.00  0.21\n",
       "16  2021   Nov      dailylife     -393.88  0.11"
      ]
     },
     "execution_count": 302,
     "metadata": {},
     "output_type": "execute_result"
    }
   ],
   "source": [
    "qnumbers[:10]"
   ]
  },
  {
   "cell_type": "code",
   "execution_count": 199,
   "id": "aed5e5bb-9edd-461f-9278-a7073d4047af",
   "metadata": {},
   "outputs": [
    {
     "data": {
      "text/html": [
       "<div>\n",
       "<style scoped>\n",
       "    .dataframe tbody tr th:only-of-type {\n",
       "        vertical-align: middle;\n",
       "    }\n",
       "\n",
       "    .dataframe tbody tr th {\n",
       "        vertical-align: top;\n",
       "    }\n",
       "\n",
       "    .dataframe thead th {\n",
       "        text-align: right;\n",
       "    }\n",
       "</style>\n",
       "<table border=\"1\" class=\"dataframe\">\n",
       "  <thead>\n",
       "    <tr style=\"text-align: right;\">\n",
       "      <th></th>\n",
       "      <th>mcategory</th>\n",
       "      <th>betrag_eur</th>\n",
       "      <th>rate</th>\n",
       "    </tr>\n",
       "  </thead>\n",
       "  <tbody>\n",
       "    <tr>\n",
       "      <th>5</th>\n",
       "      <td>rent</td>\n",
       "      <td>-1020.08</td>\n",
       "      <td>0.27</td>\n",
       "    </tr>\n",
       "    <tr>\n",
       "      <th>2</th>\n",
       "      <td>dailylife</td>\n",
       "      <td>-658.15</td>\n",
       "      <td>0.17</td>\n",
       "    </tr>\n",
       "    <tr>\n",
       "      <th>1</th>\n",
       "      <td>cash</td>\n",
       "      <td>-550.00</td>\n",
       "      <td>0.15</td>\n",
       "    </tr>\n",
       "    <tr>\n",
       "      <th>3</th>\n",
       "      <td>grocery</td>\n",
       "      <td>-491.74</td>\n",
       "      <td>0.13</td>\n",
       "    </tr>\n",
       "    <tr>\n",
       "      <th>0</th>\n",
       "      <td>budgeted</td>\n",
       "      <td>-300.00</td>\n",
       "      <td>0.08</td>\n",
       "    </tr>\n",
       "    <tr>\n",
       "      <th>6</th>\n",
       "      <td>uncategorized</td>\n",
       "      <td>-6.00</td>\n",
       "      <td>0.00</td>\n",
       "    </tr>\n",
       "    <tr>\n",
       "      <th>4</th>\n",
       "      <td>mobility</td>\n",
       "      <td>-2.55</td>\n",
       "      <td>0.00</td>\n",
       "    </tr>\n",
       "  </tbody>\n",
       "</table>\n",
       "</div>"
      ],
      "text/plain": [
       "       mcategory  betrag_eur  rate\n",
       "5           rent    -1020.08  0.27\n",
       "2      dailylife     -658.15  0.17\n",
       "1           cash     -550.00  0.15\n",
       "3        grocery     -491.74  0.13\n",
       "0       budgeted     -300.00  0.08\n",
       "6  uncategorized       -6.00  0.00\n",
       "4       mobility       -2.55  0.00"
      ]
     },
     "execution_count": 199,
     "metadata": {},
     "output_type": "execute_result"
    }
   ],
   "source": [
    "mnumberso = (\n",
    "mnumbers\n",
    "    .groupby(['mcategory'])\n",
    "    .agg({'betrag_eur':'sum', 'rate':'sum'})\n",
    "    .reset_index()\n",
    "    .sort_values('betrag_eur')\n",
    "    # .assign(ratee = lambda x: round((abs(x['betrag_eur'])/avg_revenue),2))\n",
    ")\n",
    "mnumberso"
   ]
  },
  {
   "cell_type": "code",
   "execution_count": 200,
   "id": "0fd141a5-89d8-4db0-815e-d0a351aec860",
   "metadata": {},
   "outputs": [
    {
     "data": {
      "text/html": [
       "<div>\n",
       "<style scoped>\n",
       "    .dataframe tbody tr th:only-of-type {\n",
       "        vertical-align: middle;\n",
       "    }\n",
       "\n",
       "    .dataframe tbody tr th {\n",
       "        vertical-align: top;\n",
       "    }\n",
       "\n",
       "    .dataframe thead th {\n",
       "        text-align: right;\n",
       "    }\n",
       "</style>\n",
       "<table border=\"1\" class=\"dataframe\">\n",
       "  <thead>\n",
       "    <tr style=\"text-align: right;\">\n",
       "      <th></th>\n",
       "      <th>mcategory</th>\n",
       "      <th>betrag_eur</th>\n",
       "      <th>rate</th>\n",
       "    </tr>\n",
       "  </thead>\n",
       "  <tbody>\n",
       "    <tr>\n",
       "      <th>5</th>\n",
       "      <td>rent</td>\n",
       "      <td>-2930.08</td>\n",
       "      <td>0.26</td>\n",
       "    </tr>\n",
       "    <tr>\n",
       "      <th>1</th>\n",
       "      <td>cash</td>\n",
       "      <td>-2150.00</td>\n",
       "      <td>0.19</td>\n",
       "    </tr>\n",
       "    <tr>\n",
       "      <th>2</th>\n",
       "      <td>dailylife</td>\n",
       "      <td>-1715.89</td>\n",
       "      <td>0.15</td>\n",
       "    </tr>\n",
       "    <tr>\n",
       "      <th>3</th>\n",
       "      <td>grocery</td>\n",
       "      <td>-1410.39</td>\n",
       "      <td>0.12</td>\n",
       "    </tr>\n",
       "    <tr>\n",
       "      <th>0</th>\n",
       "      <td>budgeted</td>\n",
       "      <td>-1330.00</td>\n",
       "      <td>0.12</td>\n",
       "    </tr>\n",
       "    <tr>\n",
       "      <th>6</th>\n",
       "      <td>uncategorized</td>\n",
       "      <td>-325.20</td>\n",
       "      <td>0.03</td>\n",
       "    </tr>\n",
       "    <tr>\n",
       "      <th>4</th>\n",
       "      <td>mobility</td>\n",
       "      <td>-214.27</td>\n",
       "      <td>0.02</td>\n",
       "    </tr>\n",
       "  </tbody>\n",
       "</table>\n",
       "</div>"
      ],
      "text/plain": [
       "       mcategory  betrag_eur  rate\n",
       "5           rent    -2930.08  0.26\n",
       "1           cash    -2150.00  0.19\n",
       "2      dailylife    -1715.89  0.15\n",
       "3        grocery    -1410.39  0.12\n",
       "0       budgeted    -1330.00  0.12\n",
       "6  uncategorized     -325.20  0.03\n",
       "4       mobility     -214.27  0.02"
      ]
     },
     "execution_count": 200,
     "metadata": {},
     "output_type": "execute_result"
    }
   ],
   "source": [
    "# Since we count here numbers of last 90 days, we cant sum the rate, which is why we need to redefine it here\n",
    "qnumberso = (\n",
    "qnumbers\n",
    "    .groupby(['mcategory'])\n",
    "    .agg({'betrag_eur':'sum', \n",
    "          # 'rate':'sum'\n",
    "         })\n",
    "    .reset_index()\n",
    "    .sort_values('betrag_eur')\n",
    "    .assign(rate = lambda x: round((abs(x['betrag_eur'])/(3*avg_revenue)),2))\n",
    ")\n",
    "qnumberso"
   ]
  },
  {
   "cell_type": "markdown",
   "id": "57bdece9-3e39-48f3-97c0-70f623d2ced1",
   "metadata": {},
   "source": [
    "### bar plots"
   ]
  },
  {
   "cell_type": "code",
   "execution_count": 499,
   "id": "b3f2448e-0b70-4ee3-9f5d-ab9630189a81",
   "metadata": {},
   "outputs": [],
   "source": [
    "part_of_cash = (\n",
    "mon_exp\n",
    "    .query('mcategory == \"cash\"')\n",
    "    .groupby(['year','month','mcategory'])\n",
    "    .agg({'betrag_eur':'sum', 'rate':'sum'})\n",
    "    .sort_values(['year', 'month'], ascending=False)\n",
    "    .reset_index()\n",
    "    .assign(filtered = lambda x: x['betrag_eur'])\n",
    ")\n",
    "part_of_cash = part_of_cash[['year', 'month', 'filtered']]"
   ]
  },
  {
   "cell_type": "code",
   "execution_count": 473,
   "id": "4fbe65d9-b4b1-4d8a-8686-f5e0326125eb",
   "metadata": {},
   "outputs": [
    {
     "data": {
      "text/html": [
       "<div>\n",
       "<style scoped>\n",
       "    .dataframe tbody tr th:only-of-type {\n",
       "        vertical-align: middle;\n",
       "    }\n",
       "\n",
       "    .dataframe tbody tr th {\n",
       "        vertical-align: top;\n",
       "    }\n",
       "\n",
       "    .dataframe thead th {\n",
       "        text-align: right;\n",
       "    }\n",
       "</style>\n",
       "<table border=\"1\" class=\"dataframe\">\n",
       "  <thead>\n",
       "    <tr style=\"text-align: right;\">\n",
       "      <th></th>\n",
       "      <th>year</th>\n",
       "      <th>month</th>\n",
       "      <th>betrag_eur</th>\n",
       "      <th>rate</th>\n",
       "    </tr>\n",
       "  </thead>\n",
       "  <tbody>\n",
       "    <tr>\n",
       "      <th>0</th>\n",
       "      <td>2022</td>\n",
       "      <td>Jan</td>\n",
       "      <td>-3028.52</td>\n",
       "      <td>0.80</td>\n",
       "    </tr>\n",
       "    <tr>\n",
       "      <th>1</th>\n",
       "      <td>2021</td>\n",
       "      <td>Oct</td>\n",
       "      <td>-1266.08</td>\n",
       "      <td>0.34</td>\n",
       "    </tr>\n",
       "    <tr>\n",
       "      <th>2</th>\n",
       "      <td>2021</td>\n",
       "      <td>Nov</td>\n",
       "      <td>-3595.99</td>\n",
       "      <td>0.96</td>\n",
       "    </tr>\n",
       "    <tr>\n",
       "      <th>3</th>\n",
       "      <td>2021</td>\n",
       "      <td>Dec</td>\n",
       "      <td>-3451.32</td>\n",
       "      <td>0.91</td>\n",
       "    </tr>\n",
       "  </tbody>\n",
       "</table>\n",
       "</div>"
      ],
      "text/plain": [
       "   year month  betrag_eur  rate\n",
       "0  2022   Jan    -3028.52  0.80\n",
       "1  2021   Oct    -1266.08  0.34\n",
       "2  2021   Nov    -3595.99  0.96\n",
       "3  2021   Dec    -3451.32  0.91"
      ]
     },
     "execution_count": 473,
     "metadata": {},
     "output_type": "execute_result"
    }
   ],
   "source": [
    "monthly_expenditures = (\n",
    "mon_exp\n",
    "    .groupby(['year','month'])\n",
    "    .agg({'betrag_eur':'sum', 'rate':'sum'})\n",
    "    .sort_values(['year', 'month'], ascending=False)\n",
    "    .reset_index()\n",
    ")\n",
    "monthly_expenditures"
   ]
  },
  {
   "cell_type": "code",
   "execution_count": 520,
   "id": "1810a36c-9950-47b9-a096-1dbc7b5136b4",
   "metadata": {},
   "outputs": [],
   "source": [
    "year_month = (\n",
    "monthly_expenditures\n",
    "    .assign(year_month = lambda x: x['year']+\" \"+x['month'])\n",
    ")"
   ]
  },
  {
   "cell_type": "code",
   "execution_count": 521,
   "id": "f0836084-9723-413b-9985-23972bdab1b1",
   "metadata": {},
   "outputs": [
    {
     "data": {
      "text/plain": [
       "['2022 Jan', '2021 Oct', '2021 Nov', '2021 Dec']"
      ]
     },
     "execution_count": 521,
     "metadata": {},
     "output_type": "execute_result"
    }
   ],
   "source": [
    "months = year_month['year_month'].tolist()\n",
    "months"
   ]
  },
  {
   "cell_type": "code",
   "execution_count": 502,
   "id": "c8319d51-bd5a-48f2-8963-4abc96906a0e",
   "metadata": {},
   "outputs": [],
   "source": [
    "monthly_expenditures = (\n",
    "monthly_expenditures\n",
    "    .merge(part_of_cash)\n",
    "    .assign(betrag_eur = lambda x: x['betrag_eur']-x['filtered'])\n",
    ")"
   ]
  },
  {
   "cell_type": "code",
   "execution_count": 503,
   "id": "64f750f0-7972-444b-90cc-32186f2ce49e",
   "metadata": {},
   "outputs": [],
   "source": [
    "monthly_expenditures.drop(['filtered'], axis=1, inplace=True)"
   ]
  },
  {
   "cell_type": "code",
   "execution_count": 504,
   "id": "1964e471-cc10-402a-8d4c-b97ee328ffad",
   "metadata": {},
   "outputs": [
    {
     "data": {
      "text/html": [
       "<div>\n",
       "<style scoped>\n",
       "    .dataframe tbody tr th:only-of-type {\n",
       "        vertical-align: middle;\n",
       "    }\n",
       "\n",
       "    .dataframe tbody tr th {\n",
       "        vertical-align: top;\n",
       "    }\n",
       "\n",
       "    .dataframe thead th {\n",
       "        text-align: right;\n",
       "    }\n",
       "</style>\n",
       "<table border=\"1\" class=\"dataframe\">\n",
       "  <thead>\n",
       "    <tr style=\"text-align: right;\">\n",
       "      <th></th>\n",
       "      <th>year</th>\n",
       "      <th>month</th>\n",
       "      <th>betrag_eur</th>\n",
       "      <th>rate</th>\n",
       "    </tr>\n",
       "  </thead>\n",
       "  <tbody>\n",
       "    <tr>\n",
       "      <th>0</th>\n",
       "      <td>2022</td>\n",
       "      <td>Jan</td>\n",
       "      <td>-2478.52</td>\n",
       "      <td>0.80</td>\n",
       "    </tr>\n",
       "    <tr>\n",
       "      <th>1</th>\n",
       "      <td>2021</td>\n",
       "      <td>Oct</td>\n",
       "      <td>-1016.08</td>\n",
       "      <td>0.34</td>\n",
       "    </tr>\n",
       "    <tr>\n",
       "      <th>2</th>\n",
       "      <td>2021</td>\n",
       "      <td>Nov</td>\n",
       "      <td>-2795.99</td>\n",
       "      <td>0.96</td>\n",
       "    </tr>\n",
       "    <tr>\n",
       "      <th>3</th>\n",
       "      <td>2021</td>\n",
       "      <td>Dec</td>\n",
       "      <td>-2651.32</td>\n",
       "      <td>0.91</td>\n",
       "    </tr>\n",
       "  </tbody>\n",
       "</table>\n",
       "</div>"
      ],
      "text/plain": [
       "   year month  betrag_eur  rate\n",
       "0  2022   Jan    -2478.52  0.80\n",
       "1  2021   Oct    -1016.08  0.34\n",
       "2  2021   Nov    -2795.99  0.96\n",
       "3  2021   Dec    -2651.32  0.91"
      ]
     },
     "execution_count": 504,
     "metadata": {},
     "output_type": "execute_result"
    }
   ],
   "source": [
    "monthly_expenditures"
   ]
  },
  {
   "cell_type": "code",
   "execution_count": 505,
   "id": "ec3959ac-a78c-4c33-b61f-7385af6be99b",
   "metadata": {},
   "outputs": [
    {
     "data": {
      "text/plain": [
       "[2478.52, 1016.0799999999999, 2795.9900000000002, 2651.32]"
      ]
     },
     "execution_count": 505,
     "metadata": {},
     "output_type": "execute_result"
    }
   ],
   "source": [
    "monthly_expenditures_list = monthly_expenditures['betrag_eur'].abs().tolist()\n",
    "monthly_expenditures_list"
   ]
  },
  {
   "cell_type": "code",
   "execution_count": 506,
   "id": "02eb3d4f-2c8b-413b-adca-9643d5e963c0",
   "metadata": {},
   "outputs": [
    {
     "data": {
      "text/plain": [
       "[3793.81, 3793.81, 3793.81, 3793.81]"
      ]
     },
     "execution_count": 506,
     "metadata": {},
     "output_type": "execute_result"
    }
   ],
   "source": [
    "avg_revenue_list = [avg_revenue for i in range(len(monthly_expenditures_list))]\n",
    "avg_revenue_list"
   ]
  },
  {
   "cell_type": "code",
   "execution_count": 522,
   "id": "aa41bc4f-1c64-44b2-9ca6-16b3f4a4e185",
   "metadata": {},
   "outputs": [
    {
     "data": {
      "text/plain": [
       "<AxesSubplot:xlabel='Months'>"
      ]
     },
     "execution_count": 522,
     "metadata": {},
     "output_type": "execute_result"
    },
    {
     "data": {
      "image/png": "[encoded data removed]",
      "text/plain": [
       "<Figure size 432x288 with 1 Axes>"
      ]
     },
     "metadata": {
      "needs_background": "light"
     },
     "output_type": "display_data"
    }
   ],
   "source": [
    "import matplotlib.pyplot as plt\n",
    "  \n",
    "df = pd.DataFrame({\n",
    "    'Months': months,\n",
    "    'Monthly expenditures': monthly_expenditures_list,\n",
    "    'Monthly average revenues': avg_revenue_list\n",
    "})\n",
    " \n",
    "ax = df.plot(x=\"Months\", y=\"Monthly average revenues\", kind=\"bar\")\n",
    "df.plot(x=\"Months\", y=\"Monthly expenditures\", kind=\"bar\", ax=ax, color=\"maroon\")"
   ]
  },
  {
   "cell_type": "code",
   "execution_count": null,
   "id": "a794b1f7-a231-427c-a42a-c5816e4d393d",
   "metadata": {},
   "outputs": [],
   "source": [
    "import matplotlib.pyplot as plt\n",
    "  \n",
    "df = pd.DataFrame({\n",
    "    'Months': months,\n",
    "    'Monthly expenditures': monthly_expenditures_list,\n",
    "    'Monthly average revenues': avg_revenue_list\n",
    "})\n",
    "\n",
    "ax = df.plot(x=\"Months\", y=\"Monthly average revenues\", kind=\"bar\", figsize=(12,6))\n",
    "df.plot(x=\"Months\", y=\"Monthly expenditures\", kind=\"bar\", ax=ax, color=\"maroon\",\n",
    "       width=.51, edgecolor=\"white\")"
   ]
  },
  {
   "cell_type": "code",
   "execution_count": 679,
   "id": "f2a71b9f-2251-48ed-bcfb-78897d1bc446",
   "metadata": {},
   "outputs": [
    {
     "data": {
      "application/vnd.plotly.v1+json": {
       "config": {
        "plotlyServerURL": "https://plot.ly"
       },
       "data": [
        {
         "marker": {
          "color": "darkgreen"
         },
         "name": "Revenues",
         "type": "bar",
         "x": [
          "2022 Jan",
          "2021 Oct",
          "2021 Nov",
          "2021 Dec"
         ],
         "y": [
          3793.81,
          3793.81,
          3793.81,
          3793.81
         ]
        },
        {
         "marker": {
          "color": "crimson"
         },
         "name": "Expenditures",
         "text": [
          "+35%",
          "+73%",
          "+26%",
          "+30%"
         ],
         "textfont": {
          "color": "darkgreen",
          "size": 18
         },
         "textposition": "outside",
         "type": "bar",
         "x": [
          "2022 Jan",
          "2021 Oct",
          "2021 Nov",
          "2021 Dec"
         ],
         "y": [
          2478.52,
          1016.08,
          2795.99,
          2651.32
         ]
        }
       ],
       "layout": {
        "autosize": true,
        "barmode": "group",
        "height": 500,
        "template": {
         "data": {
          "bar": [
           {
            "error_x": {
             "color": "#2a3f5f"
            },
            "error_y": {
             "color": "#2a3f5f"
            },
            "marker": {
             "line": {
              "color": "#E5ECF6",
              "width": 0.5
             },
             "pattern": {
              "fillmode": "overlay",
              "size": 10,
              "solidity": 0.2
             }
            },
            "type": "bar"
           }
          ],
          "barpolar": [
           {
            "marker": {
             "line": {
              "color": "#E5ECF6",
              "width": 0.5
             },
             "pattern": {
              "fillmode": "overlay",
              "size": 10,
              "solidity": 0.2
             }
            },
            "type": "barpolar"
           }
          ],
          "carpet": [
           {
            "aaxis": {
             "endlinecolor": "#2a3f5f",
             "gridcolor": "white",
             "linecolor": "white",
             "minorgridcolor": "white",
             "startlinecolor": "#2a3f5f"
            },
            "baxis": {
             "endlinecolor": "#2a3f5f",
             "gridcolor": "white",
             "linecolor": "white",
             "minorgridcolor": "white",
             "startlinecolor": "#2a3f5f"
            },
            "type": "carpet"
           }
          ],
          "choropleth": [
           {
            "colorbar": {
             "outlinewidth": 0,
             "ticks": ""
            },
            "type": "choropleth"
           }
          ],
          "contour": [
           {
            "colorbar": {
             "outlinewidth": 0,
             "ticks": ""
            },
            "colorscale": [
             [
              0,
              "#0d0887"
             ],
             [
              0.1111111111111111,
              "#46039f"
             ],
             [
              0.2222222222222222,
              "#7201a8"
             ],
             [
              0.3333333333333333,
              "#9c179e"
             ],
             [
              0.4444444444444444,
              "#bd3786"
             ],
             [
              0.5555555555555556,
              "#d8576b"
             ],
             [
              0.6666666666666666,
              "#ed7953"
             ],
             [
              0.7777777777777778,
              "#fb9f3a"
             ],
             [
              0.8888888888888888,
              "#fdca26"
             ],
             [
              1,
              "#f0f921"
             ]
            ],
            "type": "contour"
           }
          ],
          "contourcarpet": [
           {
            "colorbar": {
             "outlinewidth": 0,
             "ticks": ""
            },
            "type": "contourcarpet"
           }
          ],
          "heatmap": [
           {
            "colorbar": {
             "outlinewidth": 0,
             "ticks": ""
            },
            "colorscale": [
             [
              0,
              "#0d0887"
             ],
             [
              0.1111111111111111,
              "#46039f"
             ],
             [
              0.2222222222222222,
              "#7201a8"
             ],
             [
              0.3333333333333333,
              "#9c179e"
             ],
             [
              0.4444444444444444,
              "#bd3786"
             ],
             [
              0.5555555555555556,
              "#d8576b"
             ],
             [
              0.6666666666666666,
              "#ed7953"
             ],
             [
              0.7777777777777778,
              "#fb9f3a"
             ],
             [
              0.8888888888888888,
              "#fdca26"
             ],
             [
              1,
              "#f0f921"
             ]
            ],
            "type": "heatmap"
           }
          ],
          "heatmapgl": [
           {
            "colorbar": {
             "outlinewidth": 0,
             "ticks": ""
            },
            "colorscale": [
             [
              0,
              "#0d0887"
             ],
             [
              0.1111111111111111,
              "#46039f"
             ],
             [
              0.2222222222222222,
              "#7201a8"
             ],
             [
              0.3333333333333333,
              "#9c179e"
             ],
             [
              0.4444444444444444,
              "#bd3786"
             ],
             [
              0.5555555555555556,
              "#d8576b"
             ],
             [
              0.6666666666666666,
              "#ed7953"
             ],
             [
              0.7777777777777778,
              "#fb9f3a"
             ],
             [
              0.8888888888888888,
              "#fdca26"
             ],
             [
              1,
              "#f0f921"
             ]
            ],
            "type": "heatmapgl"
           }
          ],
          "histogram": [
           {
            "marker": {
             "pattern": {
              "fillmode": "overlay",
              "size": 10,
              "solidity": 0.2
             }
            },
            "type": "histogram"
           }
          ],
          "histogram2d": [
           {
            "colorbar": {
             "outlinewidth": 0,
             "ticks": ""
            },
            "colorscale": [
             [
              0,
              "#0d0887"
             ],
             [
              0.1111111111111111,
              "#46039f"
             ],
             [
              0.2222222222222222,
              "#7201a8"
             ],
             [
              0.3333333333333333,
              "#9c179e"
             ],
             [
              0.4444444444444444,
              "#bd3786"
             ],
             [
              0.5555555555555556,
              "#d8576b"
             ],
             [
              0.6666666666666666,
              "#ed7953"
             ],
             [
              0.7777777777777778,
              "#fb9f3a"
             ],
             [
              0.8888888888888888,
              "#fdca26"
             ],
             [
              1,
              "#f0f921"
             ]
            ],
            "type": "histogram2d"
           }
          ],
          "histogram2dcontour": [
           {
            "colorbar": {
             "outlinewidth": 0,
             "ticks": ""
            },
            "colorscale": [
             [
              0,
              "#0d0887"
             ],
             [
              0.1111111111111111,
              "#46039f"
             ],
             [
              0.2222222222222222,
              "#7201a8"
             ],
             [
              0.3333333333333333,
              "#9c179e"
             ],
             [
              0.4444444444444444,
              "#bd3786"
             ],
             [
              0.5555555555555556,
              "#d8576b"
             ],
             [
              0.6666666666666666,
              "#ed7953"
             ],
             [
              0.7777777777777778,
              "#fb9f3a"
             ],
             [
              0.8888888888888888,
              "#fdca26"
             ],
             [
              1,
              "#f0f921"
             ]
            ],
            "type": "histogram2dcontour"
           }
          ],
          "mesh3d": [
           {
            "colorbar": {
             "outlinewidth": 0,
             "ticks": ""
            },
            "type": "mesh3d"
           }
          ],
          "parcoords": [
           {
            "line": {
             "colorbar": {
              "outlinewidth": 0,
              "ticks": ""
             }
            },
            "type": "parcoords"
           }
          ],
          "pie": [
           {
            "automargin": true,
            "type": "pie"
           }
          ],
          "scatter": [
           {
            "marker": {
             "colorbar": {
              "outlinewidth": 0,
              "ticks": ""
             }
            },
            "type": "scatter"
           }
          ],
          "scatter3d": [
           {
            "line": {
             "colorbar": {
              "outlinewidth": 0,
              "ticks": ""
             }
            },
            "marker": {
             "colorbar": {
              "outlinewidth": 0,
              "ticks": ""
             }
            },
            "type": "scatter3d"
           }
          ],
          "scattercarpet": [
           {
            "marker": {
             "colorbar": {
              "outlinewidth": 0,
              "ticks": ""
             }
            },
            "type": "scattercarpet"
           }
          ],
          "scattergeo": [
           {
            "marker": {
             "colorbar": {
              "outlinewidth": 0,
              "ticks": ""
             }
            },
            "type": "scattergeo"
           }
          ],
          "scattergl": [
           {
            "marker": {
             "colorbar": {
              "outlinewidth": 0,
              "ticks": ""
             }
            },
            "type": "scattergl"
           }
          ],
          "scattermapbox": [
           {
            "marker": {
             "colorbar": {
              "outlinewidth": 0,
              "ticks": ""
             }
            },
            "type": "scattermapbox"
           }
          ],
          "scatterpolar": [
           {
            "marker": {
             "colorbar": {
              "outlinewidth": 0,
              "ticks": ""
             }
            },
            "type": "scatterpolar"
           }
          ],
          "scatterpolargl": [
           {
            "marker": {
             "colorbar": {
              "outlinewidth": 0,
              "ticks": ""
             }
            },
            "type": "scatterpolargl"
           }
          ],
          "scatterternary": [
           {
            "marker": {
             "colorbar": {
              "outlinewidth": 0,
              "ticks": ""
             }
            },
            "type": "scatterternary"
           }
          ],
          "surface": [
           {
            "colorbar": {
             "outlinewidth": 0,
             "ticks": ""
            },
            "colorscale": [
             [
              0,
              "#0d0887"
             ],
             [
              0.1111111111111111,
              "#46039f"
             ],
             [
              0.2222222222222222,
              "#7201a8"
             ],
             [
              0.3333333333333333,
              "#9c179e"
             ],
             [
              0.4444444444444444,
              "#bd3786"
             ],
             [
              0.5555555555555556,
              "#d8576b"
             ],
             [
              0.6666666666666666,
              "#ed7953"
             ],
             [
              0.7777777777777778,
              "#fb9f3a"
             ],
             [
              0.8888888888888888,
              "#fdca26"
             ],
             [
              1,
              "#f0f921"
             ]
            ],
            "type": "surface"
           }
          ],
          "table": [
           {
            "cells": {
             "fill": {
              "color": "#EBF0F8"
             },
             "line": {
              "color": "white"
             }
            },
            "header": {
             "fill": {
              "color": "#C8D4E3"
             },
             "line": {
              "color": "white"
             }
            },
            "type": "table"
           }
          ]
         },
         "layout": {
          "annotationdefaults": {
           "arrowcolor": "#2a3f5f",
           "arrowhead": 0,
           "arrowwidth": 1
          },
          "autotypenumbers": "strict",
          "coloraxis": {
           "colorbar": {
            "outlinewidth": 0,
            "ticks": ""
           }
          },
          "colorscale": {
           "diverging": [
            [
             0,
             "#8e0152"
            ],
            [
             0.1,
             "#c51b7d"
            ],
            [
             0.2,
             "#de77ae"
            ],
            [
             0.3,
             "#f1b6da"
            ],
            [
             0.4,
             "#fde0ef"
            ],
            [
             0.5,
             "#f7f7f7"
            ],
            [
             0.6,
             "#e6f5d0"
            ],
            [
             0.7,
             "#b8e186"
            ],
            [
             0.8,
             "#7fbc41"
            ],
            [
             0.9,
             "#4d9221"
            ],
            [
             1,
             "#276419"
            ]
           ],
           "sequential": [
            [
             0,
             "#0d0887"
            ],
            [
             0.1111111111111111,
             "#46039f"
            ],
            [
             0.2222222222222222,
             "#7201a8"
            ],
            [
             0.3333333333333333,
             "#9c179e"
            ],
            [
             0.4444444444444444,
             "#bd3786"
            ],
            [
             0.5555555555555556,
             "#d8576b"
            ],
            [
             0.6666666666666666,
             "#ed7953"
            ],
            [
             0.7777777777777778,
             "#fb9f3a"
            ],
            [
             0.8888888888888888,
             "#fdca26"
            ],
            [
             1,
             "#f0f921"
            ]
           ],
           "sequentialminus": [
            [
             0,
             "#0d0887"
            ],
            [
             0.1111111111111111,
             "#46039f"
            ],
            [
             0.2222222222222222,
             "#7201a8"
            ],
            [
             0.3333333333333333,
             "#9c179e"
            ],
            [
             0.4444444444444444,
             "#bd3786"
            ],
            [
             0.5555555555555556,
             "#d8576b"
            ],
            [
             0.6666666666666666,
             "#ed7953"
            ],
            [
             0.7777777777777778,
             "#fb9f3a"
            ],
            [
             0.8888888888888888,
             "#fdca26"
            ],
            [
             1,
             "#f0f921"
            ]
           ]
          },
          "colorway": [
           "#636efa",
           "#EF553B",
           "#00cc96",
           "#ab63fa",
           "#FFA15A",
           "#19d3f3",
           "#FF6692",
           "#B6E880",
           "#FF97FF",
           "#FECB52"
          ],
          "font": {
           "color": "#2a3f5f"
          },
          "geo": {
           "bgcolor": "white",
           "lakecolor": "white",
           "landcolor": "#E5ECF6",
           "showlakes": true,
           "showland": true,
           "subunitcolor": "white"
          },
          "hoverlabel": {
           "align": "left"
          },
          "hovermode": "closest",
          "mapbox": {
           "style": "light"
          },
          "paper_bgcolor": "white",
          "plot_bgcolor": "#E5ECF6",
          "polar": {
           "angularaxis": {
            "gridcolor": "white",
            "linecolor": "white",
            "ticks": ""
           },
           "bgcolor": "#E5ECF6",
           "radialaxis": {
            "gridcolor": "white",
            "linecolor": "white",
            "ticks": ""
           }
          },
          "scene": {
           "xaxis": {
            "backgroundcolor": "#E5ECF6",
            "gridcolor": "white",
            "gridwidth": 2,
            "linecolor": "white",
            "showbackground": true,
            "ticks": "",
            "zerolinecolor": "white"
           },
           "yaxis": {
            "backgroundcolor": "#E5ECF6",
            "gridcolor": "white",
            "gridwidth": 2,
            "linecolor": "white",
            "showbackground": true,
            "ticks": "",
            "zerolinecolor": "white"
           },
           "zaxis": {
            "backgroundcolor": "#E5ECF6",
            "gridcolor": "white",
            "gridwidth": 2,
            "linecolor": "white",
            "showbackground": true,
            "ticks": "",
            "zerolinecolor": "white"
           }
          },
          "shapedefaults": {
           "line": {
            "color": "#2a3f5f"
           }
          },
          "ternary": {
           "aaxis": {
            "gridcolor": "white",
            "linecolor": "white",
            "ticks": ""
           },
           "baxis": {
            "gridcolor": "white",
            "linecolor": "white",
            "ticks": ""
           },
           "bgcolor": "#E5ECF6",
           "caxis": {
            "gridcolor": "white",
            "linecolor": "white",
            "ticks": ""
           }
          },
          "title": {
           "x": 0.05
          },
          "xaxis": {
           "automargin": true,
           "gridcolor": "white",
           "linecolor": "white",
           "ticks": "",
           "title": {
            "standoff": 15
           },
           "zerolinecolor": "white",
           "zerolinewidth": 2
          },
          "yaxis": {
           "automargin": true,
           "gridcolor": "white",
           "linecolor": "white",
           "ticks": "",
           "title": {
            "standoff": 15
           },
           "zerolinecolor": "white",
           "zerolinewidth": 2
          }
         }
        },
        "width": 800,
        "xaxis": {
         "autorange": true,
         "range": [
          -0.5,
          3.5
         ],
         "type": "category"
        },
        "yaxis": {
         "autorange": true,
         "range": [
          0,
          3993.4842105263156
         ],
         "type": "linear"
        }
       }
      },
      "image/png": "[encoded data removed]",
      "text/html": [
       "<div>                            <div id=\"10c64a12-afd0-4f59-a1a1-3449a6d60150\" class=\"plotly-graph-div\" style=\"height:500px; width:800px;\"></div>            <script type=\"text/javascript\">                require([\"plotly\"], function(Plotly) {                    window.PLOTLYENV=window.PLOTLYENV || {};                                    if (document.getElementById(\"10c64a12-afd0-4f59-a1a1-3449a6d60150\")) {                    Plotly.newPlot(                        \"10c64a12-afd0-4f59-a1a1-3449a6d60150\",                        [{\"marker\":{\"color\":\"darkgreen\"},\"name\":\"Revenues\",\"x\":[\"2022 Jan\",\"2021 Oct\",\"2021 Nov\",\"2021 Dec\"],\"y\":[3793.81,3793.81,3793.81,3793.81],\"type\":\"bar\"},{\"marker\":{\"color\":\"crimson\"},\"name\":\"Expenditures\",\"text\":[\"+35%\",\"+73%\",\"+26%\",\"+30%\"],\"textfont\":{\"color\":\"darkgreen\",\"size\":18},\"textposition\":\"outside\",\"x\":[\"2022 Jan\",\"2021 Oct\",\"2021 Nov\",\"2021 Dec\"],\"y\":[2478.52,1016.08,2795.99,2651.32],\"type\":\"bar\"}],                        {\"template\":{\"data\":{\"bar\":[{\"error_x\":{\"color\":\"#2a3f5f\"},\"error_y\":{\"color\":\"#2a3f5f\"},\"marker\":{\"line\":{\"color\":\"#E5ECF6\",\"width\":0.5},\"pattern\":{\"fillmode\":\"overlay\",\"size\":10,\"solidity\":0.2}},\"type\":\"bar\"}],\"barpolar\":[{\"marker\":{\"line\":{\"color\":\"#E5ECF6\",\"width\":0.5},\"pattern\":{\"fillmode\":\"overlay\",\"size\":10,\"solidity\":0.2}},\"type\":\"barpolar\"}],\"carpet\":[{\"aaxis\":{\"endlinecolor\":\"#2a3f5f\",\"gridcolor\":\"white\",\"linecolor\":\"white\",\"minorgridcolor\":\"white\",\"startlinecolor\":\"#2a3f5f\"},\"baxis\":{\"endlinecolor\":\"#2a3f5f\",\"gridcolor\":\"white\",\"linecolor\":\"white\",\"minorgridcolor\":\"white\",\"startlinecolor\":\"#2a3f5f\"},\"type\":\"carpet\"}],\"choropleth\":[{\"colorbar\":{\"outlinewidth\":0,\"ticks\":\"\"},\"type\":\"choropleth\"}],\"contour\":[{\"colorbar\":{\"outlinewidth\":0,\"ticks\":\"\"},\"colorscale\":[[0.0,\"#0d0887\"],[0.1111111111111111,\"#46039f\"],[0.2222222222222222,\"#7201a8\"],[0.3333333333333333,\"#9c179e\"],[0.4444444444444444,\"#bd3786\"],[0.5555555555555556,\"#d8576b\"],[0.6666666666666666,\"#ed7953\"],[0.7777777777777778,\"#fb9f3a\"],[0.8888888888888888,\"#fdca26\"],[1.0,\"#f0f921\"]],\"type\":\"contour\"}],\"contourcarpet\":[{\"colorbar\":{\"outlinewidth\":0,\"ticks\":\"\"},\"type\":\"contourcarpet\"}],\"heatmap\":[{\"colorbar\":{\"outlinewidth\":0,\"ticks\":\"\"},\"colorscale\":[[0.0,\"#0d0887\"],[0.1111111111111111,\"#46039f\"],[0.2222222222222222,\"#7201a8\"],[0.3333333333333333,\"#9c179e\"],[0.4444444444444444,\"#bd3786\"],[0.5555555555555556,\"#d8576b\"],[0.6666666666666666,\"#ed7953\"],[0.7777777777777778,\"#fb9f3a\"],[0.8888888888888888,\"#fdca26\"],[1.0,\"#f0f921\"]],\"type\":\"heatmap\"}],\"heatmapgl\":[{\"colorbar\":{\"outlinewidth\":0,\"ticks\":\"\"},\"colorscale\":[[0.0,\"#0d0887\"],[0.1111111111111111,\"#46039f\"],[0.2222222222222222,\"#7201a8\"],[0.3333333333333333,\"#9c179e\"],[0.4444444444444444,\"#bd3786\"],[0.5555555555555556,\"#d8576b\"],[0.6666666666666666,\"#ed7953\"],[0.7777777777777778,\"#fb9f3a\"],[0.8888888888888888,\"#fdca26\"],[1.0,\"#f0f921\"]],\"type\":\"heatmapgl\"}],\"histogram\":[{\"marker\":{\"pattern\":{\"fillmode\":\"overlay\",\"size\":10,\"solidity\":0.2}},\"type\":\"histogram\"}],\"histogram2d\":[{\"colorbar\":{\"outlinewidth\":0,\"ticks\":\"\"},\"colorscale\":[[0.0,\"#0d0887\"],[0.1111111111111111,\"#46039f\"],[0.2222222222222222,\"#7201a8\"],[0.3333333333333333,\"#9c179e\"],[0.4444444444444444,\"#bd3786\"],[0.5555555555555556,\"#d8576b\"],[0.6666666666666666,\"#ed7953\"],[0.7777777777777778,\"#fb9f3a\"],[0.8888888888888888,\"#fdca26\"],[1.0,\"#f0f921\"]],\"type\":\"histogram2d\"}],\"histogram2dcontour\":[{\"colorbar\":{\"outlinewidth\":0,\"ticks\":\"\"},\"colorscale\":[[0.0,\"#0d0887\"],[0.1111111111111111,\"#46039f\"],[0.2222222222222222,\"#7201a8\"],[0.3333333333333333,\"#9c179e\"],[0.4444444444444444,\"#bd3786\"],[0.5555555555555556,\"#d8576b\"],[0.6666666666666666,\"#ed7953\"],[0.7777777777777778,\"#fb9f3a\"],[0.8888888888888888,\"#fdca26\"],[1.0,\"#f0f921\"]],\"type\":\"histogram2dcontour\"}],\"mesh3d\":[{\"colorbar\":{\"outlinewidth\":0,\"ticks\":\"\"},\"type\":\"mesh3d\"}],\"parcoords\":[{\"line\":{\"colorbar\":{\"outlinewidth\":0,\"ticks\":\"\"}},\"type\":\"parcoords\"}],\"pie\":[{\"automargin\":true,\"type\":\"pie\"}],\"scatter\":[{\"marker\":{\"colorbar\":{\"outlinewidth\":0,\"ticks\":\"\"}},\"type\":\"scatter\"}],\"scatter3d\":[{\"line\":{\"colorbar\":{\"outlinewidth\":0,\"ticks\":\"\"}},\"marker\":{\"colorbar\":{\"outlinewidth\":0,\"ticks\":\"\"}},\"type\":\"scatter3d\"}],\"scattercarpet\":[{\"marker\":{\"colorbar\":{\"outlinewidth\":0,\"ticks\":\"\"}},\"type\":\"scattercarpet\"}],\"scattergeo\":[{\"marker\":{\"colorbar\":{\"outlinewidth\":0,\"ticks\":\"\"}},\"type\":\"scattergeo\"}],\"scattergl\":[{\"marker\":{\"colorbar\":{\"outlinewidth\":0,\"ticks\":\"\"}},\"type\":\"scattergl\"}],\"scattermapbox\":[{\"marker\":{\"colorbar\":{\"outlinewidth\":0,\"ticks\":\"\"}},\"type\":\"scattermapbox\"}],\"scatterpolar\":[{\"marker\":{\"colorbar\":{\"outlinewidth\":0,\"ticks\":\"\"}},\"type\":\"scatterpolar\"}],\"scatterpolargl\":[{\"marker\":{\"colorbar\":{\"outlinewidth\":0,\"ticks\":\"\"}},\"type\":\"scatterpolargl\"}],\"scatterternary\":[{\"marker\":{\"colorbar\":{\"outlinewidth\":0,\"ticks\":\"\"}},\"type\":\"scatterternary\"}],\"surface\":[{\"colorbar\":{\"outlinewidth\":0,\"ticks\":\"\"},\"colorscale\":[[0.0,\"#0d0887\"],[0.1111111111111111,\"#46039f\"],[0.2222222222222222,\"#7201a8\"],[0.3333333333333333,\"#9c179e\"],[0.4444444444444444,\"#bd3786\"],[0.5555555555555556,\"#d8576b\"],[0.6666666666666666,\"#ed7953\"],[0.7777777777777778,\"#fb9f3a\"],[0.8888888888888888,\"#fdca26\"],[1.0,\"#f0f921\"]],\"type\":\"surface\"}],\"table\":[{\"cells\":{\"fill\":{\"color\":\"#EBF0F8\"},\"line\":{\"color\":\"white\"}},\"header\":{\"fill\":{\"color\":\"#C8D4E3\"},\"line\":{\"color\":\"white\"}},\"type\":\"table\"}]},\"layout\":{\"annotationdefaults\":{\"arrowcolor\":\"#2a3f5f\",\"arrowhead\":0,\"arrowwidth\":1},\"autotypenumbers\":\"strict\",\"coloraxis\":{\"colorbar\":{\"outlinewidth\":0,\"ticks\":\"\"}},\"colorscale\":{\"diverging\":[[0,\"#8e0152\"],[0.1,\"#c51b7d\"],[0.2,\"#de77ae\"],[0.3,\"#f1b6da\"],[0.4,\"#fde0ef\"],[0.5,\"#f7f7f7\"],[0.6,\"#e6f5d0\"],[0.7,\"#b8e186\"],[0.8,\"#7fbc41\"],[0.9,\"#4d9221\"],[1,\"#276419\"]],\"sequential\":[[0.0,\"#0d0887\"],[0.1111111111111111,\"#46039f\"],[0.2222222222222222,\"#7201a8\"],[0.3333333333333333,\"#9c179e\"],[0.4444444444444444,\"#bd3786\"],[0.5555555555555556,\"#d8576b\"],[0.6666666666666666,\"#ed7953\"],[0.7777777777777778,\"#fb9f3a\"],[0.8888888888888888,\"#fdca26\"],[1.0,\"#f0f921\"]],\"sequentialminus\":[[0.0,\"#0d0887\"],[0.1111111111111111,\"#46039f\"],[0.2222222222222222,\"#7201a8\"],[0.3333333333333333,\"#9c179e\"],[0.4444444444444444,\"#bd3786\"],[0.5555555555555556,\"#d8576b\"],[0.6666666666666666,\"#ed7953\"],[0.7777777777777778,\"#fb9f3a\"],[0.8888888888888888,\"#fdca26\"],[1.0,\"#f0f921\"]]},\"colorway\":[\"#636efa\",\"#EF553B\",\"#00cc96\",\"#ab63fa\",\"#FFA15A\",\"#19d3f3\",\"#FF6692\",\"#B6E880\",\"#FF97FF\",\"#FECB52\"],\"font\":{\"color\":\"#2a3f5f\"},\"geo\":{\"bgcolor\":\"white\",\"lakecolor\":\"white\",\"landcolor\":\"#E5ECF6\",\"showlakes\":true,\"showland\":true,\"subunitcolor\":\"white\"},\"hoverlabel\":{\"align\":\"left\"},\"hovermode\":\"closest\",\"mapbox\":{\"style\":\"light\"},\"paper_bgcolor\":\"white\",\"plot_bgcolor\":\"#E5ECF6\",\"polar\":{\"angularaxis\":{\"gridcolor\":\"white\",\"linecolor\":\"white\",\"ticks\":\"\"},\"bgcolor\":\"#E5ECF6\",\"radialaxis\":{\"gridcolor\":\"white\",\"linecolor\":\"white\",\"ticks\":\"\"}},\"scene\":{\"xaxis\":{\"backgroundcolor\":\"#E5ECF6\",\"gridcolor\":\"white\",\"gridwidth\":2,\"linecolor\":\"white\",\"showbackground\":true,\"ticks\":\"\",\"zerolinecolor\":\"white\"},\"yaxis\":{\"backgroundcolor\":\"#E5ECF6\",\"gridcolor\":\"white\",\"gridwidth\":2,\"linecolor\":\"white\",\"showbackground\":true,\"ticks\":\"\",\"zerolinecolor\":\"white\"},\"zaxis\":{\"backgroundcolor\":\"#E5ECF6\",\"gridcolor\":\"white\",\"gridwidth\":2,\"linecolor\":\"white\",\"showbackground\":true,\"ticks\":\"\",\"zerolinecolor\":\"white\"}},\"shapedefaults\":{\"line\":{\"color\":\"#2a3f5f\"}},\"ternary\":{\"aaxis\":{\"gridcolor\":\"white\",\"linecolor\":\"white\",\"ticks\":\"\"},\"baxis\":{\"gridcolor\":\"white\",\"linecolor\":\"white\",\"ticks\":\"\"},\"bgcolor\":\"#E5ECF6\",\"caxis\":{\"gridcolor\":\"white\",\"linecolor\":\"white\",\"ticks\":\"\"}},\"title\":{\"x\":0.05},\"xaxis\":{\"automargin\":true,\"gridcolor\":\"white\",\"linecolor\":\"white\",\"ticks\":\"\",\"title\":{\"standoff\":15},\"zerolinecolor\":\"white\",\"zerolinewidth\":2},\"yaxis\":{\"automargin\":true,\"gridcolor\":\"white\",\"linecolor\":\"white\",\"ticks\":\"\",\"title\":{\"standoff\":15},\"zerolinecolor\":\"white\",\"zerolinewidth\":2}}},\"barmode\":\"group\",\"autosize\":true,\"width\":800,\"height\":500},                        {\"responsive\": true}                    ).then(function(){\n",
       "                            \n",
       "var gd = document.getElementById('10c64a12-afd0-4f59-a1a1-3449a6d60150');\n",
       "var x = new MutationObserver(function (mutations, observer) {{\n",
       "        var display = window.getComputedStyle(gd).display;\n",
       "        if (!display || display === 'none') {{\n",
       "            console.log([gd, 'removed!']);\n",
       "            Plotly.purge(gd);\n",
       "            observer.disconnect();\n",
       "        }}\n",
       "}});\n",
       "\n",
       "// Listen for the removal of the full notebook cells\n",
       "var notebookContainer = gd.closest('#notebook-container');\n",
       "if (notebookContainer) {{\n",
       "    x.observe(notebookContainer, {childList: true});\n",
       "}}\n",
       "\n",
       "// Listen for the clearing of the current output cell\n",
       "var outputEl = gd.closest('.output');\n",
       "if (outputEl) {{\n",
       "    x.observe(outputEl, {childList: true});\n",
       "}}\n",
       "\n",
       "                        })                };                });            </script>        </div>"
      ]
     },
     "metadata": {},
     "output_type": "display_data"
    }
   ],
   "source": [
    "import plotly.graph_objects as go\n",
    "\n",
    "months = months\n",
    "rev_numbers = avg_revenue_list\n",
    "exp_numbers = monthly_expenditures_list\n",
    "\n",
    "## calculate percentage change of an animal from SF to LA\n",
    "exp_rev_percent_change = [100*(rev_count - exp_count) / rev_count \n",
    "                        for rev_count, exp_count in zip(rev_numbers, exp_numbers)]\n",
    "\n",
    "## pass the text to the second graph_object only\n",
    "fig = go.Figure(data=[\n",
    "    go.Bar(name='Revenues', x=months, y=rev_numbers, marker_color='darkgreen'),\n",
    "    go.Bar(name='Expenditures', x=months, y=exp_numbers, marker_color='crimson', \n",
    "        text=[f\"+{percent_change:.0f}%\" if percent_change < 0 \n",
    "              else f\"+{percent_change:.0f}%\"\n",
    "              for percent_change in exp_rev_percent_change ],\n",
    "        textposition='outside',\n",
    "        textfont_size=18,\n",
    "        textfont_color='darkgreen'\n",
    "        )\n",
    "])\n",
    "# Change the bar mode\n",
    "fig.update_layout(barmode='group', autosize=True, width=800, height=500)\n",
    "fig.show()"
   ]
  },
  {
   "cell_type": "code",
   "execution_count": null,
   "id": "951cf828-50b9-461c-93c0-53fb20280969",
   "metadata": {},
   "outputs": [],
   "source": []
  },
  {
   "cell_type": "code",
   "execution_count": 586,
   "id": "d5cdf6c9-87d7-4991-a81e-36aae0b2649e",
   "metadata": {},
   "outputs": [
    {
     "data": {
      "text/html": [
       "<div>\n",
       "<style scoped>\n",
       "    .dataframe tbody tr th:only-of-type {\n",
       "        vertical-align: middle;\n",
       "    }\n",
       "\n",
       "    .dataframe tbody tr th {\n",
       "        vertical-align: top;\n",
       "    }\n",
       "\n",
       "    .dataframe thead th {\n",
       "        text-align: right;\n",
       "    }\n",
       "</style>\n",
       "<table border=\"1\" class=\"dataframe\">\n",
       "  <thead>\n",
       "    <tr style=\"text-align: right;\">\n",
       "      <th></th>\n",
       "      <th>Months</th>\n",
       "      <th>Monthly expenditures</th>\n",
       "      <th>Monthly average revenues</th>\n",
       "      <th>rate</th>\n",
       "      <th>rest</th>\n",
       "    </tr>\n",
       "  </thead>\n",
       "  <tbody>\n",
       "    <tr>\n",
       "      <th>0</th>\n",
       "      <td>2022 Jan</td>\n",
       "      <td>2478.52</td>\n",
       "      <td>3793.81</td>\n",
       "      <td>0.65</td>\n",
       "      <td>0.35</td>\n",
       "    </tr>\n",
       "    <tr>\n",
       "      <th>1</th>\n",
       "      <td>2021 Oct</td>\n",
       "      <td>1016.08</td>\n",
       "      <td>3793.81</td>\n",
       "      <td>0.27</td>\n",
       "      <td>0.73</td>\n",
       "    </tr>\n",
       "    <tr>\n",
       "      <th>2</th>\n",
       "      <td>2021 Nov</td>\n",
       "      <td>2795.99</td>\n",
       "      <td>3793.81</td>\n",
       "      <td>0.74</td>\n",
       "      <td>0.26</td>\n",
       "    </tr>\n",
       "    <tr>\n",
       "      <th>3</th>\n",
       "      <td>2021 Dec</td>\n",
       "      <td>2651.32</td>\n",
       "      <td>3793.81</td>\n",
       "      <td>0.70</td>\n",
       "      <td>0.30</td>\n",
       "    </tr>\n",
       "  </tbody>\n",
       "</table>\n",
       "</div>"
      ],
      "text/plain": [
       "     Months  Monthly expenditures  Monthly average revenues  rate  rest\n",
       "0  2022 Jan               2478.52                   3793.81  0.65  0.35\n",
       "1  2021 Oct               1016.08                   3793.81  0.27  0.73\n",
       "2  2021 Nov               2795.99                   3793.81  0.74  0.26\n",
       "3  2021 Dec               2651.32                   3793.81  0.70  0.30"
      ]
     },
     "execution_count": 586,
     "metadata": {},
     "output_type": "execute_result"
    }
   ],
   "source": [
    "df = df.assign(rate = lambda x: round((x['Monthly expenditures']/x['Monthly average revenues']),2),\n",
    "              rest = lambda x: 1-x['rate'])\n",
    "df"
   ]
  },
  {
   "cell_type": "code",
   "execution_count": 588,
   "id": "0403aaf7-5c34-480f-bbab-78f94ebccb33",
   "metadata": {},
   "outputs": [
    {
     "data": {
      "text/plain": [
       "(['2022 Jan', '2021 Oct', '2021 Nov', '2021 Dec'],\n",
       " [0.65, 0.27, 0.74, 0.7],\n",
       " [0.35, 0.73, 0.26, 0.3])"
      ]
     },
     "execution_count": 588,
     "metadata": {},
     "output_type": "execute_result"
    }
   ],
   "source": [
    "df_rate = round(df['rate'],2).tolist()\n",
    "df_rest = round(df['rest'],2).tolist()\n",
    "months = year_month['year_month'].tolist()\n",
    "\n",
    "months, df_rate, df_rest"
   ]
  },
  {
   "cell_type": "code",
   "execution_count": 618,
   "id": "377a8272-c5f1-4632-86d5-c02f14a47ea5",
   "metadata": {},
   "outputs": [
    {
     "data": {
      "text/plain": [
       "[2478.52, 1016.08, 2795.99, 2651.32]"
      ]
     },
     "execution_count": 618,
     "metadata": {},
     "output_type": "execute_result"
    }
   ],
   "source": [
    "monthly_expenditures_list = round(monthly_expenditures['betrag_eur'],2).abs().tolist()\n",
    "monthly_expenditures_list"
   ]
  },
  {
   "cell_type": "code",
   "execution_count": 506,
   "id": "8d4dca8c-53f1-40d6-a7d1-fdca1287595c",
   "metadata": {},
   "outputs": [
    {
     "data": {
      "text/plain": [
       "[3793.81, 3793.81, 3793.81, 3793.81]"
      ]
     },
     "execution_count": 506,
     "metadata": {},
     "output_type": "execute_result"
    }
   ],
   "source": [
    "avg_revenue_list = [avg_revenue for i in range(len(monthly_expenditures_list))]\n",
    "avg_revenue_list"
   ]
  },
  {
   "cell_type": "code",
   "execution_count": 600,
   "id": "8524ead8-1c5b-4175-80c2-411be7bc22d6",
   "metadata": {},
   "outputs": [
    {
     "data": {
      "image/png": "[encoded data removed]",
      "text/plain": [
       "<Figure size 540x252 with 1 Axes>"
      ]
     },
     "metadata": {
      "needs_background": "light"
     },
     "output_type": "display_data"
    }
   ],
   "source": [
    "from matplotlib import pyplot as plt\n",
    "import numpy as np\n",
    "\n",
    "plt.rcParams[\"figure.figsize\"] = [7.50, 3.50]\n",
    "plt.rcParams[\"figure.autolayout\"] = True\n",
    "\n",
    "y = monthly_expenditures_list\n",
    "x = months\n",
    "\n",
    "width = 0.35\n",
    "fig, ax = plt.subplots()\n",
    "\n",
    "pps = ax.bar(x, y, width, align='center')\n",
    "\n",
    "for p in pps:\n",
    "    height = p.get_height()\n",
    "    ax.text(x=p.get_x() + p.get_width() / 2, y=height+.10,\n",
    "      s=\"{}%\".format(height),\n",
    "      ha='center')\n",
    "\n",
    "plt.show()"
   ]
  },
  {
   "cell_type": "code",
   "execution_count": null,
   "id": "b16cf712-b257-4118-ab8c-71dc32b43aa7",
   "metadata": {},
   "outputs": [],
   "source": []
  },
  {
   "cell_type": "code",
   "execution_count": null,
   "id": "5ce1420f-b802-472d-af8b-34c8cc3b8b01",
   "metadata": {},
   "outputs": [],
   "source": []
  },
  {
   "cell_type": "code",
   "execution_count": 571,
   "id": "995cf333-d388-437e-a383-541ade3e14fb",
   "metadata": {},
   "outputs": [],
   "source": [
    "N = len(months)\n",
    "ind = np.arange(N)    # the x locations for the groups\n",
    "width = 0.35       # the width of the bars: can also be len(x) sequence"
   ]
  },
  {
   "cell_type": "code",
   "execution_count": 596,
   "id": "c6ba6b45-56a4-42b8-9a54-381b9716a612",
   "metadata": {},
   "outputs": [
    {
     "data": {
      "image/png": "[encoded data removed]",
      "text/plain": [
       "<Figure size 432x288 with 1 Axes>"
      ]
     },
     "metadata": {
      "needs_background": "light"
     },
     "output_type": "display_data"
    }
   ],
   "source": [
    "fig, ax = plt.subplots()\n",
    "\n",
    "df = pd.DataFrame({\n",
    "    'Months': months,\n",
    "    'Monthly expenditures': monthly_expenditures_list,\n",
    "    'Monthly average revenues': avg_revenue_list\n",
    "})\n",
    "\n",
    "p1 = ax.bar(ind, monthly_expenditures_list, width, yerr=df_rate, label='exp')\n",
    "p2 = ax.bar(ind, avg_revenue_list, width,\n",
    "            bottom=monthly_expenditures_list, yerr=df_rest, label='rev')\n",
    "\n",
    "ax.axhline(0, color='grey', linewidth=0.8)\n",
    "ax.set_ylabel('Scores')\n",
    "ax.set_title('Scores by group and gender')\n",
    "ax.set_xticks(ind, labels=months)\n",
    "ax.legend()\n",
    "\n",
    "# Label with label_type 'center' instead of the default 'edge'\n",
    "ax.bar_label(p1, label_type='center')\n",
    "ax.bar_label(p2, label_type='center')\n",
    "ax.bar_label(p2)\n",
    "\n",
    "plt.show()"
   ]
  },
  {
   "cell_type": "code",
   "execution_count": 594,
   "id": "3440cc63-0fc0-4793-be4a-a2dff2394010",
   "metadata": {},
   "outputs": [
    {
     "data": {
      "image/png": "[encoded data removed]",
      "text/plain": [
       "<Figure size 864x432 with 1 Axes>"
      ]
     },
     "metadata": {
      "needs_background": "light"
     },
     "output_type": "display_data"
    }
   ],
   "source": [
    "N = len(months)\n",
    "ind = np.arange(N)\n",
    "width = 0.35\n",
    "\n",
    "ax = df.plot(\n",
    "    x=\"Months\", y=\"Monthly average revenues\", \n",
    "    kind=\"bar\", \n",
    "    figsize=(12,6),\n",
    "    yerr=df_rest, \n",
    "    label='rev'\n",
    ")\n",
    "df.plot(\n",
    "    x=\"Months\", y=\"Monthly expenditures\", \n",
    "    kind=\"bar\", \n",
    "    ax=ax, \n",
    "    color=\"maroon\",\n",
    "    width=.5, \n",
    "    edgecolor=None,\n",
    "    yerr=df_rate, \n",
    "    label='exp'\n",
    ")\n",
    "\n",
    "plt.show()"
   ]
  },
  {
   "cell_type": "code",
   "execution_count": null,
   "id": "78533efc-30b8-4657-b6f9-af858faab9d3",
   "metadata": {},
   "outputs": [],
   "source": []
  },
  {
   "cell_type": "code",
   "execution_count": null,
   "id": "448d930d-c386-4ed4-9e52-0bdcf9e164d3",
   "metadata": {},
   "outputs": [],
   "source": []
  },
  {
   "cell_type": "code",
   "execution_count": null,
   "id": "d082cb97-fb27-4259-8860-55164391a32a",
   "metadata": {},
   "outputs": [],
   "source": []
  },
  {
   "cell_type": "markdown",
   "id": "e632af23-969f-41d8-a494-5eeaa6027c2f",
   "metadata": {
    "tags": []
   },
   "source": [
    "### web scraping for references"
   ]
  },
  {
   "cell_type": "markdown",
   "id": "a5d6427c-d850-4b05-8199-f35d027d68d7",
   "metadata": {},
   "source": [
    "https://www.ing.de/wissen/50-30-20-regel/ \n",
    "\n",
    "According to this German bank a ratio of 50-30-20 is recommended:\n",
    "- 50% for basic expenses (such as rent, grocery, insurance, eletricity and internet shall be covered)\n",
    "- 30% for daily life\n",
    "- 20% for cash saving\n",
    "\n",
    "In the next line, we show an detailed example of another German bank as reference for upcoming calculcations."
   ]
  },
  {
   "cell_type": "code",
   "execution_count": 132,
   "id": "a0065089-ea87-45a1-b8f4-3da241c57eff",
   "metadata": {},
   "outputs": [
    {
     "data": {
      "text/html": [
       "<div>\n",
       "<style scoped>\n",
       "    .dataframe tbody tr th:only-of-type {\n",
       "        vertical-align: middle;\n",
       "    }\n",
       "\n",
       "    .dataframe tbody tr th {\n",
       "        vertical-align: top;\n",
       "    }\n",
       "\n",
       "    .dataframe thead th {\n",
       "        text-align: right;\n",
       "    }\n",
       "</style>\n",
       "<table border=\"1\" class=\"dataframe\">\n",
       "  <thead>\n",
       "    <tr style=\"text-align: right;\">\n",
       "      <th></th>\n",
       "      <th>category</th>\n",
       "      <th>single</th>\n",
       "      <th>family</th>\n",
       "    </tr>\n",
       "  </thead>\n",
       "  <tbody>\n",
       "    <tr>\n",
       "      <th>0</th>\n",
       "      <td>Gesamte Konsumausgaben</td>\n",
       "      <td>1.629</td>\n",
       "      <td>3.812</td>\n",
       "    </tr>\n",
       "    <tr>\n",
       "      <th>1</th>\n",
       "      <td>Nahrungsmittel, Getränke und Tabakwaren</td>\n",
       "      <td>204</td>\n",
       "      <td>559</td>\n",
       "    </tr>\n",
       "    <tr>\n",
       "      <th>2</th>\n",
       "      <td>Bekleidung und Schuhe</td>\n",
       "      <td>64</td>\n",
       "      <td>201</td>\n",
       "    </tr>\n",
       "    <tr>\n",
       "      <th>3</th>\n",
       "      <td>Wohnen, Energie</td>\n",
       "      <td>667</td>\n",
       "      <td>1.202</td>\n",
       "    </tr>\n",
       "    <tr>\n",
       "      <th>4</th>\n",
       "      <td>Innenausstattung, Haushaltsgeräte</td>\n",
       "      <td>79</td>\n",
       "      <td>228</td>\n",
       "    </tr>\n",
       "    <tr>\n",
       "      <th>5</th>\n",
       "      <td>Gesundheit</td>\n",
       "      <td>60</td>\n",
       "      <td>119</td>\n",
       "    </tr>\n",
       "    <tr>\n",
       "      <th>6</th>\n",
       "      <td>Verkehr</td>\n",
       "      <td>189</td>\n",
       "      <td>581</td>\n",
       "    </tr>\n",
       "    <tr>\n",
       "      <th>7</th>\n",
       "      <td>Post und Telekommunikation</td>\n",
       "      <td>47</td>\n",
       "      <td>89</td>\n",
       "    </tr>\n",
       "    <tr>\n",
       "      <th>8</th>\n",
       "      <td>Freizeit, Unterhaltung und Kultur</td>\n",
       "      <td>166</td>\n",
       "      <td>409</td>\n",
       "    </tr>\n",
       "    <tr>\n",
       "      <th>9</th>\n",
       "      <td>Bildungswesen</td>\n",
       "      <td>5</td>\n",
       "      <td>67</td>\n",
       "    </tr>\n",
       "    <tr>\n",
       "      <th>10</th>\n",
       "      <td>Beherbergungs- und Gaststättendienstleistungen</td>\n",
       "      <td>86</td>\n",
       "      <td>224</td>\n",
       "    </tr>\n",
       "    <tr>\n",
       "      <th>11</th>\n",
       "      <td>Andere Waren und Dienstleistungen</td>\n",
       "      <td>62</td>\n",
       "      <td>133</td>\n",
       "    </tr>\n",
       "  </tbody>\n",
       "</table>\n",
       "</div>"
      ],
      "text/plain": [
       "                                          category single family\n",
       "0                           Gesamte Konsumausgaben  1.629  3.812\n",
       "1          Nahrungsmittel, Getränke und Tabakwaren    204    559\n",
       "2                            Bekleidung und Schuhe     64    201\n",
       "3                                  Wohnen, Energie    667  1.202\n",
       "4                Innenausstattung, Haushaltsgeräte     79    228\n",
       "5                                       Gesundheit     60    119\n",
       "6                                          Verkehr    189    581\n",
       "7                       Post und Telekommunikation     47     89\n",
       "8                Freizeit, Unterhaltung und Kultur    166    409\n",
       "9                                    Bildungswesen      5     67\n",
       "10  Beherbergungs- und Gaststättendienstleistungen     86    224\n",
       "11               Andere Waren und Dienstleistungen     62    133"
      ]
     },
     "execution_count": 132,
     "metadata": {},
     "output_type": "execute_result"
    }
   ],
   "source": [
    "# showing a table to define typical categories by a big German bank\n",
    "from bs4 import BeautifulSoup\n",
    "import requests\n",
    "\n",
    "url = \"https://www.sparkasse.de/service/rechner/haushaltsrechner.html\"\n",
    "response = requests.get(url)\n",
    "soup = BeautifulSoup(response.content, \"html.parser\")\n",
    "col_1 = []\n",
    "\n",
    "for i in soup.find_all(\"td\", {\"style\":\"text-align: left;\"}):\n",
    "    col_1.append(i.get_text())\n",
    "\n",
    "reference = pd.DataFrame(pd.DataFrame({\"col_1\":col_1}).values.reshape(-1, 3), \n",
    "                         columns=['category','single','family'])\n",
    "reference"
   ]
  },
  {
   "cell_type": "code",
   "execution_count": 133,
   "id": "b719e948-151d-4d76-9a33-332487ab2f29",
   "metadata": {},
   "outputs": [],
   "source": [
    "# pip install deep_translator"
   ]
  },
  {
   "cell_type": "code",
   "execution_count": 134,
   "id": "c50bd699-ab6e-41cd-9524-ae9ba1b560e6",
   "metadata": {},
   "outputs": [],
   "source": [
    "# Since we have here a German dataframe, we are going to translate it for readers understanding\n",
    "from deep_translator import GoogleTranslator\n",
    "to_translate = 'Hallo Welt'\n",
    "translated = GoogleTranslator(source='auto', target='en').translate(to_translate)"
   ]
  },
  {
   "cell_type": "code",
   "execution_count": 135,
   "id": "57560124-c1a0-4410-a7a2-51a84994cac5",
   "metadata": {},
   "outputs": [
    {
     "data": {
      "text/plain": [
       "'Hello World'"
      ]
     },
     "execution_count": 135,
     "metadata": {},
     "output_type": "execute_result"
    }
   ],
   "source": [
    "translated"
   ]
  },
  {
   "cell_type": "code",
   "execution_count": 136,
   "id": "0897116e-4260-4491-af6e-b25cd790d826",
   "metadata": {},
   "outputs": [
    {
     "data": {
      "text/plain": [
       "['Gesamte Konsumausgaben', 'Nahrungsmittel, Getränke und Tabakwaren']"
      ]
     },
     "execution_count": 136,
     "metadata": {},
     "output_type": "execute_result"
    }
   ],
   "source": [
    "list_reference = reference['category'].tolist()\n",
    "list_reference[:2]"
   ]
  },
  {
   "cell_type": "code",
   "execution_count": 137,
   "id": "3e144f32-81d5-4cb6-85a5-f172d7941de1",
   "metadata": {},
   "outputs": [],
   "source": [
    "a = []\n",
    "for i in list_reference:\n",
    "    result = GoogleTranslator(source='auto', target='en').translate(f'{i}')\n",
    "    a.append(result)"
   ]
  },
  {
   "cell_type": "code",
   "execution_count": 138,
   "id": "31d3bef9-5cf5-46b8-a605-aebfdf1c28e5",
   "metadata": {},
   "outputs": [
    {
     "data": {
      "text/plain": [
       "['Total Consumer Expenditure', 'food, beverages and tobacco products']"
      ]
     },
     "execution_count": 138,
     "metadata": {},
     "output_type": "execute_result"
    }
   ],
   "source": [
    "# Don't blame the author, it's Google work translating \"Gesundheit\", which means \"health\", with \"Bless you\"\n",
    "a[:2]"
   ]
  },
  {
   "cell_type": "code",
   "execution_count": 139,
   "id": "30b7cf80-eb6c-4de3-b8b6-94269bac4fd9",
   "metadata": {},
   "outputs": [],
   "source": [
    "a = pd.DataFrame(data={'c': a})"
   ]
  },
  {
   "cell_type": "code",
   "execution_count": 140,
   "id": "445e6d02-3aec-4d82-b985-6a91d775a176",
   "metadata": {},
   "outputs": [],
   "source": [
    "reference = reference.join(a).assign(category = lambda x: x['c'])"
   ]
  },
  {
   "cell_type": "code",
   "execution_count": 141,
   "id": "258677cf-e2f8-42f0-a2d9-2d6cb972e03e",
   "metadata": {},
   "outputs": [],
   "source": [
    "reference.drop(['c'], axis=1, inplace=True)"
   ]
  },
  {
   "cell_type": "code",
   "execution_count": 142,
   "id": "73f5ed4c-f5c2-453d-8ed1-5d03e2417d19",
   "metadata": {},
   "outputs": [],
   "source": [
    "# Since we observe in this case a single consumer, we are going to stick with the 'single' column as a reference\n",
    "reference.drop(['family'], axis=1, inplace=True)"
   ]
  },
  {
   "cell_type": "code",
   "execution_count": 143,
   "id": "0a3e82b3-f5c7-49f7-ba17-1527e7b43278",
   "metadata": {},
   "outputs": [],
   "source": [
    "reference = reference.assign(single = reference['single'].str.replace('\\.','', regex=True))"
   ]
  },
  {
   "cell_type": "code",
   "execution_count": 144,
   "id": "a54cce3c-6112-4142-85f9-f364d800dd5b",
   "metadata": {},
   "outputs": [],
   "source": [
    "reference['single'] = pd.to_numeric(reference['single'])"
   ]
  },
  {
   "cell_type": "code",
   "execution_count": 145,
   "id": "85a52c08-d108-40f1-91ac-826c390f991a",
   "metadata": {},
   "outputs": [],
   "source": [
    "consumption = reference.query('category == \"Total Consumer Expenditure\"')[['single']].iat[0,0]"
   ]
  },
  {
   "cell_type": "code",
   "execution_count": 146,
   "id": "e39cdd99-cf71-4b62-af27-6fbaae789c7f",
   "metadata": {},
   "outputs": [],
   "source": [
    "reference = reference.assign(rate = lambda x: round(((x['single'])/(consumption)),2))"
   ]
  },
  {
   "cell_type": "code",
   "execution_count": 147,
   "id": "1e632d45-ab28-4129-9d00-655dcae1e476",
   "metadata": {},
   "outputs": [
    {
     "data": {
      "text/html": [
       "<div>\n",
       "<style scoped>\n",
       "    .dataframe tbody tr th:only-of-type {\n",
       "        vertical-align: middle;\n",
       "    }\n",
       "\n",
       "    .dataframe tbody tr th {\n",
       "        vertical-align: top;\n",
       "    }\n",
       "\n",
       "    .dataframe thead th {\n",
       "        text-align: right;\n",
       "    }\n",
       "</style>\n",
       "<table border=\"1\" class=\"dataframe\">\n",
       "  <thead>\n",
       "    <tr style=\"text-align: right;\">\n",
       "      <th></th>\n",
       "      <th>category</th>\n",
       "      <th>single</th>\n",
       "      <th>rate</th>\n",
       "    </tr>\n",
       "  </thead>\n",
       "  <tbody>\n",
       "    <tr>\n",
       "      <th>0</th>\n",
       "      <td>Total Consumer Expenditure</td>\n",
       "      <td>1629</td>\n",
       "      <td>1.00</td>\n",
       "    </tr>\n",
       "    <tr>\n",
       "      <th>1</th>\n",
       "      <td>food, beverages and tobacco products</td>\n",
       "      <td>204</td>\n",
       "      <td>0.13</td>\n",
       "    </tr>\n",
       "    <tr>\n",
       "      <th>2</th>\n",
       "      <td>clothing and shoes</td>\n",
       "      <td>64</td>\n",
       "      <td>0.04</td>\n",
       "    </tr>\n",
       "    <tr>\n",
       "      <th>3</th>\n",
       "      <td>housing, energy</td>\n",
       "      <td>667</td>\n",
       "      <td>0.41</td>\n",
       "    </tr>\n",
       "    <tr>\n",
       "      <th>4</th>\n",
       "      <td>Interior decoration, household appliances</td>\n",
       "      <td>79</td>\n",
       "      <td>0.05</td>\n",
       "    </tr>\n",
       "    <tr>\n",
       "      <th>5</th>\n",
       "      <td>Bless you</td>\n",
       "      <td>60</td>\n",
       "      <td>0.04</td>\n",
       "    </tr>\n",
       "    <tr>\n",
       "      <th>6</th>\n",
       "      <td>traffic</td>\n",
       "      <td>189</td>\n",
       "      <td>0.12</td>\n",
       "    </tr>\n",
       "    <tr>\n",
       "      <th>7</th>\n",
       "      <td>post and telecommunications</td>\n",
       "      <td>47</td>\n",
       "      <td>0.03</td>\n",
       "    </tr>\n",
       "    <tr>\n",
       "      <th>8</th>\n",
       "      <td>Leisure, entertainment and culture</td>\n",
       "      <td>166</td>\n",
       "      <td>0.10</td>\n",
       "    </tr>\n",
       "    <tr>\n",
       "      <th>9</th>\n",
       "      <td>education</td>\n",
       "      <td>5</td>\n",
       "      <td>0.00</td>\n",
       "    </tr>\n",
       "    <tr>\n",
       "      <th>10</th>\n",
       "      <td>accommodation and catering services</td>\n",
       "      <td>86</td>\n",
       "      <td>0.05</td>\n",
       "    </tr>\n",
       "    <tr>\n",
       "      <th>11</th>\n",
       "      <td>Other goods and services</td>\n",
       "      <td>62</td>\n",
       "      <td>0.04</td>\n",
       "    </tr>\n",
       "  </tbody>\n",
       "</table>\n",
       "</div>"
      ],
      "text/plain": [
       "                                     category  single  rate\n",
       "0                  Total Consumer Expenditure    1629  1.00\n",
       "1        food, beverages and tobacco products     204  0.13\n",
       "2                          clothing and shoes      64  0.04\n",
       "3                             housing, energy     667  0.41\n",
       "4   Interior decoration, household appliances      79  0.05\n",
       "5                                   Bless you      60  0.04\n",
       "6                                     traffic     189  0.12\n",
       "7                 post and telecommunications      47  0.03\n",
       "8          Leisure, entertainment and culture     166  0.10\n",
       "9                                   education       5  0.00\n",
       "10        accommodation and catering services      86  0.05\n",
       "11                   Other goods and services      62  0.04"
      ]
     },
     "execution_count": 147,
     "metadata": {},
     "output_type": "execute_result"
    }
   ],
   "source": [
    "reference"
   ]
  },
  {
   "cell_type": "code",
   "execution_count": 148,
   "id": "bf993090-55c8-4bc4-b16b-964cc1c70b76",
   "metadata": {},
   "outputs": [
    {
     "data": {
      "text/plain": [
       "23.75"
      ]
     },
     "execution_count": 148,
     "metadata": {},
     "output_type": "execute_result"
    }
   ],
   "source": [
    "# For further calculations we are going to use this rate as a threshold for our daily life expenditures\n",
    "dailylife_rate = reference[(reference.category == 'clothing and shoes') | \n",
    "          (reference.category == 'Leisure, entertainment and culture') |\n",
    "          (reference.category == 'accommodation and catering services')\n",
    "         ]['rate'].sum()\n",
    "\n",
    "# Assuming, that 20% of the remaining income was used for cash saving/ wealth building, we will consider that\n",
    "dailylife_rate = round((dailylife_rate*100/.8),2)\n",
    "dailylife_rate"
   ]
  },
  {
   "cell_type": "markdown",
   "id": "b968aeb6-5993-4c5e-92a0-4740f3d345a0",
   "metadata": {},
   "source": [
    "According to these two sources from official bank websites, we have the values: \n",
    " - 20.00 %\n",
    " - 23.75 %\n",
    " \n",
    "We are going to stay with the minimal value of 20.00 % as a conservative threshold for daily life"
   ]
  },
  {
   "cell_type": "markdown",
   "id": "df10df3e-9184-4a27-8da0-5f1e9da7afb0",
   "metadata": {},
   "source": [
    "### savings"
   ]
  },
  {
   "cell_type": "code",
   "execution_count": 312,
   "id": "5c718958-ee58-427a-931b-a1a427d02f93",
   "metadata": {},
   "outputs": [
    {
     "data": {
      "text/html": [
       "<div>\n",
       "<style scoped>\n",
       "    .dataframe tbody tr th:only-of-type {\n",
       "        vertical-align: middle;\n",
       "    }\n",
       "\n",
       "    .dataframe tbody tr th {\n",
       "        vertical-align: top;\n",
       "    }\n",
       "\n",
       "    .dataframe thead th {\n",
       "        text-align: right;\n",
       "    }\n",
       "</style>\n",
       "<table border=\"1\" class=\"dataframe\">\n",
       "  <thead>\n",
       "    <tr style=\"text-align: right;\">\n",
       "      <th></th>\n",
       "      <th>buchungsdatum</th>\n",
       "      <th>buchungsdetails</th>\n",
       "      <th>betrag_eur</th>\n",
       "      <th>scategory</th>\n",
       "      <th>mcategory</th>\n",
       "    </tr>\n",
       "  </thead>\n",
       "  <tbody>\n",
       "    <tr>\n",
       "      <th>0</th>\n",
       "      <td>2022-01-21</td>\n",
       "      <td>Apple Services, Ihr Einkauf bei Apple Services</td>\n",
       "      <td>-0.69</td>\n",
       "      <td>movies_dl</td>\n",
       "      <td>dailylife</td>\n",
       "    </tr>\n",
       "    <tr>\n",
       "      <th>1</th>\n",
       "      <td>2022-01-19</td>\n",
       "      <td>Apple Services, Ihr Einkauf bei Apple Services</td>\n",
       "      <td>-0.99</td>\n",
       "      <td>movies_dl</td>\n",
       "      <td>dailylife</td>\n",
       "    </tr>\n",
       "    <tr>\n",
       "      <th>2</th>\n",
       "      <td>2022-01-19</td>\n",
       "      <td>Referenz 411100124073Mandat 001891000004Einreicher-ID DE11ZZZ00000144980Kunde 0000189100, siehe Zahlungsavis (E-Mail)</td>\n",
       "      <td>-20.14</td>\n",
       "      <td>share_mobility_dl</td>\n",
       "      <td>dailylife</td>\n",
       "    </tr>\n",
       "    <tr>\n",
       "      <th>3</th>\n",
       "      <td>2022-01-19</td>\n",
       "      <td>Referenz NOTPROVIDEDMandat EC341E1552A5BE3D8C23E0E2341Einreicher-ID DE40ZZZ00000206926B0717793 U451980729 B530900801 SIMply Rechnung</td>\n",
       "      <td>-14.66</td>\n",
       "      <td>smartphone_dl</td>\n",
       "      <td>dailylife</td>\n",
       "    </tr>\n",
       "    <tr>\n",
       "      <th>4</th>\n",
       "      <td>2022-01-18</td>\n",
       "      <td>Takeaway.com PaymentsB.V., Ihr Einkauf bei Takeaway.comPayments B.V.</td>\n",
       "      <td>-1.15</td>\n",
       "      <td>food_delivery_dl</td>\n",
       "      <td>dailylife</td>\n",
       "    </tr>\n",
       "    <tr>\n",
       "      <th>...</th>\n",
       "      <td>...</td>\n",
       "      <td>...</td>\n",
       "      <td>...</td>\n",
       "      <td>...</td>\n",
       "      <td>...</td>\n",
       "    </tr>\n",
       "    <tr>\n",
       "      <th>226</th>\n",
       "      <td>2021-10-19</td>\n",
       "      <td>Takeaway.com PaymentsB.V., Ihr Einkauf bei Takeaway.comPayments B.V.</td>\n",
       "      <td>-26.48</td>\n",
       "      <td>food_delivery_dl</td>\n",
       "      <td>dailylife</td>\n",
       "    </tr>\n",
       "    <tr>\n",
       "      <th>227</th>\n",
       "      <td>2021-10-19</td>\n",
       "      <td>iTunes and App Store,Ihr Einkauf bei iTunes and App Store</td>\n",
       "      <td>-0.99</td>\n",
       "      <td>music_dl</td>\n",
       "      <td>dailylife</td>\n",
       "    </tr>\n",
       "    <tr>\n",
       "      <th>228</th>\n",
       "      <td>2021-10-19</td>\n",
       "      <td>Takeaway.com PaymentsB.V., Ihr Einkauf bei Takeaway.comPayments B.V.</td>\n",
       "      <td>-22.10</td>\n",
       "      <td>food_delivery_dl</td>\n",
       "      <td>dailylife</td>\n",
       "    </tr>\n",
       "    <tr>\n",
       "      <th>229</th>\n",
       "      <td>2021-10-19</td>\n",
       "      <td>Referenz NOTPROVIDEDMandat EC341E1552A5BE3D8C23E0E2341Einreicher-ID DE40ZZZ00000206926B0717793 U434749102 B511253693 SIMply Rechnung</td>\n",
       "      <td>-12.49</td>\n",
       "      <td>smartphone_dl</td>\n",
       "      <td>dailylife</td>\n",
       "    </tr>\n",
       "    <tr>\n",
       "      <th>230</th>\n",
       "      <td>2021-10-19</td>\n",
       "      <td>iTunes and App Store,Ihr Einkauf bei iTunes and App Store</td>\n",
       "      <td>-3.99</td>\n",
       "      <td>music_dl</td>\n",
       "      <td>dailylife</td>\n",
       "    </tr>\n",
       "  </tbody>\n",
       "</table>\n",
       "<p>159 rows × 5 columns</p>\n",
       "</div>"
      ],
      "text/plain": [
       "    buchungsdatum  \\\n",
       "0      2022-01-21   \n",
       "1      2022-01-19   \n",
       "2      2022-01-19   \n",
       "3      2022-01-19   \n",
       "4      2022-01-18   \n",
       "..            ...   \n",
       "226    2021-10-19   \n",
       "227    2021-10-19   \n",
       "228    2021-10-19   \n",
       "229    2021-10-19   \n",
       "230    2021-10-19   \n",
       "\n",
       "                                                                                                                          buchungsdetails  \\\n",
       "0                                                                                          Apple Services, Ihr Einkauf bei Apple Services   \n",
       "1                                                                                          Apple Services, Ihr Einkauf bei Apple Services   \n",
       "2                   Referenz 411100124073Mandat 001891000004Einreicher-ID DE11ZZZ00000144980Kunde 0000189100, siehe Zahlungsavis (E-Mail)   \n",
       "3    Referenz NOTPROVIDEDMandat EC341E1552A5BE3D8C23E0E2341Einreicher-ID DE40ZZZ00000206926B0717793 U451980729 B530900801 SIMply Rechnung   \n",
       "4                                                                    Takeaway.com PaymentsB.V., Ihr Einkauf bei Takeaway.comPayments B.V.   \n",
       "..                                                                                                                                    ...   \n",
       "226                                                                  Takeaway.com PaymentsB.V., Ihr Einkauf bei Takeaway.comPayments B.V.   \n",
       "227                                                                             iTunes and App Store,Ihr Einkauf bei iTunes and App Store   \n",
       "228                                                                  Takeaway.com PaymentsB.V., Ihr Einkauf bei Takeaway.comPayments B.V.   \n",
       "229  Referenz NOTPROVIDEDMandat EC341E1552A5BE3D8C23E0E2341Einreicher-ID DE40ZZZ00000206926B0717793 U434749102 B511253693 SIMply Rechnung   \n",
       "230                                                                             iTunes and App Store,Ihr Einkauf bei iTunes and App Store   \n",
       "\n",
       "     betrag_eur          scategory  mcategory  \n",
       "0         -0.69          movies_dl  dailylife  \n",
       "1         -0.99          movies_dl  dailylife  \n",
       "2        -20.14  share_mobility_dl  dailylife  \n",
       "3        -14.66      smartphone_dl  dailylife  \n",
       "4         -1.15   food_delivery_dl  dailylife  \n",
       "..          ...                ...        ...  \n",
       "226      -26.48   food_delivery_dl  dailylife  \n",
       "227       -0.99           music_dl  dailylife  \n",
       "228      -22.10   food_delivery_dl  dailylife  \n",
       "229      -12.49      smartphone_dl  dailylife  \n",
       "230       -3.99           music_dl  dailylife  \n",
       "\n",
       "[159 rows x 5 columns]"
      ]
     },
     "execution_count": 312,
     "metadata": {},
     "output_type": "execute_result"
    }
   ],
   "source": [
    "expenditures.query('mcategory == \"dailylife\"')"
   ]
  },
  {
   "cell_type": "code",
   "execution_count": 422,
   "id": "d98ce5ae-822d-4349-8b27-8771539d8418",
   "metadata": {},
   "outputs": [
    {
     "data": {
      "text/html": [
       "<div>\n",
       "<style scoped>\n",
       "    .dataframe tbody tr th:only-of-type {\n",
       "        vertical-align: middle;\n",
       "    }\n",
       "\n",
       "    .dataframe tbody tr th {\n",
       "        vertical-align: top;\n",
       "    }\n",
       "\n",
       "    .dataframe thead th {\n",
       "        text-align: right;\n",
       "    }\n",
       "</style>\n",
       "<table border=\"1\" class=\"dataframe\">\n",
       "  <thead>\n",
       "    <tr style=\"text-align: right;\">\n",
       "      <th></th>\n",
       "      <th>scategory</th>\n",
       "      <th>betrag_eur</th>\n",
       "      <th>monthly</th>\n",
       "      <th>weekly</th>\n",
       "      <th>daily</th>\n",
       "      <th>srate</th>\n",
       "    </tr>\n",
       "  </thead>\n",
       "  <tbody>\n",
       "    <tr>\n",
       "      <th>0</th>\n",
       "      <td>other_dl</td>\n",
       "      <td>-897.67</td>\n",
       "      <td>-299.22</td>\n",
       "      <td>-69.05</td>\n",
       "      <td>-9.86</td>\n",
       "      <td>0.43</td>\n",
       "    </tr>\n",
       "    <tr>\n",
       "      <th>1</th>\n",
       "      <td>food_delivery_dl</td>\n",
       "      <td>-531.03</td>\n",
       "      <td>-177.01</td>\n",
       "      <td>-40.85</td>\n",
       "      <td>-5.84</td>\n",
       "      <td>0.25</td>\n",
       "    </tr>\n",
       "    <tr>\n",
       "      <th>2</th>\n",
       "      <td>movies_dl</td>\n",
       "      <td>-210.15</td>\n",
       "      <td>-70.05</td>\n",
       "      <td>-16.17</td>\n",
       "      <td>-2.31</td>\n",
       "      <td>0.10</td>\n",
       "    </tr>\n",
       "    <tr>\n",
       "      <th>3</th>\n",
       "      <td>music_dl</td>\n",
       "      <td>-186.70</td>\n",
       "      <td>-62.23</td>\n",
       "      <td>-14.36</td>\n",
       "      <td>-2.05</td>\n",
       "      <td>0.09</td>\n",
       "    </tr>\n",
       "    <tr>\n",
       "      <th>4</th>\n",
       "      <td>share_mobility_dl</td>\n",
       "      <td>-145.94</td>\n",
       "      <td>-48.65</td>\n",
       "      <td>-11.23</td>\n",
       "      <td>-1.60</td>\n",
       "      <td>0.07</td>\n",
       "    </tr>\n",
       "    <tr>\n",
       "      <th>5</th>\n",
       "      <td>cinema_dl</td>\n",
       "      <td>-65.94</td>\n",
       "      <td>-21.98</td>\n",
       "      <td>-5.07</td>\n",
       "      <td>-0.72</td>\n",
       "      <td>0.03</td>\n",
       "    </tr>\n",
       "    <tr>\n",
       "      <th>6</th>\n",
       "      <td>smartphone_dl</td>\n",
       "      <td>-52.13</td>\n",
       "      <td>-17.38</td>\n",
       "      <td>-4.01</td>\n",
       "      <td>-0.57</td>\n",
       "      <td>0.02</td>\n",
       "    </tr>\n",
       "  </tbody>\n",
       "</table>\n",
       "</div>"
      ],
      "text/plain": [
       "           scategory  betrag_eur  monthly  weekly  daily  srate\n",
       "0           other_dl     -897.67  -299.22  -69.05  -9.86   0.43\n",
       "1   food_delivery_dl     -531.03  -177.01  -40.85  -5.84   0.25\n",
       "2          movies_dl     -210.15   -70.05  -16.17  -2.31   0.10\n",
       "3           music_dl     -186.70   -62.23  -14.36  -2.05   0.09\n",
       "4  share_mobility_dl     -145.94   -48.65  -11.23  -1.60   0.07\n",
       "5          cinema_dl      -65.94   -21.98   -5.07  -0.72   0.03\n",
       "6      smartphone_dl      -52.13   -17.38   -4.01  -0.57   0.02"
      ]
     },
     "execution_count": 422,
     "metadata": {},
     "output_type": "execute_result"
    }
   ],
   "source": [
    "dl = (\n",
    "expenditures\n",
    "    .query('mcategory == \"dailylife\"')\n",
    "    .groupby(['scategory'])\n",
    "    .agg({'betrag_eur':'sum'})\n",
    "    .assign(monthly = lambda x: round(x['betrag_eur']/3,2))\n",
    "    .assign(weekly = lambda x: round(x['monthly']/(52/12),2))\n",
    "    .assign(daily = lambda x: round(x['weekly']/(7),2))\n",
    "    .assign(srate = lambda x: round(x['betrag_eur']/x['betrag_eur'].sum(),2))\n",
    "    .sort_values('srate', ascending=False)\n",
    "    .reset_index()\n",
    ")\n",
    "dl"
   ]
  },
  {
   "cell_type": "code",
   "execution_count": 366,
   "id": "8fc5b360-5ffc-4569-a18b-cdf5b03dbc48",
   "metadata": {},
   "outputs": [
    {
     "data": {
      "text/plain": [
       "('other_dl', 0.43)"
      ]
     },
     "execution_count": 366,
     "metadata": {},
     "output_type": "execute_result"
    }
   ],
   "source": [
    "dl[['scategory','srate']][:1].iat[0,0], dl[['scategory','srate']][:1].iat[0,1]"
   ]
  },
  {
   "cell_type": "code",
   "execution_count": 305,
   "id": "ad2c706d-e1c5-4bc4-9994-a63aea7106a2",
   "metadata": {},
   "outputs": [
    {
     "data": {
      "text/html": [
       "<div>\n",
       "<style scoped>\n",
       "    .dataframe tbody tr th:only-of-type {\n",
       "        vertical-align: middle;\n",
       "    }\n",
       "\n",
       "    .dataframe tbody tr th {\n",
       "        vertical-align: top;\n",
       "    }\n",
       "\n",
       "    .dataframe thead th {\n",
       "        text-align: right;\n",
       "    }\n",
       "</style>\n",
       "<table border=\"1\" class=\"dataframe\">\n",
       "  <thead>\n",
       "    <tr style=\"text-align: right;\">\n",
       "      <th></th>\n",
       "      <th>mcategory</th>\n",
       "      <th>betrag_eur</th>\n",
       "      <th>rate</th>\n",
       "    </tr>\n",
       "  </thead>\n",
       "  <tbody>\n",
       "    <tr>\n",
       "      <th>5</th>\n",
       "      <td>rent</td>\n",
       "      <td>-1020.08</td>\n",
       "      <td>0.27</td>\n",
       "    </tr>\n",
       "    <tr>\n",
       "      <th>2</th>\n",
       "      <td>dailylife</td>\n",
       "      <td>-658.15</td>\n",
       "      <td>0.17</td>\n",
       "    </tr>\n",
       "    <tr>\n",
       "      <th>1</th>\n",
       "      <td>cash</td>\n",
       "      <td>-550.00</td>\n",
       "      <td>0.15</td>\n",
       "    </tr>\n",
       "    <tr>\n",
       "      <th>3</th>\n",
       "      <td>grocery</td>\n",
       "      <td>-491.74</td>\n",
       "      <td>0.13</td>\n",
       "    </tr>\n",
       "    <tr>\n",
       "      <th>0</th>\n",
       "      <td>budgeted</td>\n",
       "      <td>-300.00</td>\n",
       "      <td>0.08</td>\n",
       "    </tr>\n",
       "    <tr>\n",
       "      <th>6</th>\n",
       "      <td>uncategorized</td>\n",
       "      <td>-6.00</td>\n",
       "      <td>0.00</td>\n",
       "    </tr>\n",
       "    <tr>\n",
       "      <th>4</th>\n",
       "      <td>mobility</td>\n",
       "      <td>-2.55</td>\n",
       "      <td>0.00</td>\n",
       "    </tr>\n",
       "  </tbody>\n",
       "</table>\n",
       "</div>"
      ],
      "text/plain": [
       "       mcategory  betrag_eur  rate\n",
       "5           rent    -1020.08  0.27\n",
       "2      dailylife     -658.15  0.17\n",
       "1           cash     -550.00  0.15\n",
       "3        grocery     -491.74  0.13\n",
       "0       budgeted     -300.00  0.08\n",
       "6  uncategorized       -6.00  0.00\n",
       "4       mobility       -2.55  0.00"
      ]
     },
     "execution_count": 305,
     "metadata": {},
     "output_type": "execute_result"
    }
   ],
   "source": [
    "mnumberso"
   ]
  },
  {
   "cell_type": "code",
   "execution_count": 308,
   "id": "9ae01765-f61e-4981-bd5b-5e65869237b7",
   "metadata": {},
   "outputs": [
    {
     "data": {
      "text/plain": [
       "0.17"
      ]
     },
     "execution_count": 308,
     "metadata": {},
     "output_type": "execute_result"
    }
   ],
   "source": [
    "mnumberso.query('mcategory == \"dailylife\"')[['rate']].iat[0,0]"
   ]
  },
  {
   "cell_type": "code",
   "execution_count": 319,
   "id": "8bdf4015-d45c-4c99-ac0f-feb0ed00c48d",
   "metadata": {},
   "outputs": [
    {
     "data": {
      "text/plain": [
       "0.15"
      ]
     },
     "execution_count": 319,
     "metadata": {},
     "output_type": "execute_result"
    }
   ],
   "source": [
    "qnumberso.query('mcategory == \"dailylife\"')[['rate']].iat[0,0]"
   ]
  },
  {
   "cell_type": "code",
   "execution_count": 89,
   "id": "413b53b8-afe5-498b-b7ef-733f2ac9aa45",
   "metadata": {},
   "outputs": [
    {
     "data": {
      "text/plain": [
       "-658.15"
      ]
     },
     "execution_count": 89,
     "metadata": {},
     "output_type": "execute_result"
    }
   ],
   "source": [
    "round(mnumberso.query('mcategory == \"dailylife\"')[['betrag_eur']].iat[0,0],2)"
   ]
  },
  {
   "cell_type": "code",
   "execution_count": 310,
   "id": "734a93b0-57e7-4d0c-869b-63b72abc3c18",
   "metadata": {},
   "outputs": [
    {
     "data": {
      "text/plain": [
       "0.65"
      ]
     },
     "execution_count": 310,
     "metadata": {},
     "output_type": "execute_result"
    }
   ],
   "source": [
    "# monthly consumption minus amount for cash\n",
    "mconsumtion = (mnumberso['rate'].sum() - mnumberso.query('mcategory == \"cash\"')['rate'].sum())\n",
    "mconsumtion"
   ]
  },
  {
   "cell_type": "code",
   "execution_count": 371,
   "id": "4733ca60-c6df-411e-a03e-b9a99e2779a6",
   "metadata": {},
   "outputs": [
    {
     "data": {
      "text/plain": [
       "0.65"
      ]
     },
     "execution_count": 371,
     "metadata": {},
     "output_type": "execute_result"
    }
   ],
   "source": [
    "mnumberso ['rate'].sum() - i.query('mcategory == \"cash\"')['rate'].sum()"
   ]
  },
  {
   "cell_type": "code",
   "execution_count": 397,
   "id": "6a8c6813-1107-4212-8cd3-ac2a7085b199",
   "metadata": {},
   "outputs": [],
   "source": [
    "elements = [mnumberso, qnumberso]"
   ]
  },
  {
   "cell_type": "code",
   "execution_count": 429,
   "id": "40dfe855-d4f0-409b-b0ea-0434b0ff8b37",
   "metadata": {},
   "outputs": [
    {
     "name": "stdout",
     "output_type": "stream",
     "text": [
      "Your latest financial statement is good.\n",
      "\n",
      "Your latest financial statement has some room for improvement.\n",
      " \n",
      "May be you need to make some cuts on daily life. let's have a closer look on it:\n",
      "\n",
      "   Your expenses on daily life are under the threshold of 23.75 %.\n",
      "\n",
      "   May be you should consider making cuts on insurances, donations or other positions.\n"
     ]
    }
   ],
   "source": [
    "# if else condition for different cases\n",
    "\n",
    "# case 1: worst\n",
    "for i in elements:\n",
    "    if (i['rate'].sum() - i.query('mcategory == \"cash\"')['rate'].sum()) > 1:\n",
    "        print(\"Your latest expenditures are above your average revenue by:\", \n",
    "              round((i-1),2), \"%. \\n\\nYou need to change your future behaviour!\")\n",
    "\n",
    "# case 2: good rating        \n",
    "    elif (i['rate'].sum() - i.query('mcategory == \"cash\"')['rate'].sum()) < .7:\n",
    "        print(\"Your latest financial statement is good.\\n\")\n",
    "\n",
    "# case 3: not bad rating           \n",
    "    elif (i['rate'].sum() - i.query('mcategory == \"cash\"')['rate'].sum()) < .8:\n",
    "        print(\"Your latest financial statement has some room for improvement.\\n\",\n",
    "             \"\\nMay be you need to make some cuts on daily life. let's have a closer look on it:\\n\")\n",
    "\n",
    "# case 3a: not bad rating, above dailylife_rate          \n",
    "        if i.query('mcategory == \"dailylife\"')[['rate']].iat[0,0] >= dailylife_rate:\n",
    "            print(\"\\nYour rate for expenditures on daily life is over\",dailylife_rate,\"%.\",\n",
    "                  \"\\nYour expenditures for\",dl[['scategory','srate']][:1].iat[0,0],\n",
    "                  \"have a share of\",dl[['scategory','srate']][:1].iat[0,1]*100,\"%. \\nThat would be a start.\")\n",
    "\n",
    "# case 3b: not bad rating, under dailylife_rate   \n",
    "        elif i.query('mcategory == \"dailylife\"')[['rate']].iat[0,0] < dailylife_rate:\n",
    "            print(\"   Your expenses on daily life are under the threshold of\",dailylife_rate,\n",
    "                  \"%.\\n\\n   May be you should consider making cuts on insurances, donations or other positions.\")\n",
    "\n",
    "# case 4: poor rating              \n",
    "    elif (i['rate'].sum() - i.query('mcategory == \"cash\"')['rate'].sum()) < .9:\n",
    "        print(\"Your latest financial statement is poor\\n\",\n",
    "             \"\\nYou should seriously consider making cuts on daily life. let's have a closer look on it:\\n.\")\n",
    "\n",
    "# case 4a: poor rating, above dailylife_rate         \n",
    "        if i.query('mcategory == \"dailylife\"')[['rate']].iat[0,0] >= dailylife_rate:\n",
    "            print(\"\\n   Your rate for expenditures on daily life is over\",dailylife_rate,\"%.\",\n",
    "                  \"\\n   Your expenditures for\",dl[['scategory','srate']][:1].iat[0,0],\n",
    "                  \"have a share of\",dl[['scategory','srate']][:1].iat[0,1]*100,\n",
    "                  \"%. \\n   That would be a start.\",\n",
    "                  \"\\n\\n         We arleady contacted your local tax office. May god have mercy on your soule!\")\n",
    "\n",
    "# case 4b: poor rating, under dailylife_rate            \n",
    "        elif i.query('mcategory == \"dailylife\"')[['rate']].iat[0,0] < dailylife_rate:\n",
    "            print(\"   Your expenses on daily life are under the threshold of\",dailylife_rate,\n",
    "                  \"%.\\n\\n   May be you should consider making cuts on insurances, donations or other positions.\")"
   ]
  },
  {
   "cell_type": "code",
   "execution_count": 430,
   "id": "06b47c55-38ca-4cc1-9174-dbd648e69233",
   "metadata": {},
   "outputs": [
    {
     "name": "stdout",
     "output_type": "stream",
     "text": [
      "Your latest financial financial statement is poor\n",
      " \n",
      "You should seriously consider making cuts on daily life. let's have a closer look on it:\n",
      "\n",
      "\n",
      "   Your rate for expenditures on daily life is over 23.75 %. \n",
      "\n",
      "   Your expenditures for other_dl have a share of 43.0 %.\n",
      "\n",
      "   That would be a start. \n",
      "\n",
      "         We arleady contacted your local tax office. May god have mercy on your soule!\n"
     ]
    }
   ],
   "source": [
    "# For demo purposes\n",
    "\n",
    "# case 3: not bad rating           \n",
    "if .85 < .8:\n",
    "    print(\"Your latest financial statement has some room for improvement\\n\",\n",
    "         \"\\nMay be you need to make some cuts on daily life. let's have a closer look on it:\\n\")\n",
    "\n",
    "# case 3a: not bad rating, above dailylife_rate          \n",
    "    if float(25) > dailylife_rate:\n",
    "        print(\"\\n   Your rate for expenditures on daily life is over\",dailylife_rate,\"%.\",\n",
    "              \"\\n   Your expenditures for\",dl[['scategory','srate']][:1].iat[0,0],\n",
    "              \"have a share of\",dl[['scategory','srate']][:1].iat[0,1]*100,\"%. \\nThat would be a start.\")\n",
    "\n",
    "# case 3b: not bad rating, under dailylife_rate   \n",
    "    elif float(25) < dailylife_rate:\n",
    "        print(\"   Your expenses on daily life are under the threshold of\",dailylife_rate,\n",
    "              \"%.\\n\\n   May be you should consider making cuts on insurances, donations or other positions.\")\n",
    "\n",
    "# case 4: poor rating              \n",
    "elif .85 < .9:\n",
    "    print(\"Your latest financial financial statement is poor\\n\",\n",
    "         \"\\nYou should seriously consider making cuts on daily life. let's have a closer look on it:\\n\")\n",
    "\n",
    "# case 4a: poor rating, above dailylife_rate         \n",
    "    if float(25) >= dailylife_rate:\n",
    "        print(\"\\n   Your rate for expenditures on daily life is over\",dailylife_rate,\"%.\",\n",
    "              \"\\n\\n   Your expenditures for\",dl[['scategory','srate']][:1].iat[0,0],\n",
    "              \"have a share of\",dl[['scategory','srate']][:1].iat[0,1]*100,\n",
    "              \"%.\\n\\n   That would be a start.\",\n",
    "              \"\\n\\n         We arleady contacted your local tax office. May god have mercy on your soule!\")\n",
    "\n",
    "# case 4b: poor rating, under dailylife_rate            \n",
    "    elif float(25) < dailylife_rate:\n",
    "        print(\"   Your expenses on daily life are under the threshold of\",dailylife_rate,\n",
    "              \"%.\\n\\n   May be you should consider making cuts on insurances, donations or other positions.\")"
   ]
  },
  {
   "cell_type": "markdown",
   "id": "7e011695-100d-40c9-95b7-0008e9600765",
   "metadata": {
    "tags": []
   },
   "source": [
    "### financial evaluation"
   ]
  },
  {
   "cell_type": "code",
   "execution_count": 417,
   "id": "944a8eda-40bb-42f3-8449-fc6b3c552e1b",
   "metadata": {},
   "outputs": [
    {
     "data": {
      "image/png": "[encoded data removed]",
      "text/plain": [
       "<Figure size 432x288 with 1 Axes>"
      ]
     },
     "metadata": {},
     "output_type": "display_data"
    },
    {
     "data": {
      "image/png": "[encoded data removed]",
      "text/plain": [
       "<Figure size 432x288 with 1 Axes>"
      ]
     },
     "metadata": {},
     "output_type": "display_data"
    }
   ],
   "source": [
    "import matplotlib.pyplot as plt\n",
    "\n",
    "# monthly consumption minus amount for cash\n",
    "mconsumtion = mnumberso['rate'].sum() - mnumberso.query('mcategory == \"cash\"')['rate'].sum()\n",
    "\n",
    "# quarter consumption minus amount for cash\n",
    "qconsumtion = qnumberso['rate'].sum() - qnumberso.query('mcategory == \"cash\"')['rate'].sum()\n",
    "\n",
    "pie = [mconsumtion, qconsumtion]\n",
    "\n",
    "for i in pie:       \n",
    "    labels = ('consumption','potential')\n",
    "    data = [i, (1-i)]\n",
    "    explode = (0, 0.25)  \n",
    "    fig1, ax1 = plt.subplots()\n",
    "    ax1.set_title(f\"Potential\", color = \"white\", weight=\"bold\", fontsize = 20)\n",
    "    ax1.pie(data, explode=explode, labels=labels, autopct='%1.0f%%', shadow=True,\n",
    "            textprops = dict(color =\"white\", fontsize = 14), startangle=90)\n",
    "    ax1.axis('equal')  \n",
    "    plt.show()"
   ]
  },
  {
   "cell_type": "code",
   "execution_count": 420,
   "id": "ec549d2b-4527-4f10-a36c-32066d80725d",
   "metadata": {},
   "outputs": [
    {
     "name": "stdout",
     "output_type": "stream",
     "text": [
      "\n",
      "Your financial solidness for the last month complies a rating of A: good\n",
      "\n",
      "Your financial solidness for the last quarter complies a rating of B: not bad\n"
     ]
    }
   ],
   "source": [
    "# evaluation for month\n",
    "if mconsumtion > 1:\n",
    "    print('\\nYour last month expenditures are above your average revenue by:', \n",
    "          round((mconsumtion-1),2), \"%.\")\n",
    "elif mconsumtion < .7:\n",
    "    print('\\nYour financial solidness for the last month complies a rating of A: good')\n",
    "elif mconsumtion < .8:\n",
    "    print('\\nYour financial solidness for the last month complies a rating of B: not bad')\n",
    "elif mconsumtion < .9:\n",
    "    print('\\nYour financial solidness for the last month complies a rating of C: poor')\n",
    "\n",
    "# evaluation for quarter    \n",
    "if qconsumtion > 1:\n",
    "    print('\\nYour last month expenditures are above your average revenue by:', \n",
    "          round((qconsumtion-1),2), \"%.\")\n",
    "elif qconsumtion < .7:\n",
    "    print('\\nYour financial solidness for the last quarter complies a rating of A: good')\n",
    "elif qconsumtion < .8:\n",
    "    print('\\nYour financial solidness for the last quarter complies a rating of B: not bad')\n",
    "elif qconsumtion < .9:\n",
    "    print('\\nYour financial solidness for the last quarter complies a rating of C: poor')"
   ]
  },
  {
   "cell_type": "code",
   "execution_count": null,
   "id": "faa854a1-7a05-403b-a29b-f76d77ffb721",
   "metadata": {},
   "outputs": [],
   "source": [
    "# # Example of a chatbot     \n",
    "\n",
    "# print(\"Guess the number of pages in \"\n",
    "#       \"'Harry Potter and the Order of the Phoenix'.\")\n",
    "\n",
    "# while True:\n",
    "#     guess = int(input(\"Your guess?  \"))\n",
    "\n",
    "#     if guess == 766:\n",
    "#         print(\"Correct! Well done!\")\n",
    "#         break\n",
    "#     elif guess > 1000:\n",
    "#         print(\"Way too high! Guess lower.\")\n",
    "#     elif guess < 500:\n",
    "#         print(\"The book has much more pages. Guess higher.\")\n",
    "#     elif guess > 766 and guess < 850:\n",
    "#         print(\"You're close. But guess lower.\")\n",
    "#     elif guess > 675 and guess < 766:\n",
    "#         print(\"You're close. Guess a bit higher.\")\n",
    "#     else:\n",
    "#         print(\"Incorrect, give it another guess.\")"
   ]
  },
  {
   "cell_type": "code",
   "execution_count": null,
   "id": "55e81823-fb03-4bd0-9f3a-563e12808ebf",
   "metadata": {},
   "outputs": [],
   "source": []
  },
  {
   "cell_type": "code",
   "execution_count": null,
   "id": "45532671-10ea-4b49-b82a-299f616975ec",
   "metadata": {},
   "outputs": [],
   "source": []
  },
  {
   "cell_type": "code",
   "execution_count": null,
   "id": "de69708f-d077-4b25-aef6-a507bce4c051",
   "metadata": {},
   "outputs": [],
   "source": [
    "# mnumbers"
   ]
  },
  {
   "cell_type": "code",
   "execution_count": 432,
   "id": "e25a5f5c-e105-4de1-9ea8-0c9327bfcf38",
   "metadata": {},
   "outputs": [],
   "source": [
    "list_pie = [mnumberso, qnumberso]"
   ]
  },
  {
   "cell_type": "code",
   "execution_count": 433,
   "id": "03b2a707-0b32-4c96-8ee7-c20b58c96f97",
   "metadata": {},
   "outputs": [
    {
     "data": {
      "image/png": "[encoded data removed]",
      "text/plain": [
       "<Figure size 864x720 with 1 Axes>"
      ]
     },
     "metadata": {},
     "output_type": "display_data"
    },
    {
     "data": {
      "image/png": "[encoded data removed]",
      "text/plain": [
       "<Figure size 864x720 with 1 Axes>"
      ]
     },
     "metadata": {},
     "output_type": "display_data"
    }
   ],
   "source": [
    "import numpy as np\n",
    "import matplotlib.pyplot as plt\n",
    "import matplotlib.patheffects as path_effects\n",
    "\n",
    "for i in list_pie:\n",
    "    labels = i['mcategory']\n",
    "    data = i['betrag_eur'].abs()\n",
    "\n",
    "    explode = (0.1, 0.0, 0.2, 0.3, 0.0, 0.0, 0)\n",
    "    colors = (\"orange\", \"green\", \"indigo\", \"r\", \"c\", 'b','y','g')\n",
    "    wp = {'linewidth':1.5, 'edgecolor':\"white\"}\n",
    "    def func(pct, allvalues):\n",
    "        absolute = int(pct / 100.*np.sum(allvalues))\n",
    "        return \"{:.1f}%\\n({:d})\".format(pct, absolute)\n",
    "\n",
    "    fig, ax = plt.subplots(figsize =(12, 10))\n",
    "    wedges, texts, autotexts = ax.pie(data,\n",
    "                                    autopct = lambda pct: func(pct, data),\n",
    "                                    explode = explode,\n",
    "                                    labels = labels,\n",
    "                                    shadow = True,\n",
    "                                    colors = colors,\n",
    "                                    startangle = 90,\n",
    "                                    wedgeprops = wp,\n",
    "                                    textprops = dict(color =\"grey\", fontsize = 14))\n",
    "\n",
    "    ax.legend(wedges, labels,\n",
    "              title =\"Major categories\",\n",
    "              loc =\"center left\",\n",
    "              bbox_to_anchor = (1, .75, .5, .5),\n",
    "              fontsize = 11)\n",
    "\n",
    "    plt.setp(autotexts, size = 8)\n",
    "    ax.set_title(f\"Major expenditures\", color = \"grey\", weight=\"bold\", fontsize = 14)\n",
    "    plt.show()"
   ]
  },
  {
   "cell_type": "markdown",
   "id": "edc19812-6319-48bf-87d8-f11e0b2896e6",
   "metadata": {},
   "source": [
    "## stock market\n",
    "https://www.analyticsvidhya.com/blog/2021/06/download-financial-dataset-using-yahoo-finance-in-python-a-complete-guide/"
   ]
  },
  {
   "cell_type": "code",
   "execution_count": null,
   "id": "cbb39d02-b03e-47a2-9313-c55db29be992",
   "metadata": {},
   "outputs": [],
   "source": [
    "# !pip install yfinance\n",
    "# !pip install yahoofinancials"
   ]
  },
  {
   "cell_type": "code",
   "execution_count": null,
   "id": "0fdf484a-7b0c-4484-8537-e3fce160ae13",
   "metadata": {},
   "outputs": [],
   "source": [
    "# import pandas as pd\n",
    "# import yfinance as yf\n",
    "# from yahoofinancials import YahooFinancials"
   ]
  },
  {
   "cell_type": "code",
   "execution_count": null,
   "id": "3dbbde7a-3542-4c0b-a2f4-69f5517358e0",
   "metadata": {},
   "outputs": [],
   "source": [
    "# import datetime\n",
    "\n",
    "# pastyear = datetime.date.today() - datetime.timedelta (days=365)\n",
    "# pasthalfyear = datetime.date.today() - datetime.timedelta (days=183)\n",
    "# pastquarter = datetime.date.today() - datetime.timedelta (days=90)\n",
    "# pastmonth = datetime.date.today() - datetime.timedelta (days=30)\n",
    "# today = datetime.date.today()"
   ]
  },
  {
   "cell_type": "code",
   "execution_count": null,
   "id": "98f8dc86-049b-4070-87e7-453454315200",
   "metadata": {},
   "outputs": [],
   "source": [
    "# aapl_df = yf.download('AAPL', \n",
    "#                       start=pastyear, \n",
    "#                       end=today, \n",
    "#                       progress=False,\n",
    "# )\n",
    "# aapl_df.head()"
   ]
  },
  {
   "cell_type": "code",
   "execution_count": null,
   "id": "daeeadf6-95da-410e-be59-55f746e512f9",
   "metadata": {},
   "outputs": [],
   "source": [
    "# aapl_df = yf.download('AAPL')"
   ]
  },
  {
   "cell_type": "code",
   "execution_count": null,
   "id": "ecef4f91-fa58-48b2-bfd3-dca12ff74985",
   "metadata": {},
   "outputs": [],
   "source": [
    "# ticker = yf.Ticker('AAPL')\n",
    "# aapl_df = ticker.history(period=\"10y\")\n",
    "# aapl_df['Close'].plot(title=\"APPLE's stock price\")\n",
    "# # fig, ax = plt.plot(figsize =(12, 10))"
   ]
  },
  {
   "cell_type": "code",
   "execution_count": null,
   "id": "2cdb6cfb-6e94-4dc8-9425-0afb7261b390",
   "metadata": {},
   "outputs": [],
   "source": [
    "# yahoo_financials = YahooFinancials('AAPL')\n",
    "# data = yahoo_financials.get_historical_price_data(start_date='2021-01-01', \n",
    "#                                                   end_date='2021-12-31', \n",
    "#                                                   time_interval='weekly')\n",
    "# aapl_df = pd.DataFrame(data['AAPL']['prices'])\n",
    "# aapl_df = aapl_df.drop('date', axis=1).set_index('formatted_date')\n",
    "# aapl_df.head()"
   ]
  },
  {
   "cell_type": "markdown",
   "id": "7ee9e88e-c194-4c3d-afb7-f344faa28f49",
   "metadata": {},
   "source": [
    "# 3. prediction"
   ]
  },
  {
   "cell_type": "markdown",
   "id": "2aa46e0f-e0d2-4ab7-b750-6129a0ea5be5",
   "metadata": {},
   "source": [
    "# __backup"
   ]
  },
  {
   "cell_type": "code",
   "execution_count": null,
   "id": "53882b7e-6d70-4237-826e-71807e6c2986",
   "metadata": {},
   "outputs": [],
   "source": [
    "df = transactions[~transactions.scategory.str.contains(\n",
    "    \"onetimer|outside_capital|lease|apartment\") == True][['buchungsdatum','buchungsdetails','betrag_eur',\n",
    "                                          'scategory','mcategory']]"
   ]
  },
  {
   "cell_type": "code",
   "execution_count": null,
   "id": "e062eaf7-ae07-47f6-8944-b78c922a5207",
   "metadata": {},
   "outputs": [],
   "source": [
    "temp = (\n",
    "df\n",
    "    .groupby(['mcategory'])\n",
    "    .agg({'betrag_eur':'sum'})\n",
    "    .reset_index()\n",
    "    .sort_values('betrag_eur')\n",
    ")\n",
    "rev_overview = temp.query('betrag_eur > 0')\n",
    "exp_overview = temp.query('betrag_eur < 0')\n",
    "exp_overview"
   ]
  },
  {
   "cell_type": "code",
   "execution_count": null,
   "id": "640305f8-a844-476a-be08-b9e83f51d216",
   "metadata": {},
   "outputs": [],
   "source": [
    "rev_overview"
   ]
  },
  {
   "cell_type": "code",
   "execution_count": null,
   "id": "d7411ac2-f390-4f49-8e66-d6d2e5a90118",
   "metadata": {},
   "outputs": [],
   "source": [
    "# overall revenues and expenditure in sum\n",
    "overall_revenue = rev_overview['betrag_eur'].sum()\n",
    "overall_expenditure = exp_overview['betrag_eur'].sum()\n",
    "overall_expenditure"
   ]
  },
  {
   "cell_type": "code",
   "execution_count": null,
   "id": "0a6934c3-bc47-4f96-90ce-db45d636fa64",
   "metadata": {},
   "outputs": [],
   "source": [
    "# monthly overview of revenue\n",
    "rev_monthly = (\n",
    "revenues\n",
    "    .assign(year = revenues['buchungsdatum'].dt.strftime('%Y'), \n",
    "           month = revenues['buchungsdatum'].dt.strftime('%b'))\n",
    "    .groupby(['year','month'])\n",
    "    .sum()\n",
    "    .sort_values(['year'], ascending=False)\n",
    ")\n",
    "rev_monthly"
   ]
  },
  {
   "cell_type": "code",
   "execution_count": null,
   "id": "e1ebc5c2-c1da-4e3a-9456-37bdee0080d8",
   "metadata": {},
   "outputs": [],
   "source": [
    "# monthly overview of expenditure\n",
    "exp_monthly = (\n",
    "expenditures\n",
    "    .assign(year = expenditures['buchungsdatum'].dt.strftime('%Y'), \n",
    "           month = expenditures['buchungsdatum'].dt.strftime('%b'))\n",
    "    .groupby(['year','month'])\n",
    "    .sum()\n",
    "    .sort_values(['year'], ascending=False)\n",
    ")\n",
    "exp_monthly"
   ]
  },
  {
   "cell_type": "code",
   "execution_count": null,
   "id": "a99f3c0a-eead-4afa-bb35-96ca2a069753",
   "metadata": {},
   "outputs": [],
   "source": [
    "# visualize how the distribution looks like\n",
    "from matplotlib import pyplot as plt\n",
    "import numpy as np\n",
    "\n",
    "fig = plt.figure(figsize =(12, 3))\n",
    "revenues[['betrag_eur']].boxplot(vert=False)\n",
    "plt.title(\"Revenues\")\n",
    "fig = plt.figure(figsize =(12, 3))\n",
    "expenditures[['betrag_eur']].boxplot(vert=False)\n",
    "plt.title(\"Expenditures\")\n",
    "plt.subplots_adjust(left=0.1)\n",
    "\n",
    "plt.rcParams[\"figure.figsize\"] = [12, 3]\n",
    "plt.rcParams[\"figure.autolayout\"] = True\n",
    "\n",
    "fig, axes = plt.subplots(1, 2)\n",
    "revenues.plot.bar('betrag_eur', ax=axes[0], title='revenues', legend=False, orientation='horizontal');\n",
    "expenditures.plot.bar('betrag_eur', ax=axes[1], title='expenditures', legend=False, orientation='horizontal');\n",
    "\n",
    "fig, axes = plt.subplots(1, 2)\n",
    "plt.suptitle(\"Histogram\")\n",
    "revenues.hist('betrag_eur', ax=axes[0], bins = 100)\n",
    "expenditures.hist('betrag_eur', ax=axes[1], bins = 100)\n",
    "plt.show()"
   ]
  },
  {
   "cell_type": "code",
   "execution_count": null,
   "id": "1be3942c-70fa-451e-9a83-fcd7915f1d62",
   "metadata": {},
   "outputs": [],
   "source": []
  },
  {
   "cell_type": "code",
   "execution_count": null,
   "id": "968e83d9-c04b-47b9-8511-a6e8039915bc",
   "metadata": {},
   "outputs": [],
   "source": []
  },
  {
   "cell_type": "code",
   "execution_count": null,
   "id": "ca72c813-28cc-4975-9274-8066d4cf38f2",
   "metadata": {},
   "outputs": [],
   "source": [
    "rev_monthly.plot.bar();"
   ]
  },
  {
   "cell_type": "code",
   "execution_count": null,
   "id": "606311c3-7712-4567-bd0a-6041b2ca50b6",
   "metadata": {},
   "outputs": [],
   "source": [
    "# expenditures.query('mcategory == \"dailylife\"')['betrag_eur'].hist()\n",
    "abs(exp_monthly).plot.bar(); "
   ]
  },
  {
   "cell_type": "markdown",
   "id": "7e03b8f7-95ac-4eef-a488-17f20612e8d2",
   "metadata": {},
   "source": [
    "## pie chart of expenditures"
   ]
  },
  {
   "cell_type": "code",
   "execution_count": null,
   "id": "12765dde-b3de-43ba-84d0-ca1f23a12ac3",
   "metadata": {},
   "outputs": [],
   "source": [
    "# # Import libraries\n",
    "# import numpy as np\n",
    "# import matplotlib.pyplot as plt\n",
    "# import matplotlib.patheffects as path_effects\n",
    "\n",
    "# # Creating dataset\n",
    "# labels = exp_overview['mcategory']\n",
    "# data = exp_overview['betrag_eur'].abs()\n",
    "\n",
    "# # Creating explode data\n",
    "# explode = (0.1, 0.0, 0.2, 0.3, 0.0, 0.0)\n",
    "\n",
    "# # Creating color parameters\n",
    "# colors = (\"orange\", \"green\", \"indigo\", \"r\", \"c\", 'b','y','g')\n",
    "\n",
    "# # Wedge properties\n",
    "# wp = {'linewidth':1.5, 'edgecolor':\"white\"}\n",
    "\n",
    "# # Creating autocpt arguments\n",
    "# def func(pct, allvalues):\n",
    "# \tabsolute = int(pct / 100.*np.sum(allvalues))\n",
    "# \treturn \"{:.1f}%\\n({:d})\".format(pct, absolute)\n",
    "\n",
    "# # Creating plot\n",
    "# fig, ax = plt.subplots(figsize =(12, 10))\n",
    "# wedges, texts, autotexts = ax.pie(data,\n",
    "# \t\t\t\t\t\t\t\tautopct = lambda pct: func(pct, data),\n",
    "# \t\t\t\t\t\t\t\texplode = explode,\n",
    "# \t\t\t\t\t\t\t\tlabels = labels,\n",
    "# \t\t\t\t\t\t\t\tshadow = True,\n",
    "# \t\t\t\t\t\t\t\tcolors = colors,\n",
    "# \t\t\t\t\t\t\t\tstartangle = 90,\n",
    "# \t\t\t\t\t\t\t\twedgeprops = wp,\n",
    "# \t\t\t\t\t\t\t\ttextprops = dict(color =\"white\", fontsize = 14))\n",
    "\n",
    "# # Adding legend\n",
    "# ax.legend(wedges, labels,\n",
    "#           title =\"Major categories\",\n",
    "#           loc =\"center left\",\n",
    "#           bbox_to_anchor = (1, .75, .5, .5),\n",
    "#           fontsize = 11)\n",
    "\n",
    "# plt.setp(autotexts, size = 8)\n",
    "# ax.set_title(\"Expenditures on major categories\", color = \"white\", weight=\"bold\", fontsize = 20)\n",
    "\n",
    "# # show plot\n",
    "# plt.show()"
   ]
  },
  {
   "cell_type": "markdown",
   "id": "0cf2bf30-b29f-4bea-b5ae-bcb34c9766df",
   "metadata": {},
   "source": [
    "## expenditure distribution"
   ]
  },
  {
   "cell_type": "code",
   "execution_count": null,
   "id": "b70c4d62-63c0-436e-972d-ee3670276420",
   "metadata": {},
   "outputs": [],
   "source": [
    "# import matplotlib.pyplot as plt\n",
    "# import seaborn as sns\n",
    "# # do not display the number with scientific notation\n",
    "# pd.options.display.float_format = '{:.2f}'.format\n",
    "\n",
    "# p_df = (\n",
    "# df\n",
    "#     .query('betrag_eur < 0')\n",
    "#     .assign(year = df['buchungsdatum'].dt.strftime('%Y'), \n",
    "#            month = df['buchungsdatum'].dt.strftime('%b'))\n",
    "#     .groupby(['year','month'])\n",
    "#     .agg({'betrag_eur':'sum'})\n",
    "#     .reset_index()\n",
    "# )\n",
    "# # p_df"
   ]
  },
  {
   "cell_type": "code",
   "execution_count": null,
   "id": "88dfa0b0-f283-4fc3-99a4-3bed0e341b1f",
   "metadata": {
    "tags": []
   },
   "outputs": [],
   "source": [
    "# # revenues and expenditure \n",
    "# months = ['Jan', 'Feb', 'Mar', 'Apr', 'May', 'Jun', 'Jul', 'Aug', 'Sep', 'Oct', 'Nov', 'Dec']\n",
    "# plt.subplots(figsize=(12, 6))\n",
    "# p = sns.barplot(data=p_df, x='month', y='betrag_eur', hue='year', order=months)\n",
    "# p.axhline(p_df['betrag_eur'].mean(), linestyle='--',  color='gray')\n",
    "# plt.xlabel('Month')\n",
    "# plt.ylabel('Expenditure') \n",
    "# plt.title('Expenditure evolution') \n",
    "# plt.ticklabel_format(style='plain', axis='y') \n",
    "# plt.show()"
   ]
  },
  {
   "cell_type": "code",
   "execution_count": null,
   "id": "f8bb5288-e0e7-4339-8881-974c559598d3",
   "metadata": {},
   "outputs": [],
   "source": [
    "# p_df = (\n",
    "# df\n",
    "#     .query('betrag_eur > 0')\n",
    "#     .assign(year = transactions['buchungsdatum'].dt.strftime('%Y'), \n",
    "#            month = transactions['buchungsdatum'].dt.strftime('%b'))\n",
    "#     .groupby(['year','month'])\n",
    "#     .agg({'betrag_eur':'sum'})\n",
    "#     .reset_index()\n",
    "# )"
   ]
  },
  {
   "cell_type": "code",
   "execution_count": null,
   "id": "d4341a8f-74d7-473f-a64f-e6e7f269b29f",
   "metadata": {},
   "outputs": [],
   "source": [
    "# # revenues and expenditure \n",
    "# months = ['Jan', 'Feb', 'Mar', 'Apr', 'May', 'Jun', 'Jul', 'Aug', 'Sep', 'Oct', 'Nov', 'Dec']\n",
    "# plt.subplots(figsize=(12, 6))\n",
    "# p = sns.barplot(data=p_df, x='month', y='betrag_eur', hue='year', order=months)\n",
    "# p.axhline(p_df['betrag_eur'].mean(), linestyle='--',  color='gray')\n",
    "# plt.xlabel('Month')\n",
    "# plt.ylabel('Revenues') \n",
    "# plt.title('Revenues evolution') \n",
    "# plt.ticklabel_format(style='plain', axis='y') \n",
    "# plt.show()"
   ]
  },
  {
   "cell_type": "markdown",
   "id": "332873f8-ccb7-4297-b634-d01a13a160ea",
   "metadata": {},
   "source": [
    "# end"
   ]
  }
 ],
 "metadata": {
  "kernelspec": {
   "display_name": "Python 3 (ipykernel)",
   "language": "python",
   "name": "python3"
  },
  "language_info": {
   "codemirror_mode": {
    "name": "ipython",
    "version": 3
   },
   "file_extension": ".py",
   "mimetype": "text/x-python",
   "name": "python",
   "nbconvert_exporter": "python",
   "pygments_lexer": "ipython3",
   "version": "3.8.8"
  }
 },
 "nbformat": 4,
 "nbformat_minor": 5
}
