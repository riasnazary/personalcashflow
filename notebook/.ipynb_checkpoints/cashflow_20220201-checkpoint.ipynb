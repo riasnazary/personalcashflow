{
 "cells": [
  {
   "cell_type": "markdown",
   "id": "c07403ac-9553-4eb5-b124-7fc90a30fcf2",
   "metadata": {},
   "source": [
    "# prepare"
   ]
  },
  {
   "cell_type": "markdown",
   "id": "781a1df6-589d-42dc-adb6-c4f7095082b8",
   "metadata": {},
   "source": [
    "## import bank_statement"
   ]
  },
  {
   "cell_type": "code",
   "execution_count": 1,
   "id": "193d537d-a822-4b59-83c5-11c7203e0771",
   "metadata": {},
   "outputs": [],
   "source": [
    "import pandas as pd\n",
    "import numpy as np\n",
    "import glob\n",
    "import os.path\n",
    "import warnings\n",
    "warnings.filterwarnings('ignore')\n",
    "\n",
    "# read the latest csv-file of bank statements\n",
    "folder_path = r'/Users/riasnazary/datascience/00_final-project/data/'\n",
    "file_type = '/*csv'\n",
    "files = glob.glob(folder_path + file_type)\n",
    "max_file = max(files, key=os.path.getctime)\n",
    "\n",
    "# spliting bank statements in 3 parts: meta_data, standing_order and transactions\n",
    "meta_data = pd.read_csv(max_file, sep = \";\", encoding= 'unicode_escape',\n",
    "                    skiprows = 1,\n",
    "                    nrows = 5,\n",
    "                    index_col = False,\n",
    "                    names = ['designation','value']\n",
    "                   )\n",
    "# start to read standing_order from a constant index number for the next 20 rows (will be tailored)\n",
    "standing_order = pd.read_csv(max_file, sep = \";\", encoding= 'unicode_escape', \n",
    "                             skiprows = 10, nrows = 100, \n",
    "                             names = ['buchungsdatum','umsatzart','buchungsdetails',\n",
    "                                     'auftraggeber','empfaenger','betrag_eur','NaN']\n",
    "                            ).iloc[:,:6]\n",
    "\n",
    "# finding a complete empty row, which will be used as reference to start the header for transactions\n",
    "missing_cols, missing_rows = (\n",
    "    (standing_order.isnull().sum(x) | standing_order.eq('').sum(x))\n",
    "    .loc[lambda x: x.gt(0)].index\n",
    "    for x in (0, 1)\n",
    ")\n",
    "index_empty_row = standing_order.loc[missing_rows, missing_cols].index.tolist()[0]\n",
    "standing_order.drop(standing_order.index[index_empty_row:], inplace=True)\n",
    "theader = index_empty_row+10\n",
    "\n",
    "transactions = pd.read_csv(max_file, sep = \";\", encoding= 'unicode_escape', header = theader,\n",
    "                          names = ['buchungsdatum','wertstellung','umsatzart','buchungsdetails',\n",
    "                                     'auftraggeber','empfaenger','betrag_eur','saldo','NaN']\n",
    "                          ).iloc[:,:8]\n",
    "\n",
    "# transactions.head()"
   ]
  },
  {
   "cell_type": "code",
   "execution_count": 2,
   "id": "d8f26609-37c5-42f5-a9a4-6bb7544b24d1",
   "metadata": {
    "tags": []
   },
   "outputs": [],
   "source": [
    "# excel_file = (folder_path + 'Finanzen.xlsx')\n",
    "\n",
    "# datasets = pd.ExcelFile(excel_file)\n",
    "\n",
    "# sheet0 = pd.read_excel(excel_file, sheet_name=0, index_col=0)\n",
    "# sheet1 = pd.read_excel(excel_file, sheet_name=1, index_col=0)\n",
    "# sheet2 = pd.read_excel(excel_file, sheet_name=2, index_col=0)\n",
    "# sheet3 = pd.read_excel(excel_file, sheet_name=3, index_col=0)\n",
    "# sheet4 = pd.read_excel(excel_file, sheet_name=4, index_col=0)\n",
    "# sheet5 = pd.read_excel(excel_file, sheet_name=5, index_col=0)\n",
    "# sheet6 = pd.read_excel(excel_file, sheet_name=6, index_col=0)\n",
    "# sheet7 = pd.read_excel(excel_file, sheet_name=7, index_col=0)\n",
    "# sheet8 = pd.read_excel(excel_file, sheet_name=8, index_col=0)"
   ]
  },
  {
   "cell_type": "code",
   "execution_count": 3,
   "id": "0dee90c1-da27-44b9-b247-985a2e765618",
   "metadata": {
    "tags": []
   },
   "outputs": [],
   "source": [
    "pd.set_option('display.max_colwidth', None)\n",
    "\n",
    "first_name = meta_data.value.str.split(expand=True)[[0]][:1].iat[0,0]\n",
    "last_name = meta_data.value.str.split(expand=True)[[1]][:1].iat[0,0]\n",
    "blz = meta_data.loc[meta_data['designation'] == 'BLZ', 'value'].values[0]\n",
    "kontonummer = meta_data.loc[meta_data['designation'] == 'Kontonummer', 'value'].values[0]\n",
    "iban = meta_data.loc[meta_data['designation'] == 'IBAN', 'value'].values[0]\n",
    "account_balance = meta_data.loc[meta_data['designation'] == 'Aktueller Kontostand', 'value'].values[0]"
   ]
  },
  {
   "cell_type": "code",
   "execution_count": 4,
   "id": "decb1ba3-c5f0-4e67-bf97-df1cf9f5ad08",
   "metadata": {
    "tags": []
   },
   "outputs": [],
   "source": [
    "# # seperate window to welcome the user\n",
    "# from tkinter import *\n",
    "  \n",
    "# root = Tk() \n",
    "# a = Label(root, \n",
    "#           text = (\"Hello \" + first_name + \" \" + last_name + \"!\" +\n",
    "#                   \"\\n your current balance:\" +\n",
    "#                   \"\\n\" + account_balance + \"Euro\"),\n",
    "#           height = 15, width = 25)\n",
    "\n",
    "# a.config(font=('Helvatical bold',30))\n",
    "# a.pack()\n",
    "# root.mainloop()"
   ]
  },
  {
   "cell_type": "code",
   "execution_count": 5,
   "id": "0e55c812-8e4f-4014-a708-8e928f4bae00",
   "metadata": {
    "tags": []
   },
   "outputs": [],
   "source": [
    "# print(\"This is the full name:\", first_name, last_name)\n",
    "# print(\"This is the Bankleitzahl:\", blz)\n",
    "# print(\"This is the Kontonummer:\", kontonummer)\n",
    "# print(\"This is the IBAN:\", iban)\n",
    "# print(\"Current account balance:\", account_balance, \"Euro\")"
   ]
  },
  {
   "cell_type": "markdown",
   "id": "f0cda9e6-952e-4b07-80d9-2fe02a815ab7",
   "metadata": {},
   "source": [
    "## exploring, converting and cleaning"
   ]
  },
  {
   "cell_type": "code",
   "execution_count": 6,
   "id": "ed87e4b0-d571-41b1-9d26-5c352d18d5ef",
   "metadata": {
    "tags": []
   },
   "outputs": [],
   "source": [
    "# transactions.info()"
   ]
  },
  {
   "cell_type": "code",
   "execution_count": 7,
   "id": "969d42d5-4886-42d4-9393-1a504d798427",
   "metadata": {
    "tags": []
   },
   "outputs": [],
   "source": [
    "# convert german numbers to english numbers\n",
    "transactions = transactions.assign(\n",
    "    betrag_eur = transactions['betrag_eur'].str.replace('\\.','', regex=True),\n",
    "    saldo = transactions['saldo'].str.replace('\\.','', regex=True),\n",
    ")"
   ]
  },
  {
   "cell_type": "code",
   "execution_count": 8,
   "id": "03dfc12b-1089-478c-b9d7-715a9fd5811c",
   "metadata": {
    "tags": []
   },
   "outputs": [],
   "source": [
    "transactions = transactions.assign(\n",
    "    betrag_eur = transactions['betrag_eur'].str.replace('\\,','.', regex=True),\n",
    "    saldo = transactions['saldo'].str.replace('\\,','.', regex=True),\n",
    ")"
   ]
  },
  {
   "cell_type": "code",
   "execution_count": 9,
   "id": "ecc1fc50-7508-43de-91a7-5de3cb831bfc",
   "metadata": {
    "tags": []
   },
   "outputs": [],
   "source": [
    "transactions['betrag_eur'] = transactions['betrag_eur'].str[:-2]\n",
    "transactions['saldo'] = transactions['saldo'].str[:-2]"
   ]
  },
  {
   "cell_type": "code",
   "execution_count": 10,
   "id": "193ed772-0748-4f23-9759-f5474de7aafc",
   "metadata": {
    "tags": []
   },
   "outputs": [],
   "source": [
    "import datetime\n",
    "import time\n",
    "\n",
    "transactions['buchungsdatum'] = pd.to_datetime(transactions['buchungsdatum'], \n",
    "                                               format='%d.%m.%Y').dt.strftime('%Y-%m-%d')\n",
    "transactions['buchungsdatum'] = pd.to_datetime(transactions['buchungsdatum'])\n",
    "transactions['wertstellung'] = pd.to_datetime(transactions['wertstellung'], \n",
    "                                              format='%d.%m.%Y').dt.strftime('%Y-%m-%d')\n",
    "transactions['wertstellung'] = pd.to_datetime(transactions['wertstellung'])\n",
    "transactions['betrag_eur'] = pd.to_numeric(transactions['betrag_eur'])\n",
    "transactions['saldo'] = pd.to_numeric(transactions['saldo'])\n",
    "# transactions.info()"
   ]
  },
  {
   "cell_type": "code",
   "execution_count": 11,
   "id": "a4a2fc77-7e31-4125-b8fc-bfdb997fa2f4",
   "metadata": {
    "tags": []
   },
   "outputs": [],
   "source": [
    "# transactions.isna().sum()"
   ]
  },
  {
   "cell_type": "code",
   "execution_count": 12,
   "id": "00f674d7-b10f-459f-9dbe-ca059f38e48d",
   "metadata": {
    "tags": []
   },
   "outputs": [],
   "source": [
    "# # funciton to identify empty lines and show their content\n",
    "# missing_cols, missing_rows = (\n",
    "#     (transactions.isnull().sum(x) | transactions.eq('').sum(x))\n",
    "#     .loc[lambda x: x.gt(0)].index\n",
    "#     for x in (0, 1)\n",
    "# )\n",
    "# transactions.loc[missing_rows, missing_cols]"
   ]
  },
  {
   "cell_type": "code",
   "execution_count": 13,
   "id": "ed7dab95-01a6-479c-a5d8-6fdd669c6653",
   "metadata": {},
   "outputs": [],
   "source": [
    "import numpy as np\n",
    "\n",
    "transactions = (\n",
    "transactions\n",
    "    .assign(buchungsdetails = lambda x: np.where(\n",
    "        x['buchungsdetails'].str.contains('.PP .|LU96ZZZ0000000000000000058'),\n",
    "        x['buchungsdetails'].str[113:],\n",
    "        x['buchungsdetails']\n",
    "      )\n",
    "    )\n",
    ")\n",
    "# transactions.head()"
   ]
  },
  {
   "cell_type": "markdown",
   "id": "d992b47c-f5e8-42a0-86b3-4d00f2a89e78",
   "metadata": {},
   "source": [
    "## top 10 receiver"
   ]
  },
  {
   "cell_type": "code",
   "execution_count": 14,
   "id": "59751a60-4595-42b3-92f7-361371a0ab13",
   "metadata": {},
   "outputs": [],
   "source": [
    "most_freq_receiver = pd.DataFrame(transactions['empfaenger'].value_counts()[:10])\n",
    "# print(\"These are the Top 10 receiver:\", \"\\n\", most_freq_receiver)"
   ]
  },
  {
   "cell_type": "code",
   "execution_count": 15,
   "id": "06f986c4-7f56-4010-a9f6-6ae0246c3ef9",
   "metadata": {},
   "outputs": [],
   "source": [
    "top_receiver_number = most_freq_receiver.iat[0,0]\n",
    "top_receiver_name = most_freq_receiver.index.values[0]"
   ]
  },
  {
   "cell_type": "code",
   "execution_count": 16,
   "id": "7691eaab-d7e1-4f91-b221-194731665c27",
   "metadata": {},
   "outputs": [
    {
     "name": "stdout",
     "output_type": "stream",
     "text": [
      "Rate of PayPal (Europe) S.a.r.l. et Cie., S.C.A. to all transactions: 52.0 %\n"
     ]
    }
   ],
   "source": [
    "top_amount = transactions.query('empfaenger == @top_receiver_name')['empfaenger'].count()\n",
    "top_rate = round(top_amount / transactions['empfaenger'].count(),2)*100\n",
    "print(\"Rate of\", top_receiver_name, \"to all transactions:\", top_rate, \"%\")"
   ]
  },
  {
   "cell_type": "code",
   "execution_count": 17,
   "id": "8ba31398-be8b-4737-9cf7-fd9596e070c8",
   "metadata": {
    "tags": []
   },
   "outputs": [],
   "source": [
    "# # inform user about top receiver in a seperate window\n",
    "# from tkinter import *\n",
    "  \n",
    "# root = Tk() \n",
    "# a = Label(root, \n",
    "#           text = (\"Rate of \" + top_receiver_name + \n",
    "#                   \"\\n to all transactions is: \"+str(top_rate)+\"%\"),\n",
    "#           height=20, width=50) \n",
    "# a.config(font=('Helvatical bold',32))\n",
    "# a.pack() \n",
    "\n",
    "# root.mainloop()"
   ]
  },
  {
   "cell_type": "markdown",
   "id": "759f1303-1cad-421d-86f9-08148bd33b4e",
   "metadata": {},
   "source": [
    "# categorization"
   ]
  },
  {
   "cell_type": "markdown",
   "id": "9a7aa662-8559-45fa-831d-4dc0c01f03a9",
   "metadata": {},
   "source": [
    "## sub categories"
   ]
  },
  {
   "cell_type": "code",
   "execution_count": 18,
   "id": "063ff895-9509-42c9-949c-624ebe63ebf8",
   "metadata": {},
   "outputs": [
    {
     "name": "stdout",
     "output_type": "stream",
     "text": [
      "This is the amount of sub_categories 22\n"
     ]
    },
    {
     "data": {
      "text/plain": [
       "music_dl            53\n",
       "movies_dl           44\n",
       "food_delivery_dl    28\n",
       "rent                20\n",
       "other_dl            20\n",
       "Name: scategory, dtype: int64"
      ]
     },
     "execution_count": 18,
     "metadata": {},
     "output_type": "execute_result"
    }
   ],
   "source": [
    "# categorization of revenues and expenditure \n",
    "import re\n",
    "import numpy as np\n",
    "\n",
    "# the last will be the first ones\n",
    "regexp_dict1 = {\n",
    "    'revenue':'(ENTGELT|LOHN|GEHALT|GARCIA|GIRAUDO|Quiring|Lisa Pataczek)',\n",
    "    'onetimer_revenue':'(Gutschrift|Arbeit-Service|79172|MW304|NN304|HB304|63378)',\n",
    "    'rent':'(PAMMER|ENERGIELIEFERUNG|TELEKOM|Rundfunk|vodafone|RUNDFUNK|NEULAND|0014085229)',\n",
    "    'grocery':'(MONATSBUDGET FÜR ALLTÄGLICHES|REWE|NETTO|SUEDMARKT|LIDL|ALDI|Ghorbani-Farid)',\n",
    "    'mobility':'(DB Vertrieb|Strassenbahnen)',\n",
    "    'share_mobility_dl':'(MILES|SHARE NOW GMBH|UMI Urban Mobility|Voi Technology)',\n",
    "    'smartphone_dl':'(SIMply)',\n",
    "    'food_delivery_dl':'(Takeaway.com|Lieferando)',\n",
    "    'cinema_dl':'(CinemaxX)',\n",
    "    'movies_dl':'(Apple Services, Ihr Einkauf bei Apple Services)',\n",
    "    'music_dl':'(iTunes and App Store,Ihr Einkauf bei iTunes and App Store)',\n",
    "    'subscription_dl':'(DISNEY)',\n",
    "    'other_dl':'(IKEA|BAUHAUS|HELLWEG|AMZ|Amazon.de|posterXXL|STEFA)',\n",
    "    # 'games_dl':'(Nintendo|PLAYSTATION)',\n",
    "    # 'restaurant_dl':'(Grillhaus|El Reda|Restaurant|Bar)',\n",
    "    # 'clothes_dl':'(Hennes|H+M|MauritzBV|Greenality|GREENALITY)',\n",
    "    'debts':'(BUNDESKASSE HALLE)',\n",
    "    'holiday':'(URLAUB)',\n",
    "    'reserve':'(RUECKLAGEN)',\n",
    "    'pension_parents':'(RENTE FÜR ELTERN|DE07ZZZ00000002074Halima)',\n",
    "    'savings_plan':'(ETF-SPARPLAN|Kommando zurueck|DE07ZZZ00000002074Rias)',\n",
    "    'building_savings':'(0163765701)',\n",
    "    'donation':'(SPENDE|DRK GENERALSEKRETARIAT)',\n",
    "    # 'medicine':'(SIEVERS|APOTHEKE|Apotheke)',\n",
    "    # 'insurance':'AXA|Adam Riese|VHV|Envivas|Rechtsanwalt',\n",
    "    'onetimer_expenditure':'(DATA003|Schadennr|Kaution|84507316273|LANDESHAUPTKASSE BERLIN|Post)',\n",
    "    'outside_capital':'(mama|Bolzstr. 3-7)'\n",
    "}\n",
    "\n",
    "sub_cat = transactions.copy().assign(scategory = 'uncategorized')\n",
    "\n",
    "for val1 in regexp_dict1.items(): \n",
    "    label1 = val1[0]\n",
    "    regexp1 = re.compile(val1[1], flags=re.IGNORECASE)\n",
    "    sub_cat = (\n",
    "    sub_cat\n",
    "        .assign(\n",
    "            scategory = lambda x: np.where(\n",
    "                (x['umsatzart'].str.contains(regexp1, regex=True)) &\n",
    "                (x['scategory'] == 'uncategorized')|\n",
    "                (x['empfaenger'].str.contains(regexp1, regex=True)) &\n",
    "                (x['scategory'] == 'uncategorized')|\n",
    "                (x['auftraggeber'].str.contains(regexp1, regex=True)) &\n",
    "                (x['scategory'] == 'uncategorized')|\n",
    "                (x['buchungsdetails'].str.contains(regexp1, regex=True)) &\n",
    "                (x['scategory'] == 'uncategorized'), label1, x['scategory'])))\n",
    "\n",
    "print(\"This is the amount of sub_categories\", len(sub_cat.groupby(['scategory'])))\n",
    "sub_cat['scategory'].value_counts()[:5]\n",
    "# sub_cat[['buchungsdetails','empfaenger','scategory']][:50]"
   ]
  },
  {
   "cell_type": "markdown",
   "id": "793f4736-4e48-4853-bd18-86492f8e23ed",
   "metadata": {},
   "source": [
    "## major categories"
   ]
  },
  {
   "cell_type": "code",
   "execution_count": 19,
   "id": "4a70da75-ed01-40e6-8a85-56c960367d85",
   "metadata": {},
   "outputs": [
    {
     "name": "stdout",
     "output_type": "stream",
     "text": [
      "This is the amount of maj_categories 16\n"
     ]
    },
    {
     "data": {
      "text/plain": [
       "dailylife        163\n",
       "rent              20\n",
       "revenue           17\n",
       "mobility          13\n",
       "uncategorized     13\n",
       "Name: mcategory, dtype: int64"
      ]
     },
     "execution_count": 19,
     "metadata": {},
     "output_type": "execute_result"
    }
   ],
   "source": [
    "regexp_dict2 = {'dailylife':'(_dl)'}\n",
    "maj_cat = sub_cat.copy().assign(mcategory = 'uncategorized')\n",
    "\n",
    "for val2 in regexp_dict2.items():\n",
    "    label2 = val2[0]\n",
    "    regexp2 = re.compile(val2[1], flags=re.IGNORECASE)\n",
    "    maj_cat = (\n",
    "    maj_cat\n",
    "        .assign(\n",
    "            mcategory = lambda x: np.where(\n",
    "                (x['scategory'].str.contains(regexp2, regex=True)), label2, x['scategory'])))\n",
    "\n",
    "print(\"This is the amount of maj_categories\", len(maj_cat.groupby(['mcategory'])))    \n",
    "maj_cat['mcategory'].value_counts().head()"
   ]
  },
  {
   "cell_type": "code",
   "execution_count": 20,
   "id": "f3c786fc-1dbf-4e98-96c6-cc0e1364b04d",
   "metadata": {},
   "outputs": [
    {
     "name": "stdout",
     "output_type": "stream",
     "text": [
      "This is the amount of maj_categories 10\n"
     ]
    },
    {
     "data": {
      "text/plain": [
       "dailylife        152\n",
       "miscellaneous     45\n",
       "rent              20\n",
       "revenue           17\n",
       "uncategorized     13\n",
       "Name: mcategory, dtype: int64"
      ]
     },
     "execution_count": 20,
     "metadata": {},
     "output_type": "execute_result"
    }
   ],
   "source": [
    "regexp_dict3 = {\n",
    "    'miscellaneous':'(building_savings|holiday|debts|mobility|pension_parents|reserve|donation)'\n",
    "}\n",
    "# maj_cat = sub_cat.copy().assign(mcategory = 'uncategorized')\n",
    "for val3 in regexp_dict3.items():\n",
    "    label3 = val3[0]\n",
    "    regexp3 = re.compile(val3[1], flags=re.IGNORECASE)\n",
    "    maj_cat = (\n",
    "    maj_cat\n",
    "        .assign(\n",
    "            mcategory = lambda x: np.where(\n",
    "                (x['scategory'].str.contains(regexp3, regex=True)), label3, x['mcategory'])))\n",
    "    \n",
    "print(\"This is the amount of maj_categories\", len(maj_cat.groupby(['mcategory'])))\n",
    "maj_cat['mcategory'].value_counts().head()"
   ]
  },
  {
   "cell_type": "code",
   "execution_count": 21,
   "id": "788f9dd6-7350-4885-8465-2bd2a18c4e22",
   "metadata": {},
   "outputs": [],
   "source": [
    "transactions = maj_cat"
   ]
  },
  {
   "cell_type": "code",
   "execution_count": 22,
   "id": "e4ebf992-5a45-4702-b02b-904e4352fb06",
   "metadata": {},
   "outputs": [],
   "source": [
    "# sub_cat.groupby(['scategory']).sum()['betrag_eur'].sort_values()[:5]"
   ]
  },
  {
   "cell_type": "markdown",
   "id": "4fc2b156-8e11-49d3-8aeb-461ff2009084",
   "metadata": {},
   "source": [
    "## uncategorized transactions"
   ]
  },
  {
   "cell_type": "code",
   "execution_count": 23,
   "id": "c939a855-30b2-4ea8-9857-bd6383fccac2",
   "metadata": {},
   "outputs": [
    {
     "name": "stdout",
     "output_type": "stream",
     "text": [
      "The total amount of uncategorized transactions is:  13\n",
      "The percentage of categorized transactions to total transactions is:  95.0 %\n"
     ]
    }
   ],
   "source": [
    "# test amount of unknwon transactions\n",
    "uncategorized = pd.DataFrame(sub_cat.query('scategory == \"uncategorized\"')[['betrag_eur']].count()).iat[0,0]\n",
    "print(\"The total amount of uncategorized transactions is: \", uncategorized)\n",
    "print(\"The percentage of categorized transactions to total transactions is: \",\n",
    "      100*round(1-uncategorized/transactions['empfaenger'].count(),2),\"%\")"
   ]
  },
  {
   "cell_type": "code",
   "execution_count": 24,
   "id": "f7144a01-90f0-44e3-bc59-779eb7824a62",
   "metadata": {
    "tags": []
   },
   "outputs": [],
   "source": [
    "# # quick check \n",
    "# if uncategorized > (1-(9/len(transactions)))*100*.2: \n",
    "#     print(\"\"\"\n",
    "#         May be you should add transactions details to existing categories,\n",
    "#         since the amount of uncategorized transactions is too high!\n",
    "#     \"\"\")\n",
    "# elif uncategorized <= (1-(9/len(transactions)))*100*.2:\n",
    "#     print(\"\"\" \n",
    "#         You did your homework and all transactions seem to be categorized properly!\n",
    " \n",
    "#                                 ░░█▀░░░░░░░░░░░▀▀███████░░░░ \n",
    "#                                 ░░█▌░░░░░░░░░░░░░░░▀██████░░░ \n",
    "#                                 ░█▌░░░░░░░░░░░░░░░░███████▌░░ \n",
    "#                                 ░█░░░░░░░░░░░░░░░░░████████░░ \n",
    "#                                 ▐▌░░░░░░░░░░░░░░░░░▀██████▌░░ \n",
    "#                                 ░▌▄███▌░░░░▀████▄░░░░▀████▌░░ \n",
    "#                                 ▐▀▀▄█▄░▌░░░▄██▄▄▄▀░░░░████▄▄░ \n",
    "#                                 ▐░▀░░═▐░░░░░░══░░▀░░░░▐▀░▄▀▌▌ \n",
    "#                                 ▐░░░░░▌░░░░░░░░░░░░░░░▀░▀░░▌▌ \n",
    "#                                 ▐░░░▄▀░░░▀░▌░░░░░░░░░░░░▌█░▌▌ \n",
    "#                                 ░▌░░▀▀▄▄▀▀▄▌▌░░░░░░░░░░▐░▀▐▐░ \n",
    "#                                 ░▌░░▌░▄▄▄▄░░░▌░░░░░░░░▐░░▀▐░░ \n",
    "#                                 ░█░▐▄██████▄░▐░░░░░░░░█▀▄▄▀░░ \n",
    "#                                 ░▐░▌▌░░░░░░▀▀▄▐░░░░░░█▌░░░░░░ \n",
    "#                                 ░░█░░▄▀▀▀▀▄░▄═╝▄░░░▄▀░▌░░░░░░ \n",
    "#                                 ░░░▌▐░░░░░░▌░▀▀░░▄▀░░▐░░░░░░░ \n",
    "#                                 ░░░▀▄░░░░░░░░░▄▀▀░░░░█░░░░░░░ \n",
    "#                                 ░░░▄█▄▄▄▄▄▄▄▀▀░░░░░░░▌▌░░░░░░ \n",
    "#                                 ░░▄▀▌▀▌░░░░░░░░░░░░░▄▀▀▄░░░░░ \n",
    "#                                 ▄▀░░▌░▀▄░░░░░░░░░░▄▀░░▌░▀▄░░░ \n",
    "#                                 ░░░░▌█▄▄▀▄░░░░░░▄▀░░░░▌░░░▌▄▄ \n",
    "#                                 ░░░▄▐██████▄▄░▄▀░░▄▄▄▄▌░░░░▄░ \n",
    "#                                 ░░▄▌████████▄▄▄███████▌░░░░░▄ \n",
    "#                                 ░▄▀░██████████████████▌▀▄░░░░ \n",
    "#                                 ▀░░░█████▀▀░░░▀███████░░░▀▄░░ \n",
    "#                                 ░░░░▐█▀░░░▐░░░░░▀████▌░░░░▀▄░ \n",
    "#                                 ░░░░░░▌░░░▐░░░░▐░░▀▀█░░░░░░░▀ \n",
    "#                                 ░░░░░░▐░░░░▌░░░▐░░░░░▌░░░░░░░ \n",
    "#                                 ░╔╗║░╔═╗░═╦═░░░░░╔╗░░╔═╗░╦═╗░ \n",
    "#                                 ░║║║░║░║░░║░░░░░░╠╩╗░╠═╣░║░║░ \n",
    "#                                 ░║╚╝░╚═╝░░║░░░░░░╚═╝░║░║░╩═╝░ \n",
    "#           \"\"\")\n",
    "                                    "
   ]
  },
  {
   "cell_type": "markdown",
   "id": "bc299224-2328-4fbd-8e39-f5c9dd65f3c5",
   "metadata": {},
   "source": [
    "<!-- ...is too high: \n",
    "\n",
    "![Data Science Process](https://pics.me.me/tis-too-damn-high-14233414.png) -->"
   ]
  },
  {
   "cell_type": "markdown",
   "id": "6513f8f2-fd16-4e07-a5ea-196ef60ce52c",
   "metadata": {},
   "source": [
    "## save manager"
   ]
  },
  {
   "cell_type": "code",
   "execution_count": 25,
   "id": "786957e9-e7bd-4f51-99bc-a10ccb90a6ec",
   "metadata": {},
   "outputs": [],
   "source": [
    "# current version saved with todays date\n",
    "today = datetime.datetime.today().strftime('%Y%m%d')\n",
    "save_path = '/Users/riasnazary/datascience/00_final-project/saved/'\n",
    "transactions.to_csv(save_path + 'transactions_'f'{today}.csv')\n",
    "# transactions"
   ]
  },
  {
   "cell_type": "code",
   "execution_count": 26,
   "id": "597d9cf1-3ba9-43bc-88d0-802980cd7a9f",
   "metadata": {},
   "outputs": [],
   "source": [
    "# call the transactions history\n",
    "history = pd.read_csv(save_path + 'transactions_history.csv')\n",
    "history = history.drop(history.columns[0], axis=1)"
   ]
  },
  {
   "cell_type": "code",
   "execution_count": 27,
   "id": "43586ec1-d5bb-40d8-ace4-deeea51936bc",
   "metadata": {},
   "outputs": [],
   "source": [
    "history['buchungsdatum'] = pd.to_datetime(history['buchungsdatum'], \n",
    "                                               format='%Y-%m-%d').dt.strftime('%Y-%m-%d')\n",
    "history['buchungsdatum'] = pd.to_datetime(history['buchungsdatum'])\n",
    "history['wertstellung'] = pd.to_datetime(history['wertstellung'], \n",
    "                                              format='%Y-%m-%d').dt.strftime('%Y-%m-%d')\n",
    "history['wertstellung'] = pd.to_datetime(history['wertstellung'])\n",
    "history['betrag_eur'] = pd.to_numeric(history['betrag_eur'])\n",
    "history['saldo'] = pd.to_numeric(history['saldo'])\n",
    "# history"
   ]
  },
  {
   "cell_type": "code",
   "execution_count": 28,
   "id": "89fe7dec-e7c3-4102-bb05-e84b712f480d",
   "metadata": {},
   "outputs": [],
   "source": [
    "history = pd.concat([transactions, history]).drop_duplicates().reset_index(drop=True)\n",
    "# len(history)"
   ]
  },
  {
   "cell_type": "code",
   "execution_count": 29,
   "id": "cd93f96b-6fa4-488a-8282-c8f8706ebb7c",
   "metadata": {},
   "outputs": [],
   "source": [
    "history.to_csv(save_path + 'transactions_history.csv')"
   ]
  },
  {
   "cell_type": "code",
   "execution_count": 30,
   "id": "78a6374c-e541-47e6-a363-ae0dcda80576",
   "metadata": {},
   "outputs": [],
   "source": [
    "# # inform user in a seperate window\n",
    "# from tkinter import *\n",
    "# if len(history) > len(transactions): \n",
    "#     root = Tk() \n",
    "#     a = Label(root, \n",
    "#               text = (str(len(history)-len(transactions))\n",
    "#                      +\" more transactions have been added to your history csv-file.\"\n",
    "#                      +\"\\nOverall there are now \"+str(len(history))+\" transactions\"\n",
    "#                      +\"\\nsaved in your save-folder: \\n\"+str(save_path)),\n",
    "#               height=20, width=50) \n",
    "#     a.config(font=('Helvatical bold',32))\n",
    "#     a.pack() \n",
    "#     root.mainloop()\n",
    "# else:\n",
    "\n",
    "#     root = Tk() \n",
    "#     a = Label(root, \n",
    "#               text = (\"Something went wrong with the save manager!\"),\n",
    "#               height=20, width=50) \n",
    "#     a.config(font=('Helvatical bold',32))\n",
    "#     a.pack() \n",
    "#     root.mainloop()"
   ]
  },
  {
   "cell_type": "code",
   "execution_count": 31,
   "id": "d669deda-1c44-46a0-bfb7-aca05d448b96",
   "metadata": {},
   "outputs": [
    {
     "name": "stdout",
     "output_type": "stream",
     "text": [
      "67 more transactions have been added to your history csv-file. \n",
      "Overall there are now 353 transactions.\n"
     ]
    }
   ],
   "source": [
    "# quick check \n",
    "if len(history) > len(transactions): \n",
    "    print(len(history)-len(transactions),\n",
    "          \"more transactions have been added to your history csv-file.\",\n",
    "          \"\\nOverall there are now\", len(history), \"transactions.\")\n",
    "else:\n",
    "    print(\"something went wrong with the save manager\")"
   ]
  },
  {
   "cell_type": "markdown",
   "id": "c5dd97ee-2c25-48f1-bc3b-8de52d5407b6",
   "metadata": {},
   "source": [
    "# dashboard"
   ]
  },
  {
   "cell_type": "markdown",
   "id": "edc19812-6319-48bf-87d8-f11e0b2896e6",
   "metadata": {},
   "source": [
    "## stock market\n",
    "https://www.analyticsvidhya.com/blog/2021/06/download-financial-dataset-using-yahoo-finance-in-python-a-complete-guide/"
   ]
  },
  {
   "cell_type": "code",
   "execution_count": 32,
   "id": "cbb39d02-b03e-47a2-9313-c55db29be992",
   "metadata": {},
   "outputs": [],
   "source": [
    "# !pip install yfinance\n",
    "# !pip install yahoofinancials"
   ]
  },
  {
   "cell_type": "code",
   "execution_count": 33,
   "id": "0fdf484a-7b0c-4484-8537-e3fce160ae13",
   "metadata": {},
   "outputs": [],
   "source": [
    "# import pandas as pd\n",
    "# import yfinance as yf\n",
    "# from yahoofinancials import YahooFinancials"
   ]
  },
  {
   "cell_type": "code",
   "execution_count": 34,
   "id": "3dbbde7a-3542-4c0b-a2f4-69f5517358e0",
   "metadata": {},
   "outputs": [],
   "source": [
    "import datetime\n",
    "\n",
    "pastyear = datetime.date.today() - datetime.timedelta (days=365)\n",
    "pasthalfyear = datetime.date.today() - datetime.timedelta (days=183)\n",
    "pastquarter = datetime.date.today() - datetime.timedelta (days=90)\n",
    "pastmonth = datetime.date.today() - datetime.timedelta (days=30)\n",
    "today = datetime.date.today()"
   ]
  },
  {
   "cell_type": "code",
   "execution_count": 35,
   "id": "98f8dc86-049b-4070-87e7-453454315200",
   "metadata": {},
   "outputs": [],
   "source": [
    "# aapl_df = yf.download('AAPL', \n",
    "#                       start=pastyear, \n",
    "#                       end=today, \n",
    "#                       progress=False,\n",
    "# )\n",
    "# aapl_df.head()"
   ]
  },
  {
   "cell_type": "code",
   "execution_count": 36,
   "id": "daeeadf6-95da-410e-be59-55f746e512f9",
   "metadata": {},
   "outputs": [],
   "source": [
    "# aapl_df = yf.download('AAPL')"
   ]
  },
  {
   "cell_type": "code",
   "execution_count": 37,
   "id": "ecef4f91-fa58-48b2-bfd3-dca12ff74985",
   "metadata": {},
   "outputs": [],
   "source": [
    "# ticker = yf.Ticker('AAPL')\n",
    "# aapl_df = ticker.history(period=\"10y\")\n",
    "# aapl_df['Close'].plot(title=\"APPLE's stock price\")\n",
    "# # fig, ax = plt.plot(figsize =(12, 10))"
   ]
  },
  {
   "cell_type": "code",
   "execution_count": 38,
   "id": "2cdb6cfb-6e94-4dc8-9425-0afb7261b390",
   "metadata": {},
   "outputs": [],
   "source": [
    "# yahoo_financials = YahooFinancials('AAPL')\n",
    "# data = yahoo_financials.get_historical_price_data(start_date='2021-01-01', \n",
    "#                                                   end_date='2021-12-31', \n",
    "#                                                   time_interval='weekly')\n",
    "# aapl_df = pd.DataFrame(data['AAPL']['prices'])\n",
    "# aapl_df = aapl_df.drop('date', axis=1).set_index('formatted_date')\n",
    "# aapl_df.head()"
   ]
  },
  {
   "cell_type": "markdown",
   "id": "5d7a8a40-d7bc-4763-a69e-cd6b86d63c50",
   "metadata": {},
   "source": [
    "## validation of regular transactions"
   ]
  },
  {
   "cell_type": "markdown",
   "id": "e1dc31bc-cb88-4541-9fee-440ceba6a963",
   "metadata": {},
   "source": [
    "### iter-1 irregular transactions by categories"
   ]
  },
  {
   "cell_type": "code",
   "execution_count": 39,
   "id": "0d2059dc-0ef4-4bcd-a2d0-e174be85e28c",
   "metadata": {},
   "outputs": [
    {
     "name": "stdout",
     "output_type": "stream",
     "text": [
      "The amount of irregular transactions to total transactions is in this first iteration:  23  of  286 . \n",
      "That makes:  8.0 %.\n"
     ]
    }
   ],
   "source": [
    "# cleaning irregular transactions, which don't belong to regular transactions\n",
    "df = transactions[~transactions.scategory.str.contains(\n",
    "    \"onetimer|outside_capital\") == True][['buchungsdatum','buchungsdetails','betrag_eur',\n",
    "                                          'scategory','mcategory']]\n",
    "\n",
    "print(\"The amount of irregular transactions to total transactions is in this first iteration: \",\n",
    "      len(transactions)-len(df),\" of \",len(transactions),\".\",\n",
    "      \"\\nThat makes: \",round(1 - len(df)/len(transactions),2)*100,\"%.\")"
   ]
  },
  {
   "cell_type": "markdown",
   "id": "85c12d7d-d416-4ce7-9231-1c027895bcce",
   "metadata": {},
   "source": [
    "### iter-2 irregular transactions at first glance"
   ]
  },
  {
   "cell_type": "code",
   "execution_count": 40,
   "id": "9de823b3-dba6-4ee2-8213-92d45a5649b7",
   "metadata": {},
   "outputs": [],
   "source": [
    "# # check data for irregular transactions at first glance\n",
    "# df[['buchungsdatum','buchungsdetails','betrag_eur']].sort_values('betrag_eur')"
   ]
  },
  {
   "cell_type": "code",
   "execution_count": 41,
   "id": "b6455361-8480-4613-9646-de54e25287c7",
   "metadata": {},
   "outputs": [
    {
     "data": {
      "text/plain": [
       "True"
      ]
     },
     "execution_count": 41,
     "metadata": {},
     "output_type": "execute_result"
    }
   ],
   "source": [
    "# basic statistics to expenditures and revenues sorted by numbers\n",
    "revenues = df.query('betrag_eur > 0')\n",
    "expenditures = df.query('betrag_eur < 0')\n",
    "\n",
    "# quick check, if amount of exp and rev equals to all regular transactions\n",
    "len(expenditures) + len(revenues) == len(df)"
   ]
  },
  {
   "cell_type": "code",
   "execution_count": 42,
   "id": "6581c1b0-2b28-4097-86c2-202f7f7fe7df",
   "metadata": {},
   "outputs": [],
   "source": [
    "# # looking at expenditures\n",
    "# expenditures.sort_values('betrag_eur')\n",
    "# # looks fine! ready to go"
   ]
  },
  {
   "cell_type": "code",
   "execution_count": 43,
   "id": "e59bd6fb-a4aa-4010-87dd-07208f8b92b6",
   "metadata": {},
   "outputs": [],
   "source": [
    "# # looking at revenues\n",
    "# revenues.sort_values('betrag_eur')\n",
    "# # still some irregular transactions, which needs to be filtered"
   ]
  },
  {
   "cell_type": "code",
   "execution_count": 44,
   "id": "dfa3b211-7810-4d44-a269-8167c938778f",
   "metadata": {},
   "outputs": [],
   "source": [
    "# # basic statistics to expenditures\n",
    "# expenditures.describe()"
   ]
  },
  {
   "cell_type": "code",
   "execution_count": 45,
   "id": "cc4578fc-e827-4641-bc36-0d5a9a1a7643",
   "metadata": {},
   "outputs": [],
   "source": [
    "# # basic statistics to revenues\n",
    "# revenues.describe()"
   ]
  },
  {
   "cell_type": "markdown",
   "id": "7856dc21-f3a9-47fb-8787-a5e8e8d218a3",
   "metadata": {},
   "source": [
    "#### boxplot and histogram of revenues"
   ]
  },
  {
   "cell_type": "code",
   "execution_count": 46,
   "id": "7fb29fbe-320d-4ba1-ad1c-df6936e3c794",
   "metadata": {},
   "outputs": [],
   "source": [
    "# # visualize how the distribution looks like\n",
    "# from matplotlib import pyplot as plt\n",
    "# import numpy as np\n",
    "\n",
    "# fig = plt.figure(figsize =(15, 2))\n",
    "# revenues[['betrag_eur']].boxplot(vert=False)\n",
    "# plt.suptitle(\"Boxplot\")\n",
    "# plt.title(\"Revenues\")\n",
    "# fig = plt.figure(figsize =(15, 2))\n",
    "# expenditures[['betrag_eur']].boxplot(vert=False)\n",
    "# plt.suptitle(\"Boxplot\")\n",
    "# plt.title(\"Expenditures\")\n",
    "# plt.subplots_adjust(left=0.1)\n",
    "\n",
    "# plt.rcParams[\"figure.figsize\"] = [12, 3.50]\n",
    "# plt.rcParams[\"figure.autolayout\"] = True\n",
    "\n",
    "# fig, axes = plt.subplots(1, 2)\n",
    "# plt.suptitle(\"Simple Plot\")\n",
    "# revenues.plot('betrag_eur', ax=axes[0], title = 'revenues', legend = False)\n",
    "# expenditures.plot('betrag_eur', ax=axes[1], title = 'expenditures', legend = False)\n",
    "\n",
    "# fig, axes = plt.subplots(1, 2)\n",
    "# plt.suptitle(\"Histogram\")\n",
    "# revenues.hist('betrag_eur', ax=axes[0], bins = 100)\n",
    "# expenditures.hist('betrag_eur', ax=axes[1], bins = 100)\n",
    "# plt.show()"
   ]
  },
  {
   "cell_type": "code",
   "execution_count": 47,
   "id": "b74b4bb8-4f12-46ac-8245-a399c49f572e",
   "metadata": {},
   "outputs": [],
   "source": [
    "# q1_revenue = np.percentile(revenues.betrag_eur, 25)\n",
    "# q1_revenue"
   ]
  },
  {
   "cell_type": "code",
   "execution_count": 48,
   "id": "cae05936-50db-4585-9315-bf51b1e81ecd",
   "metadata": {},
   "outputs": [],
   "source": [
    "# # Since some revenues are not in the usual range nore frequency --> irregular transactions we well.\n",
    "# revenues = revenues.query('betrag_eur > @q1_revenue')\n",
    "# revenues"
   ]
  },
  {
   "cell_type": "markdown",
   "id": "282d2400-9e51-498d-9329-ffb4fa499a71",
   "metadata": {},
   "source": [
    "### iter-3 irregular transactions by statistical ranges"
   ]
  },
  {
   "cell_type": "code",
   "execution_count": 49,
   "id": "b8d718da-adb6-4813-9de8-3f4a4199d283",
   "metadata": {},
   "outputs": [
    {
     "data": {
      "text/plain": [
       "246"
      ]
     },
     "execution_count": 49,
     "metadata": {},
     "output_type": "execute_result"
    }
   ],
   "source": [
    "len(expenditures)"
   ]
  },
  {
   "cell_type": "code",
   "execution_count": 50,
   "id": "25111962-6889-4b6f-a0a3-3c7c076f53ad",
   "metadata": {},
   "outputs": [],
   "source": [
    "# # building an array of unique sub categories\n",
    "# expenditures['scategory'].unique()"
   ]
  },
  {
   "cell_type": "code",
   "execution_count": 51,
   "id": "5063d1c9-77b5-466c-926f-5f4fd3f1575a",
   "metadata": {},
   "outputs": [
    {
     "name": "stdout",
     "output_type": "stream",
     "text": [
      "Amount of sub_categories for expenditures: 18 \n",
      "\n"
     ]
    },
    {
     "data": {
      "text/plain": [
       "'movies_dl'"
      ]
     },
     "execution_count": 51,
     "metadata": {},
     "output_type": "execute_result"
    }
   ],
   "source": [
    "print(\"Amount of sub_categories for expenditures:\", len(expenditures['scategory'].unique()),\"\\n\")\n",
    "arr = expenditures['scategory'].unique()\n",
    "arr[0]"
   ]
  },
  {
   "cell_type": "code",
   "execution_count": 52,
   "id": "af1fe069-5638-456c-b9a9-6f9b9df2c609",
   "metadata": {},
   "outputs": [],
   "source": [
    "# expenditures.query('scategory == @arr[0]').describe()"
   ]
  },
  {
   "cell_type": "code",
   "execution_count": 53,
   "id": "b0add2bc-646f-46e9-af74-b9973edc2b12",
   "metadata": {},
   "outputs": [],
   "source": [
    "# mean = round(expenditures.query('scategory == @arr[0]').mean()[0],2)\n",
    "# mean"
   ]
  },
  {
   "cell_type": "code",
   "execution_count": 54,
   "id": "03d8568d-bcdd-4c7d-a5ba-629843a9d066",
   "metadata": {},
   "outputs": [],
   "source": [
    "# std = expenditures.query('scategory == \"movies_dl\"')[['betrag_eur']].std()[0]\n",
    "# std3 = round(std*3,2)\n",
    "# std3"
   ]
  },
  {
   "cell_type": "code",
   "execution_count": 55,
   "id": "3ca54cb1-4e2a-4617-8f8f-0a839ebfce66",
   "metadata": {},
   "outputs": [],
   "source": [
    "# med = round(expenditures.query('scategory == \"movies_dl\"')[['betrag_eur']].median()[0],2)\n",
    "# med"
   ]
  },
  {
   "cell_type": "code",
   "execution_count": 56,
   "id": "31af48ff-6342-4a96-81cc-459ba76290cb",
   "metadata": {},
   "outputs": [],
   "source": [
    "# mean-std3, mean+std3"
   ]
  },
  {
   "cell_type": "markdown",
   "id": "d70f7018-784c-4948-b518-caf51bcb7d87",
   "metadata": {},
   "source": [
    "#### range builder"
   ]
  },
  {
   "cell_type": "code",
   "execution_count": 57,
   "id": "2f720613-272d-49c1-986c-bee7cd2b232a",
   "metadata": {},
   "outputs": [
    {
     "data": {
      "text/html": [
       "<div>\n",
       "<style scoped>\n",
       "    .dataframe tbody tr th:only-of-type {\n",
       "        vertical-align: middle;\n",
       "    }\n",
       "\n",
       "    .dataframe tbody tr th {\n",
       "        vertical-align: top;\n",
       "    }\n",
       "\n",
       "    .dataframe thead th {\n",
       "        text-align: right;\n",
       "    }\n",
       "</style>\n",
       "<table border=\"1\" class=\"dataframe\">\n",
       "  <thead>\n",
       "    <tr style=\"text-align: right;\">\n",
       "      <th></th>\n",
       "      <th>scategory</th>\n",
       "      <th>min_r</th>\n",
       "      <th>max_r</th>\n",
       "      <th>median</th>\n",
       "      <th>mean</th>\n",
       "    </tr>\n",
       "  </thead>\n",
       "  <tbody>\n",
       "    <tr>\n",
       "      <th>0</th>\n",
       "      <td>movies_dl</td>\n",
       "      <td>-43.46</td>\n",
       "      <td>0.00</td>\n",
       "      <td>-3.99</td>\n",
       "      <td>-6.82</td>\n",
       "    </tr>\n",
       "    <tr>\n",
       "      <th>1</th>\n",
       "      <td>share_mobility_dl</td>\n",
       "      <td>-42.35</td>\n",
       "      <td>-1.28</td>\n",
       "      <td>-11.55</td>\n",
       "      <td>-13.27</td>\n",
       "    </tr>\n",
       "    <tr>\n",
       "      <th>2</th>\n",
       "      <td>smartphone_dl</td>\n",
       "      <td>-15.75</td>\n",
       "      <td>-11.41</td>\n",
       "      <td>-12.49</td>\n",
       "      <td>-13.03</td>\n",
       "    </tr>\n",
       "    <tr>\n",
       "      <th>3</th>\n",
       "      <td>food_delivery_dl</td>\n",
       "      <td>-68.76</td>\n",
       "      <td>-8.07</td>\n",
       "      <td>-23.24</td>\n",
       "      <td>-18.97</td>\n",
       "    </tr>\n",
       "    <tr>\n",
       "      <th>4</th>\n",
       "      <td>rent</td>\n",
       "      <td>-979.54</td>\n",
       "      <td>0.00</td>\n",
       "      <td>-85.00</td>\n",
       "      <td>-258.66</td>\n",
       "    </tr>\n",
       "  </tbody>\n",
       "</table>\n",
       "</div>"
      ],
      "text/plain": [
       "           scategory   min_r  max_r  median    mean\n",
       "0          movies_dl  -43.46   0.00   -3.99   -6.82\n",
       "1  share_mobility_dl  -42.35  -1.28  -11.55  -13.27\n",
       "2      smartphone_dl  -15.75 -11.41  -12.49  -13.03\n",
       "3   food_delivery_dl  -68.76  -8.07  -23.24  -18.97\n",
       "4               rent -979.54   0.00  -85.00 -258.66"
      ]
     },
     "execution_count": 57,
     "metadata": {},
     "output_type": "execute_result"
    }
   ],
   "source": [
    "# define a function for the range-builder based on median values\n",
    "b = []\n",
    "\n",
    "def range_builer(a):\n",
    "    for i in range(len(a)):\n",
    "        result = {}\n",
    "        result['min_r'] = round(\n",
    "            expenditures.query(\n",
    "                f'scategory == @arr[{i}]').median()[0],2)-round(\n",
    "            expenditures.query(\n",
    "                f'scategory == @arr[{i}]')[['betrag_eur']].std()[0]*3,2)\n",
    "        result['max_r'] = round(\n",
    "            expenditures.query(\n",
    "                f'scategory == @arr[{i}]').median()[0],2)+round(\n",
    "            expenditures.query(\n",
    "                f'scategory == @arr[{i}]')[['betrag_eur']].std()[0]*1,2)\n",
    "        result['median'] = round(\n",
    "            expenditures.query(\n",
    "                f'scategory == @arr[{i}]').median()[0],2)\n",
    "        result['mean'] = round(\n",
    "            expenditures.query(\n",
    "                f'scategory == @arr[{i}]').mean()[0],2)\n",
    "        b.append(result)\n",
    "    return b\n",
    "\n",
    "# arr = arr.tolist()\n",
    "sranges = pd.DataFrame(data={'scategory': arr})\n",
    "temp = pd.DataFrame(range_builer(arr))\n",
    "sranges = sranges.join(temp)\n",
    "\n",
    "# Since we are not interested in positive values for expenditures, we can set a suitable condition for max_range\n",
    "sranges = sranges.assign(max_r = lambda x: np.where(x['max_r']>0, 0, x['max_r']))\n",
    "sranges[:5]"
   ]
  },
  {
   "cell_type": "markdown",
   "id": "eb70ccdb-b0a9-4f9b-9367-ef6e5f20e34f",
   "metadata": {},
   "source": [
    "#### range checker"
   ]
  },
  {
   "cell_type": "code",
   "execution_count": 58,
   "id": "208194d5-d5f3-4e20-bb4c-7b122ba56b7a",
   "metadata": {},
   "outputs": [
    {
     "data": {
      "text/html": [
       "<div>\n",
       "<style scoped>\n",
       "    .dataframe tbody tr th:only-of-type {\n",
       "        vertical-align: middle;\n",
       "    }\n",
       "\n",
       "    .dataframe tbody tr th {\n",
       "        vertical-align: top;\n",
       "    }\n",
       "\n",
       "    .dataframe thead th {\n",
       "        text-align: right;\n",
       "    }\n",
       "</style>\n",
       "<table border=\"1\" class=\"dataframe\">\n",
       "  <thead>\n",
       "    <tr style=\"text-align: right;\">\n",
       "      <th></th>\n",
       "      <th>buchungsdatum</th>\n",
       "      <th>buchungsdetails</th>\n",
       "      <th>betrag_eur</th>\n",
       "      <th>scategory</th>\n",
       "      <th>mcategory</th>\n",
       "      <th>min_r</th>\n",
       "      <th>max_r</th>\n",
       "      <th>median</th>\n",
       "      <th>mean</th>\n",
       "      <th>check</th>\n",
       "    </tr>\n",
       "  </thead>\n",
       "  <tbody>\n",
       "    <tr>\n",
       "      <th>4</th>\n",
       "      <td>2022-01-18</td>\n",
       "      <td>Takeaway.com PaymentsB.V., Ihr Einkauf bei Takeaway.comPayments B.V.</td>\n",
       "      <td>-1.15</td>\n",
       "      <td>food_delivery_dl</td>\n",
       "      <td>dailylife</td>\n",
       "      <td>-68.76</td>\n",
       "      <td>-8.07</td>\n",
       "      <td>-23.24</td>\n",
       "      <td>-18.97</td>\n",
       "      <td>out of range</td>\n",
       "    </tr>\n",
       "    <tr>\n",
       "      <th>14</th>\n",
       "      <td>2022-01-17</td>\n",
       "      <td>Takeaway.com PaymentsB.V., Ihr Einkauf bei Takeaway.comPayments B.V.</td>\n",
       "      <td>-1.82</td>\n",
       "      <td>food_delivery_dl</td>\n",
       "      <td>dailylife</td>\n",
       "      <td>-68.76</td>\n",
       "      <td>-8.07</td>\n",
       "      <td>-23.24</td>\n",
       "      <td>-18.97</td>\n",
       "      <td>out of range</td>\n",
       "    </tr>\n",
       "    <tr>\n",
       "      <th>41</th>\n",
       "      <td>2022-01-04</td>\n",
       "      <td>Takeaway.com PaymentsB.V., Ihr Einkauf bei Takeaway.comPayments B.V.</td>\n",
       "      <td>-1.25</td>\n",
       "      <td>food_delivery_dl</td>\n",
       "      <td>dailylife</td>\n",
       "      <td>-68.76</td>\n",
       "      <td>-8.07</td>\n",
       "      <td>-23.24</td>\n",
       "      <td>-18.97</td>\n",
       "      <td>out of range</td>\n",
       "    </tr>\n",
       "    <tr>\n",
       "      <th>70</th>\n",
       "      <td>2021-12-27</td>\n",
       "      <td>Voi Technology GermanyGmbH, Ihr Einkauf bei Voi Technology Germany GmbH</td>\n",
       "      <td>-1.06</td>\n",
       "      <td>share_mobility_dl</td>\n",
       "      <td>miscellaneous</td>\n",
       "      <td>-42.35</td>\n",
       "      <td>-1.28</td>\n",
       "      <td>-11.55</td>\n",
       "      <td>-13.27</td>\n",
       "      <td>out of range</td>\n",
       "    </tr>\n",
       "    <tr>\n",
       "      <th>92</th>\n",
       "      <td>2021-12-15</td>\n",
       "      <td>Apple Services, Ihr Einkauf bei Apple Services</td>\n",
       "      <td>-89.99</td>\n",
       "      <td>movies_dl</td>\n",
       "      <td>dailylife</td>\n",
       "      <td>-43.46</td>\n",
       "      <td>0.00</td>\n",
       "      <td>-3.99</td>\n",
       "      <td>-6.82</td>\n",
       "      <td>out of range</td>\n",
       "    </tr>\n",
       "  </tbody>\n",
       "</table>\n",
       "</div>"
      ],
      "text/plain": [
       "   buchungsdatum  \\\n",
       "4     2022-01-18   \n",
       "14    2022-01-17   \n",
       "41    2022-01-04   \n",
       "70    2021-12-27   \n",
       "92    2021-12-15   \n",
       "\n",
       "                                                            buchungsdetails  \\\n",
       "4      Takeaway.com PaymentsB.V., Ihr Einkauf bei Takeaway.comPayments B.V.   \n",
       "14     Takeaway.com PaymentsB.V., Ihr Einkauf bei Takeaway.comPayments B.V.   \n",
       "41     Takeaway.com PaymentsB.V., Ihr Einkauf bei Takeaway.comPayments B.V.   \n",
       "70  Voi Technology GermanyGmbH, Ihr Einkauf bei Voi Technology Germany GmbH   \n",
       "92                           Apple Services, Ihr Einkauf bei Apple Services   \n",
       "\n",
       "    betrag_eur          scategory      mcategory  min_r  max_r  median   mean  \\\n",
       "4        -1.15   food_delivery_dl      dailylife -68.76  -8.07  -23.24 -18.97   \n",
       "14       -1.82   food_delivery_dl      dailylife -68.76  -8.07  -23.24 -18.97   \n",
       "41       -1.25   food_delivery_dl      dailylife -68.76  -8.07  -23.24 -18.97   \n",
       "70       -1.06  share_mobility_dl  miscellaneous -42.35  -1.28  -11.55 -13.27   \n",
       "92      -89.99          movies_dl      dailylife -43.46   0.00   -3.99  -6.82   \n",
       "\n",
       "           check  \n",
       "4   out of range  \n",
       "14  out of range  \n",
       "41  out of range  \n",
       "70  out of range  \n",
       "92  out of range  "
      ]
     },
     "execution_count": 58,
     "metadata": {},
     "output_type": "execute_result"
    }
   ],
   "source": [
    "# range checker for irregular transaction out of their own categories range\n",
    "(\n",
    "expenditures\n",
    "    .merge(sranges, how='left', left_on='scategory', right_on='scategory')\n",
    "    .assign(check = lambda x: np.where((x['betrag_eur'] < x['min_r']) | \n",
    "                                        (x['betrag_eur'] > x['max_r']), \n",
    "                                        f\"out of range\", \n",
    "                                        f\"in range\"))\n",
    "    .query('check == \"out of range\"')\n",
    ")[:5]"
   ]
  },
  {
   "cell_type": "code",
   "execution_count": 59,
   "id": "f92228e3-a48b-4e8b-ae77-0a2e013aa784",
   "metadata": {},
   "outputs": [
    {
     "data": {
      "text/plain": [
       "'In this transaction obversation, small expenditures were detected, mainly on food_delivery, \\nwhich can be interepreted as seperate transactions for tips and not as irregelar transactions. \\nSame goes for the amount on music purchase or shared mobility services (\"share_mobility_dl\").'"
      ]
     },
     "execution_count": 59,
     "metadata": {},
     "output_type": "execute_result"
    }
   ],
   "source": [
    "\"\"\"In this transaction obversation, small expenditures were detected, mainly on food_delivery, \n",
    "which can be interepreted as seperate transactions for tips and not as irregelar transactions. \n",
    "Same goes for the amount on music purchase or shared mobility services (\"share_mobility_dl\").\"\"\" "
   ]
  },
  {
   "cell_type": "code",
   "execution_count": 60,
   "id": "3014d65a-4098-4ef2-9dfc-96e360e1811b",
   "metadata": {},
   "outputs": [
    {
     "name": "stdout",
     "output_type": "stream",
     "text": [
      "Length of irregular expenditures: 5 \n",
      "\n"
     ]
    },
    {
     "data": {
      "text/html": [
       "<div>\n",
       "<style scoped>\n",
       "    .dataframe tbody tr th:only-of-type {\n",
       "        vertical-align: middle;\n",
       "    }\n",
       "\n",
       "    .dataframe tbody tr th {\n",
       "        vertical-align: top;\n",
       "    }\n",
       "\n",
       "    .dataframe thead th {\n",
       "        text-align: right;\n",
       "    }\n",
       "</style>\n",
       "<table border=\"1\" class=\"dataframe\">\n",
       "  <thead>\n",
       "    <tr style=\"text-align: right;\">\n",
       "      <th></th>\n",
       "      <th>buchungsdatum</th>\n",
       "      <th>buchungsdetails</th>\n",
       "      <th>betrag_eur</th>\n",
       "      <th>scategory</th>\n",
       "      <th>mcategory</th>\n",
       "      <th>min_r</th>\n",
       "      <th>max_r</th>\n",
       "      <th>median</th>\n",
       "      <th>mean</th>\n",
       "      <th>check</th>\n",
       "    </tr>\n",
       "  </thead>\n",
       "  <tbody>\n",
       "    <tr>\n",
       "      <th>92</th>\n",
       "      <td>2021-12-15</td>\n",
       "      <td>Apple Services, Ihr Einkauf bei Apple Services</td>\n",
       "      <td>-89.99</td>\n",
       "      <td>movies_dl</td>\n",
       "      <td>dailylife</td>\n",
       "      <td>-43.46</td>\n",
       "      <td>0.00</td>\n",
       "      <td>-3.99</td>\n",
       "      <td>-6.82</td>\n",
       "      <td>out of range</td>\n",
       "    </tr>\n",
       "    <tr>\n",
       "      <th>145</th>\n",
       "      <td>2021-11-24</td>\n",
       "      <td>iTunes and App Store,Ihr Einkauf bei iTunes and App Store</td>\n",
       "      <td>-14.99</td>\n",
       "      <td>music_dl</td>\n",
       "      <td>dailylife</td>\n",
       "      <td>-12.78</td>\n",
       "      <td>-1.06</td>\n",
       "      <td>-3.99</td>\n",
       "      <td>-4.37</td>\n",
       "      <td>out of range</td>\n",
       "    </tr>\n",
       "  </tbody>\n",
       "</table>\n",
       "</div>"
      ],
      "text/plain": [
       "    buchungsdatum                                            buchungsdetails  \\\n",
       "92     2021-12-15             Apple Services, Ihr Einkauf bei Apple Services   \n",
       "145    2021-11-24  iTunes and App Store,Ihr Einkauf bei iTunes and App Store   \n",
       "\n",
       "     betrag_eur  scategory  mcategory  min_r  max_r  median  mean  \\\n",
       "92       -89.99  movies_dl  dailylife -43.46   0.00   -3.99 -6.82   \n",
       "145      -14.99   music_dl  dailylife -12.78  -1.06   -3.99 -4.37   \n",
       "\n",
       "            check  \n",
       "92   out of range  \n",
       "145  out of range  "
      ]
     },
     "execution_count": 60,
     "metadata": {},
     "output_type": "execute_result"
    }
   ],
   "source": [
    "# small expenditures are detected on food_delivery, which are seperate tips and not as irregelar transactions\n",
    "# range checker for irregular transaction out of their own categories range and more positive then their avg.\n",
    "rangechecker = (\n",
    "expenditures\n",
    "    .merge(sranges, how='left', left_on='scategory', right_on='scategory')\n",
    "    .assign(check = lambda x: np.where((x['betrag_eur'] < x['min_r']) | \n",
    "                                        ((x['betrag_eur'] > x['max_r']) & \n",
    "                                         (x['betrag_eur'] < x['mean'])), \n",
    "                                        f\"out of range\", \n",
    "                                        f\"in range\"))\n",
    "    .query('check == \"out of range\"')\n",
    ")\n",
    "print(\"Length of irregular expenditures:\",len(rangechecker),\"\\n\")\n",
    "rangechecker[:2]"
   ]
  },
  {
   "cell_type": "code",
   "execution_count": 61,
   "id": "98331246-a213-451c-8ba6-2390b1614474",
   "metadata": {},
   "outputs": [],
   "source": [
    "expenditures = (\n",
    "expenditures\n",
    "    .merge(sranges, how='left', left_on='scategory', right_on='scategory')\n",
    "    .assign(check = lambda x: np.where((x['betrag_eur'] < x['min_r']) | \n",
    "                                        ((x['betrag_eur'] > x['max_r']) & \n",
    "                                         (x['betrag_eur'] < x['mean'])), \n",
    "                                        f\"out of range\", \n",
    "                                        f\"in range\"))\n",
    "    .query('check == \"in range\"')\n",
    ")\n",
    "expenditures.drop(['min_r', 'max_r', 'median', 'mean', 'check'], axis=1, inplace=True)"
   ]
  },
  {
   "cell_type": "code",
   "execution_count": 62,
   "id": "19d6d0a5-587a-4396-83de-291232b22912",
   "metadata": {},
   "outputs": [
    {
     "name": "stdout",
     "output_type": "stream",
     "text": [
      "Length of new regular expenditures: 241 \n",
      "\n"
     ]
    },
    {
     "data": {
      "text/html": [
       "<div>\n",
       "<style scoped>\n",
       "    .dataframe tbody tr th:only-of-type {\n",
       "        vertical-align: middle;\n",
       "    }\n",
       "\n",
       "    .dataframe tbody tr th {\n",
       "        vertical-align: top;\n",
       "    }\n",
       "\n",
       "    .dataframe thead th {\n",
       "        text-align: right;\n",
       "    }\n",
       "</style>\n",
       "<table border=\"1\" class=\"dataframe\">\n",
       "  <thead>\n",
       "    <tr style=\"text-align: right;\">\n",
       "      <th></th>\n",
       "      <th>buchungsdatum</th>\n",
       "      <th>buchungsdetails</th>\n",
       "      <th>betrag_eur</th>\n",
       "      <th>scategory</th>\n",
       "      <th>mcategory</th>\n",
       "    </tr>\n",
       "  </thead>\n",
       "  <tbody>\n",
       "    <tr>\n",
       "      <th>0</th>\n",
       "      <td>2022-01-21</td>\n",
       "      <td>Apple Services, Ihr Einkauf bei Apple Services</td>\n",
       "      <td>-0.69</td>\n",
       "      <td>movies_dl</td>\n",
       "      <td>dailylife</td>\n",
       "    </tr>\n",
       "    <tr>\n",
       "      <th>1</th>\n",
       "      <td>2022-01-19</td>\n",
       "      <td>Apple Services, Ihr Einkauf bei Apple Services</td>\n",
       "      <td>-0.99</td>\n",
       "      <td>movies_dl</td>\n",
       "      <td>dailylife</td>\n",
       "    </tr>\n",
       "  </tbody>\n",
       "</table>\n",
       "</div>"
      ],
      "text/plain": [
       "  buchungsdatum                                 buchungsdetails  betrag_eur  \\\n",
       "0    2022-01-21  Apple Services, Ihr Einkauf bei Apple Services       -0.69   \n",
       "1    2022-01-19  Apple Services, Ihr Einkauf bei Apple Services       -0.99   \n",
       "\n",
       "   scategory  mcategory  \n",
       "0  movies_dl  dailylife  \n",
       "1  movies_dl  dailylife  "
      ]
     },
     "execution_count": 62,
     "metadata": {},
     "output_type": "execute_result"
    }
   ],
   "source": [
    "print(\"Length of new regular expenditures:\",len(expenditures),\"\\n\")\n",
    "expenditures[:2]"
   ]
  },
  {
   "cell_type": "code",
   "execution_count": 63,
   "id": "4f23ce0c-2915-4036-82ed-44e22747ddec",
   "metadata": {},
   "outputs": [],
   "source": [
    "out_of_range_info = rangechecker[['buchungsdatum','buchungsdetails','betrag_eur']]\n",
    "out_of_range_info = out_of_range_info.assign(buchungsdetails = lambda x: x['buchungsdetails'].str[:25])"
   ]
  },
  {
   "cell_type": "code",
   "execution_count": 64,
   "id": "c55b5070-590f-48ab-971b-54fa6161dd93",
   "metadata": {},
   "outputs": [
    {
     "name": "stdout",
     "output_type": "stream",
     "text": [
      "The amount for irregular transactions on revenues are: 1 \n",
      "\n"
     ]
    },
    {
     "data": {
      "text/html": [
       "<div>\n",
       "<style scoped>\n",
       "    .dataframe tbody tr th:only-of-type {\n",
       "        vertical-align: middle;\n",
       "    }\n",
       "\n",
       "    .dataframe tbody tr th {\n",
       "        vertical-align: top;\n",
       "    }\n",
       "\n",
       "    .dataframe thead th {\n",
       "        text-align: right;\n",
       "    }\n",
       "</style>\n",
       "<table border=\"1\" class=\"dataframe\">\n",
       "  <thead>\n",
       "    <tr style=\"text-align: right;\">\n",
       "      <th></th>\n",
       "      <th>buchungsdatum</th>\n",
       "      <th>buchungsdetails</th>\n",
       "      <th>betrag_eur</th>\n",
       "      <th>scategory</th>\n",
       "      <th>mcategory</th>\n",
       "    </tr>\n",
       "  </thead>\n",
       "  <tbody>\n",
       "    <tr>\n",
       "      <th>28</th>\n",
       "      <td>2022-01-10</td>\n",
       "      <td>Referenz NOT PROVIDEDMIETE JANUAR 2022</td>\n",
       "      <td>385.00</td>\n",
       "      <td>revenue</td>\n",
       "      <td>revenue</td>\n",
       "    </tr>\n",
       "    <tr>\n",
       "      <th>49</th>\n",
       "      <td>2022-01-04</td>\n",
       "      <td>Referenz NOTPROVIDEDMiete Januar Erica Giraudo</td>\n",
       "      <td>410.00</td>\n",
       "      <td>revenue</td>\n",
       "      <td>revenue</td>\n",
       "    </tr>\n",
       "    <tr>\n",
       "      <th>75</th>\n",
       "      <td>2021-12-30</td>\n",
       "      <td>Referenz NOTPROVIDEDVerwendungszweckMiete</td>\n",
       "      <td>360.00</td>\n",
       "      <td>revenue</td>\n",
       "      <td>revenue</td>\n",
       "    </tr>\n",
       "    <tr>\n",
       "      <th>81</th>\n",
       "      <td>2021-12-28</td>\n",
       "      <td>Referenz ETE20551590853202112201821220001321VerwendungszweckENTGELTUEBERWEISUNG 12.2021</td>\n",
       "      <td>3134.22</td>\n",
       "      <td>revenue</td>\n",
       "      <td>revenue</td>\n",
       "    </tr>\n",
       "    <tr>\n",
       "      <th>85</th>\n",
       "      <td>2021-12-27</td>\n",
       "      <td>Referenz 000000009802VerwendungszweckMiete</td>\n",
       "      <td>483.44</td>\n",
       "      <td>revenue</td>\n",
       "      <td>revenue</td>\n",
       "    </tr>\n",
       "  </tbody>\n",
       "</table>\n",
       "</div>"
      ],
      "text/plain": [
       "   buchungsdatum  \\\n",
       "28    2022-01-10   \n",
       "49    2022-01-04   \n",
       "75    2021-12-30   \n",
       "81    2021-12-28   \n",
       "85    2021-12-27   \n",
       "\n",
       "                                                                            buchungsdetails  \\\n",
       "28                                                   Referenz NOT PROVIDEDMIETE JANUAR 2022   \n",
       "49                                           Referenz NOTPROVIDEDMiete Januar Erica Giraudo   \n",
       "75                                                Referenz NOTPROVIDEDVerwendungszweckMiete   \n",
       "81  Referenz ETE20551590853202112201821220001321VerwendungszweckENTGELTUEBERWEISUNG 12.2021   \n",
       "85                                               Referenz 000000009802VerwendungszweckMiete   \n",
       "\n",
       "    betrag_eur scategory mcategory  \n",
       "28      385.00   revenue   revenue  \n",
       "49      410.00   revenue   revenue  \n",
       "75      360.00   revenue   revenue  \n",
       "81     3134.22   revenue   revenue  \n",
       "85      483.44   revenue   revenue  "
      ]
     },
     "execution_count": 64,
     "metadata": {},
     "output_type": "execute_result"
    }
   ],
   "source": [
    "# similar procedure for revenues, where we consider all incomes which are .5x bigger then the revenue median.\n",
    "new_revenues = (\n",
    "revenues\n",
    "    .assign(check = lambda x: np.where((x['betrag_eur'] < (.5*revenues.median()[0])), \n",
    "                                           f\"out of range\", f\"in range\"))\n",
    "    .query('check == \"in range\"')\n",
    ")\n",
    "print(\"The amount for irregular transactions on revenues are:\",len(revenues)-len(new_revenues),\"\\n\")\n",
    "new_revenues.drop(['check'], axis=1, inplace=True)\n",
    "revenues = new_revenues\n",
    "revenues[:5]"
   ]
  },
  {
   "cell_type": "markdown",
   "id": "0c08c0a6-0358-40c1-b42f-26cd9171b81f",
   "metadata": {},
   "source": [
    "#### pop-up window for user"
   ]
  },
  {
   "cell_type": "code",
   "execution_count": 65,
   "id": "8409eca2-f595-421e-a53b-007b06ba6305",
   "metadata": {},
   "outputs": [],
   "source": [
    "# # inform user in a seperate window\n",
    "# from tkinter import *\n",
    "# if len(rangechecker) > 0: \n",
    "#     root = Tk() \n",
    "#     a = Label(root, \n",
    "#               text = \"There have been some irregular transactions detected, which\"\n",
    "#               +\"\\n doesn't fit to your regular beahviour:\\n\\n\"+str(out_of_range_info)\n",
    "#               +\"\"\"\n",
    "#                 ──────────▀█───────────────────▀█─\n",
    "#                 ──────────▄█───────────────────▄█─\n",
    "#                 ──█████████▀───────────█████████▀─\n",
    "#                 ───▄██████▄─────────────▄██████▄──\n",
    "#                 ─▄██▀────▀██▄─────────▄██▀────▀██▄\n",
    "#                 ─██────────██─────────██────────██\n",
    "#                 ─██───██───██─────────██───██───██\n",
    "#                 ─██────────██─────────██────────██\n",
    "#                 ──██▄────▄██───────────██▄────▄██─\n",
    "#                 ───▀██████▀─────────────▀██████▀──\"\"\",\n",
    "#               height=20, width=50)\n",
    "#     a.config(font=('Helvatical bold',32))\n",
    "#     a.pack() \n",
    "#     root.mainloop()\n",
    "# else:\n",
    "#     root = Tk() \n",
    "#     a = Label(root, \n",
    "#               text = (\"No irregular transactions have been spoted! :-) \"),\n",
    "#               height=20, width=50) \n",
    "#     a.config(font=('Helvatical bold',32))\n",
    "#     a.pack() \n",
    "#     root.mainloop()"
   ]
  },
  {
   "cell_type": "markdown",
   "id": "5927a069-aa2d-4de9-96c5-7da4d022b160",
   "metadata": {},
   "source": [
    "### ? boxplots for all sub categories"
   ]
  },
  {
   "cell_type": "code",
   "execution_count": 66,
   "id": "26309984-4fe5-40e7-ab78-b2312e42f3d4",
   "metadata": {},
   "outputs": [],
   "source": [
    "# import numpy as np\n",
    "# from scipy.stats import norm\n",
    "# import matplotlib.pyplot as plt\n",
    "\n",
    "# plt.rcParams[\"figure.figsize\"] = [12, 2.50]\n",
    "# plt.rcParams[\"figure.autolayout\"] = True\n",
    "\n",
    "# for i in range(len(arr)):\n",
    "#     data = expenditures.query(f'scategory == @arr[{i}]')[['betrag_eur']]\n",
    "#     mu, std = norm.fit(data)\n",
    "#     plt.hist(data, bins=50, width=1, density=True, alpha=0.6, color='g', edgecolor='grey')\n",
    "\n",
    "#     xmin, xmax = plt.xlim()\n",
    "#     x = np.linspace(xmin, xmax, 100)\n",
    "#     p = norm.pdf(x, mu, std)\n",
    "\n",
    "#     plt.plot(x, p, 'k', linewidth=2)\n",
    "#     title = arr[i]+\", mean = {:.2f} and std = {:.2f}\".format(mu, std)\n",
    "#     plt.title(title)\n",
    "#     plt.show()"
   ]
  },
  {
   "cell_type": "markdown",
   "id": "45780255-aeb0-48ba-8174-739b69ce4acf",
   "metadata": {},
   "source": [
    "## identify main income"
   ]
  },
  {
   "cell_type": "code",
   "execution_count": 67,
   "id": "c2f68040-8418-44eb-96c6-6a8113948f3c",
   "metadata": {},
   "outputs": [
    {
     "data": {
      "image/png": "[encoded data removed]",
      "text/plain": [
       "<Figure size 432x288 with 1 Axes>"
      ]
     },
     "metadata": {
      "needs_background": "light"
     },
     "output_type": "display_data"
    },
    {
     "data": {
      "image/png": "[encoded data removed]",
      "text/plain": [
       "<Figure size 432x288 with 1 Axes>"
      ]
     },
     "metadata": {
      "needs_background": "light"
     },
     "output_type": "display_data"
    }
   ],
   "source": [
    "import numpy as np\n",
    "from scipy.stats import norm\n",
    "import matplotlib.pyplot as plt\n",
    "\n",
    "data = revenues['betrag_eur']\n",
    "mu, std = norm.fit(data)\n",
    "plt.hist(data, bins=50, density=True, alpha=0.8, color='g')\n",
    "\n",
    "xmin, xmax = plt.xlim()\n",
    "x = np.linspace(xmin, xmax, 100)\n",
    "p = norm.pdf(x, mu, std)\n",
    "\n",
    "plt.plot(x, p, 'k', linewidth=2)\n",
    "title = \"Revnues mean = {:.2f} and std = {:.2f}\".format(mu, std)\n",
    "plt.title(title)\n",
    "plt.show()\n",
    "\n",
    "x = np.arange((data.mean()-3*data.std()), (data.mean()+3*data.std()), 1)\n",
    "y = norm.pdf(x,data.std(), data.mean())\n",
    "\n",
    "fig, ax = plt.subplots(figsize=(6,4))\n",
    "ax.plot(x,y, color=\"g\")\n",
    "\n",
    "ax.set_title('Normal gaussian curve for revenues')\n",
    "plt.style.use('seaborn-whitegrid')\n",
    "plt.show()"
   ]
  },
  {
   "cell_type": "code",
   "execution_count": 68,
   "id": "258b3563-918e-46de-8275-c625ba3dd0ff",
   "metadata": {},
   "outputs": [
    {
     "data": {
      "text/html": [
       "<div>\n",
       "<style scoped>\n",
       "    .dataframe tbody tr th:only-of-type {\n",
       "        vertical-align: middle;\n",
       "    }\n",
       "\n",
       "    .dataframe tbody tr th {\n",
       "        vertical-align: top;\n",
       "    }\n",
       "\n",
       "    .dataframe thead th {\n",
       "        text-align: right;\n",
       "    }\n",
       "</style>\n",
       "<table border=\"1\" class=\"dataframe\">\n",
       "  <thead>\n",
       "    <tr style=\"text-align: right;\">\n",
       "      <th></th>\n",
       "      <th>buchungsdatum</th>\n",
       "      <th>buchungsdetails</th>\n",
       "      <th>betrag_eur</th>\n",
       "      <th>scategory</th>\n",
       "      <th>mcategory</th>\n",
       "    </tr>\n",
       "  </thead>\n",
       "  <tbody>\n",
       "    <tr>\n",
       "      <th>28</th>\n",
       "      <td>2022-01-10</td>\n",
       "      <td>Referenz NOT PROVIDEDMIETE JANUAR 2022</td>\n",
       "      <td>385.0</td>\n",
       "      <td>revenue</td>\n",
       "      <td>revenue</td>\n",
       "    </tr>\n",
       "    <tr>\n",
       "      <th>49</th>\n",
       "      <td>2022-01-04</td>\n",
       "      <td>Referenz NOTPROVIDEDMiete Januar Erica Giraudo</td>\n",
       "      <td>410.0</td>\n",
       "      <td>revenue</td>\n",
       "      <td>revenue</td>\n",
       "    </tr>\n",
       "  </tbody>\n",
       "</table>\n",
       "</div>"
      ],
      "text/plain": [
       "   buchungsdatum                                 buchungsdetails  betrag_eur  \\\n",
       "28    2022-01-10          Referenz NOT PROVIDEDMIETE JANUAR 2022       385.0   \n",
       "49    2022-01-04  Referenz NOTPROVIDEDMiete Januar Erica Giraudo       410.0   \n",
       "\n",
       "   scategory mcategory  \n",
       "28   revenue   revenue  \n",
       "49   revenue   revenue  "
      ]
     },
     "execution_count": 68,
     "metadata": {},
     "output_type": "execute_result"
    }
   ],
   "source": [
    "revenues[:2]"
   ]
  },
  {
   "cell_type": "code",
   "execution_count": 69,
   "id": "c362ac39-0576-4a57-83e8-7419e09d5c59",
   "metadata": {},
   "outputs": [
    {
     "name": "stdout",
     "output_type": "stream",
     "text": [
      "The length of both table are equal: 16 transactions.\n"
     ]
    },
    {
     "data": {
      "text/html": [
       "<div>\n",
       "<style scoped>\n",
       "    .dataframe tbody tr th:only-of-type {\n",
       "        vertical-align: middle;\n",
       "    }\n",
       "\n",
       "    .dataframe tbody tr th {\n",
       "        vertical-align: top;\n",
       "    }\n",
       "\n",
       "    .dataframe thead th {\n",
       "        text-align: right;\n",
       "    }\n",
       "</style>\n",
       "<table border=\"1\" class=\"dataframe\">\n",
       "  <thead>\n",
       "    <tr style=\"text-align: right;\">\n",
       "      <th></th>\n",
       "      <th>buchungsdatum</th>\n",
       "      <th>buchungsdetails</th>\n",
       "      <th>betrag_eur</th>\n",
       "      <th>scategory</th>\n",
       "      <th>mcategory</th>\n",
       "      <th>wertstellung</th>\n",
       "      <th>umsatzart</th>\n",
       "      <th>auftraggeber</th>\n",
       "      <th>empfaenger</th>\n",
       "      <th>saldo</th>\n",
       "    </tr>\n",
       "  </thead>\n",
       "  <tbody>\n",
       "    <tr>\n",
       "      <th>28</th>\n",
       "      <td>2022-01-10</td>\n",
       "      <td>Referenz NOT PROVIDEDMIETE JANUAR 2022</td>\n",
       "      <td>385.0</td>\n",
       "      <td>revenue</td>\n",
       "      <td>revenue</td>\n",
       "      <td>2022-01-10</td>\n",
       "      <td>Gutschrift</td>\n",
       "      <td>MARIA GONZALEZ GARCIA</td>\n",
       "      <td>Rias Nazary</td>\n",
       "      <td>10829.54</td>\n",
       "    </tr>\n",
       "    <tr>\n",
       "      <th>49</th>\n",
       "      <td>2022-01-04</td>\n",
       "      <td>Referenz NOTPROVIDEDMiete Januar Erica Giraudo</td>\n",
       "      <td>410.0</td>\n",
       "      <td>revenue</td>\n",
       "      <td>revenue</td>\n",
       "      <td>2022-01-04</td>\n",
       "      <td>Gutschrift</td>\n",
       "      <td>ERICA GIRAUDO</td>\n",
       "      <td>Rias Nazary</td>\n",
       "      <td>11198.61</td>\n",
       "    </tr>\n",
       "  </tbody>\n",
       "</table>\n",
       "</div>"
      ],
      "text/plain": [
       "   buchungsdatum                                 buchungsdetails  betrag_eur  \\\n",
       "28    2022-01-10          Referenz NOT PROVIDEDMIETE JANUAR 2022       385.0   \n",
       "49    2022-01-04  Referenz NOTPROVIDEDMiete Januar Erica Giraudo       410.0   \n",
       "\n",
       "   scategory mcategory wertstellung   umsatzart           auftraggeber  \\\n",
       "28   revenue   revenue   2022-01-10  Gutschrift  MARIA GONZALEZ GARCIA   \n",
       "49   revenue   revenue   2022-01-04  Gutschrift          ERICA GIRAUDO   \n",
       "\n",
       "     empfaenger     saldo  \n",
       "28  Rias Nazary  10829.54  \n",
       "49  Rias Nazary  11198.61  "
      ]
     },
     "execution_count": 69,
     "metadata": {},
     "output_type": "execute_result"
    }
   ],
   "source": [
    "temp = pd.merge(revenues, transactions)\n",
    "temp.set_index(revenues.index,inplace=True)\n",
    "if len(temp) == len(revenues):\n",
    "    print(\"The length of both table are equal:\",len(temp),\"transactions.\")\n",
    "temp[:2]"
   ]
  },
  {
   "cell_type": "code",
   "execution_count": 70,
   "id": "6ad4470d-bff5-485c-8b3b-4b48c3222eb0",
   "metadata": {},
   "outputs": [
    {
     "name": "stdout",
     "output_type": "stream",
     "text": [
      " Seems like your employer is:\n",
      "\n",
      "    mypegasus-Transfer-GmbH .\n",
      "\n",
      " Further calculations will be made with your average income of:\n",
      "\n",
      "    3134.22  Euro\n",
      "\n",
      ".\n"
     ]
    }
   ],
   "source": [
    "employer = (\n",
    "temp\n",
    "    [temp['betrag_eur'] > temp['betrag_eur'].mean()]\n",
    "    .sort_values(['betrag_eur'],ascending=False)[['auftraggeber']]\n",
    "    .iat[0,0]\n",
    ")\n",
    "income = temp.query('auftraggeber == @employer')[['betrag_eur']].mean()[0]\n",
    "\n",
    "print(\" Seems like your employer is:\\n\\n   \",employer,\n",
    "      \".\\n\\n Further calculations will be made with your average income of:\\n\\n   \",\n",
    "      income,\" Euro\\n\\n.\")"
   ]
  },
  {
   "cell_type": "code",
   "execution_count": 71,
   "id": "97b252fc-7a4d-4ac3-8d36-f170ff838917",
   "metadata": {},
   "outputs": [],
   "source": [
    "# import sys\n",
    "# import time\n",
    "# def delay_print(s):\n",
    "#     for c in s:\n",
    "#         sys.stdout.write(c)\n",
    "#         sys.stdout.flush()\n",
    "#         time.sleep(0.05)\n",
    "# delay_print(\" Seems like your employer is:\\n\\n\\n\\n                                  \"\n",
    "#             +employer+\".\\n\\n\\n\\n Further calculations will be made with this income.\")"
   ]
  },
  {
   "cell_type": "markdown",
   "id": "56e28164-5cbe-4596-9900-cc760b061de1",
   "metadata": {},
   "source": [
    "## monthly overviews"
   ]
  },
  {
   "cell_type": "code",
   "execution_count": 72,
   "id": "bb175292-4ef7-4bf7-96b2-36661be926e1",
   "metadata": {},
   "outputs": [
    {
     "name": "stdout",
     "output_type": "stream",
     "text": [
      "Your average income of 3134.22 Euro makes 84.44 % of your overall revenue. \n",
      "That means, that 16.0 % are from different money source(s).\n"
     ]
    }
   ],
   "source": [
    "# Since there are more then 1 revenue type, we can also show the total revenue per month\n",
    "mon_rev = (\n",
    "revenues\n",
    "    .assign(year = revenues['buchungsdatum'].dt.strftime('%Y'), \n",
    "           month = revenues['buchungsdatum'].dt.strftime('%b'))\n",
    "    .groupby(['year','month'])\n",
    "    .agg({'betrag_eur':'sum'})\n",
    "    .sort_values(['year'], ascending=False)\n",
    ")\n",
    "# Here we can see, that payments are not always paid in same time frames\n",
    "print(\"Your average income of\",income,\n",
    "      \"Euro makes\",round((income*100/mon_rev.mean()[0]),2),\"% of your overall revenue.\",\n",
    "     \"\\nThat means, that\",round(1-(income/mon_rev.mean()[0]),2)*100,\"% are from different money source(s).\")"
   ]
  },
  {
   "cell_type": "code",
   "execution_count": 73,
   "id": "88bc456c-207b-4a3f-b042-ca61885ffe8c",
   "metadata": {},
   "outputs": [
    {
     "data": {
      "text/html": [
       "<div>\n",
       "<style scoped>\n",
       "    .dataframe tbody tr th:only-of-type {\n",
       "        vertical-align: middle;\n",
       "    }\n",
       "\n",
       "    .dataframe tbody tr th {\n",
       "        vertical-align: top;\n",
       "    }\n",
       "\n",
       "    .dataframe thead th {\n",
       "        text-align: right;\n",
       "    }\n",
       "</style>\n",
       "<table border=\"1\" class=\"dataframe\">\n",
       "  <thead>\n",
       "    <tr style=\"text-align: right;\">\n",
       "      <th></th>\n",
       "      <th></th>\n",
       "      <th>betrag_eur</th>\n",
       "    </tr>\n",
       "    <tr>\n",
       "      <th>year</th>\n",
       "      <th>month</th>\n",
       "      <th></th>\n",
       "    </tr>\n",
       "  </thead>\n",
       "  <tbody>\n",
       "    <tr>\n",
       "      <th>2022</th>\n",
       "      <th>Jan</th>\n",
       "      <td>795.00</td>\n",
       "    </tr>\n",
       "    <tr>\n",
       "      <th rowspan=\"3\" valign=\"top\">2021</th>\n",
       "      <th>Dec</th>\n",
       "      <td>4772.66</td>\n",
       "    </tr>\n",
       "    <tr>\n",
       "      <th>Nov</th>\n",
       "      <td>5722.46</td>\n",
       "    </tr>\n",
       "    <tr>\n",
       "      <th>Oct</th>\n",
       "      <td>3556.32</td>\n",
       "    </tr>\n",
       "  </tbody>\n",
       "</table>\n",
       "</div>"
      ],
      "text/plain": [
       "            betrag_eur\n",
       "year month            \n",
       "2022 Jan        795.00\n",
       "2021 Dec       4772.66\n",
       "     Nov       5722.46\n",
       "     Oct       3556.32"
      ]
     },
     "execution_count": 73,
     "metadata": {},
     "output_type": "execute_result"
    }
   ],
   "source": [
    "mon_rev"
   ]
  },
  {
   "cell_type": "code",
   "execution_count": 74,
   "id": "bff650c9-0804-493d-a9cd-e6424cb1d532",
   "metadata": {},
   "outputs": [],
   "source": [
    "# # rate loop\n",
    "# def fx(a, b):\n",
    "#     test = []\n",
    "#     for i in range(len(a)):\n",
    "#         res = round(abs(a.iat[i,0] / b.iat[i,0]),2)*100\n",
    "#         # test = test.append(res)\n",
    "#         test.append(res)\n",
    "#     return test\n",
    "\n",
    "# fx(exp_monthly, rev_monthly)"
   ]
  },
  {
   "cell_type": "code",
   "execution_count": 152,
   "id": "78ea9411-4ce1-4d0d-8ed0-50aad90f89de",
   "metadata": {},
   "outputs": [],
   "source": [
    "mon_exp = (\n",
    "expenditures\n",
    "    .assign(year = expenditures['buchungsdatum'].dt.strftime('%Y'), \n",
    "           month = expenditures['buchungsdatum'].dt.strftime('%b'))\n",
    "    .groupby(['year','month','scategory','mcategory'])\n",
    "    .agg({'betrag_eur':'sum'})\n",
    "    .sort_values(['year', 'month'], ascending=False)\n",
    ")"
   ]
  },
  {
   "cell_type": "code",
   "execution_count": 153,
   "id": "91c71f52-2906-40eb-b261-3cf23c567602",
   "metadata": {},
   "outputs": [
    {
     "name": "stdout",
     "output_type": "stream",
     "text": [
      "length: 59\n"
     ]
    },
    {
     "data": {
      "text/html": [
       "<div>\n",
       "<style scoped>\n",
       "    .dataframe tbody tr th:only-of-type {\n",
       "        vertical-align: middle;\n",
       "    }\n",
       "\n",
       "    .dataframe tbody tr th {\n",
       "        vertical-align: top;\n",
       "    }\n",
       "\n",
       "    .dataframe thead th {\n",
       "        text-align: right;\n",
       "    }\n",
       "</style>\n",
       "<table border=\"1\" class=\"dataframe\">\n",
       "  <thead>\n",
       "    <tr style=\"text-align: right;\">\n",
       "      <th></th>\n",
       "      <th></th>\n",
       "      <th></th>\n",
       "      <th></th>\n",
       "      <th>betrag_eur</th>\n",
       "      <th>rate</th>\n",
       "      <th>restrate</th>\n",
       "    </tr>\n",
       "    <tr>\n",
       "      <th>year</th>\n",
       "      <th>month</th>\n",
       "      <th>scategory</th>\n",
       "      <th>mcategory</th>\n",
       "      <th></th>\n",
       "      <th></th>\n",
       "      <th></th>\n",
       "    </tr>\n",
       "  </thead>\n",
       "  <tbody>\n",
       "    <tr>\n",
       "      <th rowspan=\"14\" valign=\"top\">2022</th>\n",
       "      <th rowspan=\"14\" valign=\"top\">Jan</th>\n",
       "      <th>building_savings</th>\n",
       "      <th>miscellaneous</th>\n",
       "      <td>-250.00</td>\n",
       "      <td>7.98</td>\n",
       "      <td>92.02</td>\n",
       "    </tr>\n",
       "    <tr>\n",
       "      <th>food_delivery_dl</th>\n",
       "      <th>dailylife</th>\n",
       "      <td>-156.18</td>\n",
       "      <td>4.98</td>\n",
       "      <td>95.02</td>\n",
       "    </tr>\n",
       "    <tr>\n",
       "      <th>grocery</th>\n",
       "      <th>grocery</th>\n",
       "      <td>-491.74</td>\n",
       "      <td>15.69</td>\n",
       "      <td>84.31</td>\n",
       "    </tr>\n",
       "    <tr>\n",
       "      <th>holiday</th>\n",
       "      <th>miscellaneous</th>\n",
       "      <td>-250.00</td>\n",
       "      <td>7.98</td>\n",
       "      <td>92.02</td>\n",
       "    </tr>\n",
       "    <tr>\n",
       "      <th>mobility</th>\n",
       "      <th>miscellaneous</th>\n",
       "      <td>-2.55</td>\n",
       "      <td>0.08</td>\n",
       "      <td>99.92</td>\n",
       "    </tr>\n",
       "    <tr>\n",
       "      <th>movies_dl</th>\n",
       "      <th>dailylife</th>\n",
       "      <td>-127.33</td>\n",
       "      <td>4.06</td>\n",
       "      <td>95.94</td>\n",
       "    </tr>\n",
       "    <tr>\n",
       "      <th>other_dl</th>\n",
       "      <th>dailylife</th>\n",
       "      <td>-258.31</td>\n",
       "      <td>8.24</td>\n",
       "      <td>91.76</td>\n",
       "    </tr>\n",
       "    <tr>\n",
       "      <th>pension_parents</th>\n",
       "      <th>miscellaneous</th>\n",
       "      <td>-50.00</td>\n",
       "      <td>1.60</td>\n",
       "      <td>98.40</td>\n",
       "    </tr>\n",
       "    <tr>\n",
       "      <th>rent</th>\n",
       "      <th>rent</th>\n",
       "      <td>-1729.48</td>\n",
       "      <td>55.18</td>\n",
       "      <td>44.82</td>\n",
       "    </tr>\n",
       "    <tr>\n",
       "      <th>reserve</th>\n",
       "      <th>miscellaneous</th>\n",
       "      <td>-50.00</td>\n",
       "      <td>1.60</td>\n",
       "      <td>98.40</td>\n",
       "    </tr>\n",
       "    <tr>\n",
       "      <th>savings_plan</th>\n",
       "      <th>savings_plan</th>\n",
       "      <td>-250.00</td>\n",
       "      <td>7.98</td>\n",
       "      <td>92.02</td>\n",
       "    </tr>\n",
       "    <tr>\n",
       "      <th>share_mobility_dl</th>\n",
       "      <th>miscellaneous</th>\n",
       "      <td>-101.67</td>\n",
       "      <td>3.24</td>\n",
       "      <td>96.76</td>\n",
       "    </tr>\n",
       "    <tr>\n",
       "      <th>smartphone_dl</th>\n",
       "      <th>dailylife</th>\n",
       "      <td>-14.66</td>\n",
       "      <td>0.47</td>\n",
       "      <td>99.53</td>\n",
       "    </tr>\n",
       "    <tr>\n",
       "      <th>uncategorized</th>\n",
       "      <th>uncategorized</th>\n",
       "      <td>-146.00</td>\n",
       "      <td>4.66</td>\n",
       "      <td>95.34</td>\n",
       "    </tr>\n",
       "    <tr>\n",
       "      <th rowspan=\"6\" valign=\"top\">2021</th>\n",
       "      <th rowspan=\"6\" valign=\"top\">Oct</th>\n",
       "      <th>cinema_dl</th>\n",
       "      <th>dailylife</th>\n",
       "      <td>-21.98</td>\n",
       "      <td>0.70</td>\n",
       "      <td>99.30</td>\n",
       "    </tr>\n",
       "    <tr>\n",
       "      <th>donation</th>\n",
       "      <th>miscellaneous</th>\n",
       "      <td>-20.00</td>\n",
       "      <td>0.64</td>\n",
       "      <td>99.36</td>\n",
       "    </tr>\n",
       "    <tr>\n",
       "      <th>food_delivery_dl</th>\n",
       "      <th>dailylife</th>\n",
       "      <td>-106.08</td>\n",
       "      <td>3.38</td>\n",
       "      <td>96.62</td>\n",
       "    </tr>\n",
       "    <tr>\n",
       "      <th>grocery</th>\n",
       "      <th>grocery</th>\n",
       "      <td>-324.50</td>\n",
       "      <td>10.35</td>\n",
       "      <td>89.65</td>\n",
       "    </tr>\n",
       "    <tr>\n",
       "      <th>mobility</th>\n",
       "      <th>miscellaneous</th>\n",
       "      <td>-18.79</td>\n",
       "      <td>0.60</td>\n",
       "      <td>99.40</td>\n",
       "    </tr>\n",
       "    <tr>\n",
       "      <th>music_dl</th>\n",
       "      <th>dailylife</th>\n",
       "      <td>-53.86</td>\n",
       "      <td>1.72</td>\n",
       "      <td>98.28</td>\n",
       "    </tr>\n",
       "  </tbody>\n",
       "</table>\n",
       "</div>"
      ],
      "text/plain": [
       "                                            betrag_eur   rate  restrate\n",
       "year month scategory         mcategory                                 \n",
       "2022 Jan   building_savings  miscellaneous     -250.00   7.98     92.02\n",
       "           food_delivery_dl  dailylife         -156.18   4.98     95.02\n",
       "           grocery           grocery           -491.74  15.69     84.31\n",
       "           holiday           miscellaneous     -250.00   7.98     92.02\n",
       "           mobility          miscellaneous       -2.55   0.08     99.92\n",
       "           movies_dl         dailylife         -127.33   4.06     95.94\n",
       "           other_dl          dailylife         -258.31   8.24     91.76\n",
       "           pension_parents   miscellaneous      -50.00   1.60     98.40\n",
       "           rent              rent             -1729.48  55.18     44.82\n",
       "           reserve           miscellaneous      -50.00   1.60     98.40\n",
       "           savings_plan      savings_plan      -250.00   7.98     92.02\n",
       "           share_mobility_dl miscellaneous     -101.67   3.24     96.76\n",
       "           smartphone_dl     dailylife          -14.66   0.47     99.53\n",
       "           uncategorized     uncategorized     -146.00   4.66     95.34\n",
       "2021 Oct   cinema_dl         dailylife          -21.98   0.70     99.30\n",
       "           donation          miscellaneous      -20.00   0.64     99.36\n",
       "           food_delivery_dl  dailylife         -106.08   3.38     96.62\n",
       "           grocery           grocery           -324.50  10.35     89.65\n",
       "           mobility          miscellaneous      -18.79   0.60     99.40\n",
       "           music_dl          dailylife          -53.86   1.72     98.28"
      ]
     },
     "execution_count": 153,
     "metadata": {},
     "output_type": "execute_result"
    }
   ],
   "source": [
    "b = []\n",
    "\n",
    "def rate_builder(a):\n",
    "    for i in range(len(a)):\n",
    "        result = {}\n",
    "        result['rate'] = round((abs(a[['betrag_eur']].iat[i,0])*100/income),2)\n",
    "        result['restrate'] = round((1-(abs(a[['betrag_eur']].iat[i,0])/income))*100,2)\n",
    "        b.append(result)\n",
    "    return b\n",
    "\n",
    "temp = pd.DataFrame(rate_builder(mon_exp))\n",
    "temp.set_index(mon_exp.index,inplace=True)\n",
    "mon_exp = mon_exp.join(temp)\n",
    "print(\"length:\",len(mon_exp))\n",
    "mon_exp[:20]"
   ]
  },
  {
   "cell_type": "code",
   "execution_count": 155,
   "id": "456a1d58-2407-4912-b99e-4cfd362504c7",
   "metadata": {},
   "outputs": [
    {
     "data": {
      "text/html": [
       "<div>\n",
       "<style scoped>\n",
       "    .dataframe tbody tr th:only-of-type {\n",
       "        vertical-align: middle;\n",
       "    }\n",
       "\n",
       "    .dataframe tbody tr th {\n",
       "        vertical-align: top;\n",
       "    }\n",
       "\n",
       "    .dataframe thead th {\n",
       "        text-align: right;\n",
       "    }\n",
       "</style>\n",
       "<table border=\"1\" class=\"dataframe\">\n",
       "  <thead>\n",
       "    <tr style=\"text-align: right;\">\n",
       "      <th></th>\n",
       "      <th>year</th>\n",
       "      <th>month</th>\n",
       "      <th>mcategory</th>\n",
       "      <th>betrag_eur</th>\n",
       "      <th>rate</th>\n",
       "      <th>restrate</th>\n",
       "    </tr>\n",
       "  </thead>\n",
       "  <tbody>\n",
       "    <tr>\n",
       "      <th>0</th>\n",
       "      <td>2022</td>\n",
       "      <td>Jan</td>\n",
       "      <td>dailylife</td>\n",
       "      <td>-556.48</td>\n",
       "      <td>17.75</td>\n",
       "      <td>382.25</td>\n",
       "    </tr>\n",
       "    <tr>\n",
       "      <th>1</th>\n",
       "      <td>2022</td>\n",
       "      <td>Jan</td>\n",
       "      <td>grocery</td>\n",
       "      <td>-491.74</td>\n",
       "      <td>15.69</td>\n",
       "      <td>84.31</td>\n",
       "    </tr>\n",
       "    <tr>\n",
       "      <th>2</th>\n",
       "      <td>2022</td>\n",
       "      <td>Jan</td>\n",
       "      <td>miscellaneous</td>\n",
       "      <td>-704.22</td>\n",
       "      <td>22.48</td>\n",
       "      <td>577.52</td>\n",
       "    </tr>\n",
       "    <tr>\n",
       "      <th>3</th>\n",
       "      <td>2022</td>\n",
       "      <td>Jan</td>\n",
       "      <td>rent</td>\n",
       "      <td>-1729.48</td>\n",
       "      <td>55.18</td>\n",
       "      <td>44.82</td>\n",
       "    </tr>\n",
       "    <tr>\n",
       "      <th>4</th>\n",
       "      <td>2022</td>\n",
       "      <td>Jan</td>\n",
       "      <td>savings_plan</td>\n",
       "      <td>-250.00</td>\n",
       "      <td>7.98</td>\n",
       "      <td>92.02</td>\n",
       "    </tr>\n",
       "  </tbody>\n",
       "</table>\n",
       "</div>"
      ],
      "text/plain": [
       "   year month      mcategory  betrag_eur   rate  restrate\n",
       "0  2022   Jan      dailylife     -556.48  17.75    382.25\n",
       "1  2022   Jan        grocery     -491.74  15.69     84.31\n",
       "2  2022   Jan  miscellaneous     -704.22  22.48    577.52\n",
       "3  2022   Jan           rent    -1729.48  55.18     44.82\n",
       "4  2022   Jan   savings_plan     -250.00   7.98     92.02"
      ]
     },
     "execution_count": 155,
     "metadata": {},
     "output_type": "execute_result"
    }
   ],
   "source": [
    "mon_expm = (\n",
    "mon_exp\n",
    "    .groupby(['year','month','mcategory'])\n",
    "    .agg({'betrag_eur':'sum', 'rate':'sum', 'restrate':'sum'})\n",
    "    .sort_values(['year', 'month'], ascending=False)\n",
    "    .reset_index()\n",
    ")\n",
    "mon_expm[:5]"
   ]
  },
  {
   "cell_type": "code",
   "execution_count": 78,
   "id": "282e2900-9691-46ed-a470-b99d8ca240a6",
   "metadata": {},
   "outputs": [],
   "source": [
    "# from datetime import datetime\n",
    "\n",
    "# year_list = list(range(0, 11))\n",
    "# years = []\n",
    "\n",
    "# for i in year_list:\n",
    "#     result = (datetime.today().year)+i\n",
    "#     years.append(result)\n",
    "\n",
    "# type(years)"
   ]
  },
  {
   "cell_type": "code",
   "execution_count": 79,
   "id": "dbbfd000-9428-41fa-892f-c28bd9e62b79",
   "metadata": {},
   "outputs": [],
   "source": [
    "# import calendar\n",
    "\n",
    "# months = [calendar.month_name[i] for i in range(1,13)]\n",
    "# type(months)"
   ]
  },
  {
   "cell_type": "code",
   "execution_count": 80,
   "id": "bb3ec2b6-1afd-445c-aed5-4e491ca65c04",
   "metadata": {},
   "outputs": [],
   "source": [
    "# years[0]"
   ]
  },
  {
   "cell_type": "code",
   "execution_count": 81,
   "id": "9a35b84f-4af9-44f2-ab70-7bf4eafe3ba9",
   "metadata": {},
   "outputs": [],
   "source": [
    "# months[0]"
   ]
  },
  {
   "cell_type": "code",
   "execution_count": 82,
   "id": "701952e6-a06d-4fb2-8aa1-551e68c0a6a4",
   "metadata": {},
   "outputs": [
    {
     "data": {
      "text/html": [
       "<div>\n",
       "<style scoped>\n",
       "    .dataframe tbody tr th:only-of-type {\n",
       "        vertical-align: middle;\n",
       "    }\n",
       "\n",
       "    .dataframe tbody tr th {\n",
       "        vertical-align: top;\n",
       "    }\n",
       "\n",
       "    .dataframe thead th {\n",
       "        text-align: right;\n",
       "    }\n",
       "</style>\n",
       "<table border=\"1\" class=\"dataframe\">\n",
       "  <thead>\n",
       "    <tr style=\"text-align: right;\">\n",
       "      <th></th>\n",
       "      <th>buchungsdatum</th>\n",
       "      <th>buchungsdetails</th>\n",
       "      <th>betrag_eur</th>\n",
       "      <th>scategory</th>\n",
       "      <th>mcategory</th>\n",
       "    </tr>\n",
       "  </thead>\n",
       "  <tbody>\n",
       "    <tr>\n",
       "      <th>28</th>\n",
       "      <td>2022-01-10</td>\n",
       "      <td>Referenz NOT PROVIDEDMIETE JANUAR 2022</td>\n",
       "      <td>385.00</td>\n",
       "      <td>revenue</td>\n",
       "      <td>revenue</td>\n",
       "    </tr>\n",
       "    <tr>\n",
       "      <th>49</th>\n",
       "      <td>2022-01-04</td>\n",
       "      <td>Referenz NOTPROVIDEDMiete Januar Erica Giraudo</td>\n",
       "      <td>410.00</td>\n",
       "      <td>revenue</td>\n",
       "      <td>revenue</td>\n",
       "    </tr>\n",
       "    <tr>\n",
       "      <th>75</th>\n",
       "      <td>2021-12-30</td>\n",
       "      <td>Referenz NOTPROVIDEDVerwendungszweckMiete</td>\n",
       "      <td>360.00</td>\n",
       "      <td>revenue</td>\n",
       "      <td>revenue</td>\n",
       "    </tr>\n",
       "    <tr>\n",
       "      <th>81</th>\n",
       "      <td>2021-12-28</td>\n",
       "      <td>Referenz ETE20551590853202112201821220001321VerwendungszweckENTGELTUEBERWEISUNG 12.2021</td>\n",
       "      <td>3134.22</td>\n",
       "      <td>revenue</td>\n",
       "      <td>revenue</td>\n",
       "    </tr>\n",
       "    <tr>\n",
       "      <th>85</th>\n",
       "      <td>2021-12-27</td>\n",
       "      <td>Referenz 000000009802VerwendungszweckMiete</td>\n",
       "      <td>483.44</td>\n",
       "      <td>revenue</td>\n",
       "      <td>revenue</td>\n",
       "    </tr>\n",
       "  </tbody>\n",
       "</table>\n",
       "</div>"
      ],
      "text/plain": [
       "   buchungsdatum  \\\n",
       "28    2022-01-10   \n",
       "49    2022-01-04   \n",
       "75    2021-12-30   \n",
       "81    2021-12-28   \n",
       "85    2021-12-27   \n",
       "\n",
       "                                                                            buchungsdetails  \\\n",
       "28                                                   Referenz NOT PROVIDEDMIETE JANUAR 2022   \n",
       "49                                           Referenz NOTPROVIDEDMiete Januar Erica Giraudo   \n",
       "75                                                Referenz NOTPROVIDEDVerwendungszweckMiete   \n",
       "81  Referenz ETE20551590853202112201821220001321VerwendungszweckENTGELTUEBERWEISUNG 12.2021   \n",
       "85                                               Referenz 000000009802VerwendungszweckMiete   \n",
       "\n",
       "    betrag_eur scategory mcategory  \n",
       "28      385.00   revenue   revenue  \n",
       "49      410.00   revenue   revenue  \n",
       "75      360.00   revenue   revenue  \n",
       "81     3134.22   revenue   revenue  \n",
       "85      483.44   revenue   revenue  "
      ]
     },
     "execution_count": 82,
     "metadata": {},
     "output_type": "execute_result"
    }
   ],
   "source": [
    "revenues.head()"
   ]
  },
  {
   "cell_type": "markdown",
   "id": "c50759b9-3d97-450c-b25c-4e92655622fe",
   "metadata": {},
   "source": [
    "## time"
   ]
  },
  {
   "cell_type": "code",
   "execution_count": 83,
   "id": "7aa752d9-8f64-4cb1-b201-466b58637805",
   "metadata": {},
   "outputs": [],
   "source": [
    "# import datetime\n",
    "\n",
    "# pastyear = datetime.date.today() - datetime.timedelta (days=365)\n",
    "# pasthalfyear = datetime.date.today() - datetime.timedelta (days=183)\n",
    "# pastquarter = datetime.date.today() - datetime.timedelta (days=90)\n",
    "# pastmonth = datetime.date.today() - datetime.timedelta (days=30)\n",
    "# today = datetime.date.today()"
   ]
  },
  {
   "cell_type": "code",
   "execution_count": 84,
   "id": "04bf97d9-8fb6-43bb-b8f3-3083e63717ef",
   "metadata": {},
   "outputs": [],
   "source": [
    "# from datetime import datetime\n",
    "# datetime.today().year"
   ]
  },
  {
   "cell_type": "code",
   "execution_count": 85,
   "id": "f47f19d5-8f68-4a71-b5d1-3a89e7251166",
   "metadata": {},
   "outputs": [],
   "source": [
    "# import datetime\n",
    "# mymonth = datetime.datetime.now().strftime(\"%B\")\n",
    "# mymonth"
   ]
  },
  {
   "cell_type": "code",
   "execution_count": 86,
   "id": "de528b5c-8123-4086-9286-6afda5876925",
   "metadata": {},
   "outputs": [],
   "source": [
    "# pip install python-dateutil"
   ]
  },
  {
   "cell_type": "code",
   "execution_count": 87,
   "id": "e03adf56-b408-4aaa-ace9-6938e5af26ad",
   "metadata": {},
   "outputs": [],
   "source": [
    "from datetime import datetime\n",
    "from dateutil.relativedelta import relativedelta\n",
    "\n",
    "# Returns the same day of last month if possible otherwise end of month\n",
    "# (eg: March 31st->29th Feb an July 31st->June 30th)\n",
    "last_1m = datetime.now() - relativedelta(months=1)\n",
    "last_2m = datetime.now() - relativedelta(months=2)\n",
    "last_3m = datetime.now() - relativedelta(months=3)\n",
    "\n",
    "# Create string of month name and year...\n",
    "# lastmonthYear = format(last_month, '%B %Y')"
   ]
  },
  {
   "cell_type": "code",
   "execution_count": 88,
   "id": "3a154595-2216-4d58-96c0-4dc2b9758476",
   "metadata": {},
   "outputs": [],
   "source": [
    "last1m = format(last_1m, '%b')\n",
    "last2m = format(last_2m, '%b')\n",
    "last3m = format(last_3m, '%b')"
   ]
  },
  {
   "cell_type": "code",
   "execution_count": 89,
   "id": "8b04bf94-d6a4-479e-8268-94ffb44cb39f",
   "metadata": {},
   "outputs": [
    {
     "data": {
      "text/plain": [
       "'Jan'"
      ]
     },
     "execution_count": 89,
     "metadata": {},
     "output_type": "execute_result"
    }
   ],
   "source": [
    "last1m"
   ]
  },
  {
   "cell_type": "code",
   "execution_count": 90,
   "id": "a0d8d036-1bd7-49f5-98f7-087144c17350",
   "metadata": {},
   "outputs": [
    {
     "data": {
      "text/plain": [
       "'Dec'"
      ]
     },
     "execution_count": 90,
     "metadata": {},
     "output_type": "execute_result"
    }
   ],
   "source": [
    "last2m"
   ]
  },
  {
   "cell_type": "code",
   "execution_count": 91,
   "id": "01b5875c-5f7d-4eae-9945-ca95e6011401",
   "metadata": {},
   "outputs": [
    {
     "data": {
      "text/plain": [
       "'Nov'"
      ]
     },
     "execution_count": 91,
     "metadata": {},
     "output_type": "execute_result"
    }
   ],
   "source": [
    "last3m"
   ]
  },
  {
   "cell_type": "code",
   "execution_count": 92,
   "id": "f59caeeb-30aa-4e82-b41a-75cd1f000b7e",
   "metadata": {},
   "outputs": [
    {
     "data": {
      "text/plain": [
       "2022"
      ]
     },
     "execution_count": 92,
     "metadata": {},
     "output_type": "execute_result"
    }
   ],
   "source": [
    "datetime.today().year"
   ]
  },
  {
   "cell_type": "code",
   "execution_count": 93,
   "id": "9ce9207c-ed90-48a6-9d7b-9b6811217e97",
   "metadata": {},
   "outputs": [
    {
     "data": {
      "text/plain": [
       "'2022'"
      ]
     },
     "execution_count": 93,
     "metadata": {},
     "output_type": "execute_result"
    }
   ],
   "source": [
    "mon_expm[:1][['year']].iat[0,0]"
   ]
  },
  {
   "cell_type": "code",
   "execution_count": 94,
   "id": "3825ced0-e208-4cb9-a764-30f1a0072207",
   "metadata": {},
   "outputs": [
    {
     "data": {
      "text/plain": [
       "False"
      ]
     },
     "execution_count": 94,
     "metadata": {},
     "output_type": "execute_result"
    }
   ],
   "source": [
    "from datetime import datetime\n",
    "mon_expm[:1][['year']].iat[0,0] == datetime.today().year"
   ]
  },
  {
   "cell_type": "code",
   "execution_count": 135,
   "id": "6f67666b-5453-4793-94cd-b485e79a29ac",
   "metadata": {},
   "outputs": [],
   "source": [
    "from datetime import datetime\n",
    "\n",
    "mnumbers = mon_expm.query(f'month == \"{last1m}\"')\n",
    "qnumbers = mon_expm.query(f'month == \"{last1m}\" | month == \"{last2m}\" | month == \"{last3m}\"')"
   ]
  },
  {
   "cell_type": "code",
   "execution_count": 141,
   "id": "932ac8a3-a709-4056-9933-8c225c4033b7",
   "metadata": {},
   "outputs": [
    {
     "data": {
      "text/html": [
       "<div>\n",
       "<style scoped>\n",
       "    .dataframe tbody tr th:only-of-type {\n",
       "        vertical-align: middle;\n",
       "    }\n",
       "\n",
       "    .dataframe tbody tr th {\n",
       "        vertical-align: top;\n",
       "    }\n",
       "\n",
       "    .dataframe thead th {\n",
       "        text-align: right;\n",
       "    }\n",
       "</style>\n",
       "<table border=\"1\" class=\"dataframe\">\n",
       "  <thead>\n",
       "    <tr style=\"text-align: right;\">\n",
       "      <th></th>\n",
       "      <th>year</th>\n",
       "      <th>month</th>\n",
       "      <th>mcategory</th>\n",
       "      <th>betrag_eur</th>\n",
       "      <th>rate</th>\n",
       "    </tr>\n",
       "  </thead>\n",
       "  <tbody>\n",
       "    <tr>\n",
       "      <th>0</th>\n",
       "      <td>2022</td>\n",
       "      <td>Jan</td>\n",
       "      <td>dailylife</td>\n",
       "      <td>-556.48</td>\n",
       "      <td>17.75</td>\n",
       "    </tr>\n",
       "    <tr>\n",
       "      <th>1</th>\n",
       "      <td>2022</td>\n",
       "      <td>Jan</td>\n",
       "      <td>grocery</td>\n",
       "      <td>-491.74</td>\n",
       "      <td>15.69</td>\n",
       "    </tr>\n",
       "    <tr>\n",
       "      <th>2</th>\n",
       "      <td>2022</td>\n",
       "      <td>Jan</td>\n",
       "      <td>miscellaneous</td>\n",
       "      <td>-704.22</td>\n",
       "      <td>22.48</td>\n",
       "    </tr>\n",
       "    <tr>\n",
       "      <th>3</th>\n",
       "      <td>2022</td>\n",
       "      <td>Jan</td>\n",
       "      <td>rent</td>\n",
       "      <td>-1729.48</td>\n",
       "      <td>55.18</td>\n",
       "    </tr>\n",
       "    <tr>\n",
       "      <th>4</th>\n",
       "      <td>2022</td>\n",
       "      <td>Jan</td>\n",
       "      <td>savings_plan</td>\n",
       "      <td>-250.00</td>\n",
       "      <td>7.98</td>\n",
       "    </tr>\n",
       "    <tr>\n",
       "      <th>5</th>\n",
       "      <td>2022</td>\n",
       "      <td>Jan</td>\n",
       "      <td>uncategorized</td>\n",
       "      <td>-146.00</td>\n",
       "      <td>4.66</td>\n",
       "    </tr>\n",
       "  </tbody>\n",
       "</table>\n",
       "</div>"
      ],
      "text/plain": [
       "   year month      mcategory  betrag_eur   rate\n",
       "0  2022   Jan      dailylife     -556.48  17.75\n",
       "1  2022   Jan        grocery     -491.74  15.69\n",
       "2  2022   Jan  miscellaneous     -704.22  22.48\n",
       "3  2022   Jan           rent    -1729.48  55.18\n",
       "4  2022   Jan   savings_plan     -250.00   7.98\n",
       "5  2022   Jan  uncategorized     -146.00   4.66"
      ]
     },
     "execution_count": 141,
     "metadata": {},
     "output_type": "execute_result"
    }
   ],
   "source": [
    "mnumbers"
   ]
  },
  {
   "cell_type": "code",
   "execution_count": 146,
   "id": "1ae9ea88-1cfe-463e-88f9-0ce38258544f",
   "metadata": {},
   "outputs": [
    {
     "data": {
      "text/html": [
       "<div>\n",
       "<style scoped>\n",
       "    .dataframe tbody tr th:only-of-type {\n",
       "        vertical-align: middle;\n",
       "    }\n",
       "\n",
       "    .dataframe tbody tr th {\n",
       "        vertical-align: top;\n",
       "    }\n",
       "\n",
       "    .dataframe thead th {\n",
       "        text-align: right;\n",
       "    }\n",
       "</style>\n",
       "<table border=\"1\" class=\"dataframe\">\n",
       "  <thead>\n",
       "    <tr style=\"text-align: right;\">\n",
       "      <th></th>\n",
       "      <th>mcategory</th>\n",
       "      <th>rate</th>\n",
       "    </tr>\n",
       "  </thead>\n",
       "  <tbody>\n",
       "    <tr>\n",
       "      <th>0</th>\n",
       "      <td>dailylife</td>\n",
       "      <td>17.75</td>\n",
       "    </tr>\n",
       "    <tr>\n",
       "      <th>1</th>\n",
       "      <td>grocery</td>\n",
       "      <td>15.69</td>\n",
       "    </tr>\n",
       "    <tr>\n",
       "      <th>2</th>\n",
       "      <td>miscellaneous</td>\n",
       "      <td>22.48</td>\n",
       "    </tr>\n",
       "    <tr>\n",
       "      <th>3</th>\n",
       "      <td>rent</td>\n",
       "      <td>55.18</td>\n",
       "    </tr>\n",
       "    <tr>\n",
       "      <th>4</th>\n",
       "      <td>savings_plan</td>\n",
       "      <td>7.98</td>\n",
       "    </tr>\n",
       "    <tr>\n",
       "      <th>5</th>\n",
       "      <td>uncategorized</td>\n",
       "      <td>4.66</td>\n",
       "    </tr>\n",
       "  </tbody>\n",
       "</table>\n",
       "</div>"
      ],
      "text/plain": [
       "       mcategory   rate\n",
       "0      dailylife  17.75\n",
       "1        grocery  15.69\n",
       "2  miscellaneous  22.48\n",
       "3           rent  55.18\n",
       "4   savings_plan   7.98\n",
       "5  uncategorized   4.66"
      ]
     },
     "execution_count": 146,
     "metadata": {},
     "output_type": "execute_result"
    }
   ],
   "source": [
    "mnumbers[['mcategory', 'rate']]"
   ]
  },
  {
   "cell_type": "code",
   "execution_count": 145,
   "id": "058526f4-7fa7-4cd1-88e3-08ce8039dd5e",
   "metadata": {},
   "outputs": [
    {
     "data": {
      "text/plain": [
       "rate    123.74\n",
       "dtype: float64"
      ]
     },
     "execution_count": 145,
     "metadata": {},
     "output_type": "execute_result"
    }
   ],
   "source": [
    "mnumbers[['rate']].sum()"
   ]
  },
  {
   "cell_type": "code",
   "execution_count": null,
   "id": "83e355b2-8612-48f4-8beb-45b72b065d8d",
   "metadata": {},
   "outputs": [],
   "source": []
  },
  {
   "cell_type": "code",
   "execution_count": null,
   "id": "edfd52f9-6e4f-4c8e-830e-79113dc62fb1",
   "metadata": {},
   "outputs": [],
   "source": []
  },
  {
   "cell_type": "code",
   "execution_count": 150,
   "id": "0fd141a5-89d8-4db0-815e-d0a351aec860",
   "metadata": {},
   "outputs": [],
   "source": [
    "qnumberso = (\n",
    "qnumbers\n",
    "    .groupby(['mcategory'])\n",
    "    .agg({'betrag_eur':'sum'})\n",
    "    .reset_index()\n",
    "    .sort_values('betrag_eur')\n",
    ")"
   ]
  },
  {
   "cell_type": "code",
   "execution_count": 149,
   "id": "aed5e5bb-9edd-461f-9278-a7073d4047af",
   "metadata": {},
   "outputs": [],
   "source": [
    "mnumberso = (\n",
    "mnumbers\n",
    "    .groupby(['mcategory'])\n",
    "    .agg({'betrag_eur':'sum'})\n",
    "    .reset_index()\n",
    "    .sort_values('betrag_eur')\n",
    ")"
   ]
  },
  {
   "cell_type": "code",
   "execution_count": 106,
   "id": "de69708f-d077-4b25-aef6-a507bce4c051",
   "metadata": {},
   "outputs": [],
   "source": [
    "# mnumbers"
   ]
  },
  {
   "cell_type": "code",
   "execution_count": 147,
   "id": "e25a5f5c-e105-4de1-9ea8-0c9327bfcf38",
   "metadata": {},
   "outputs": [],
   "source": [
    "list_pie = [mnumberso, qnumberso]"
   ]
  },
  {
   "cell_type": "code",
   "execution_count": 148,
   "id": "03b2a707-0b32-4c96-8ee7-c20b58c96f97",
   "metadata": {},
   "outputs": [
    {
     "data": {
      "image/png": "[encoded data removed]",
      "text/plain": [
       "<Figure size 864x720 with 1 Axes>"
      ]
     },
     "metadata": {},
     "output_type": "display_data"
    },
    {
     "data": {
      "image/png": "[encoded data removed]",
      "text/plain": [
       "<Figure size 864x720 with 1 Axes>"
      ]
     },
     "metadata": {},
     "output_type": "display_data"
    }
   ],
   "source": [
    "import numpy as np\n",
    "import matplotlib.pyplot as plt\n",
    "import matplotlib.patheffects as path_effects\n",
    "\n",
    "for i in list_pie:\n",
    "    labels = i['mcategory']\n",
    "    data = i['betrag_eur'].abs()\n",
    "\n",
    "    explode = (0.1, 0.0, 0.2, 0.3, 0.0, 0.0)\n",
    "    colors = (\"orange\", \"green\", \"indigo\", \"r\", \"c\", 'b','y','g')\n",
    "    wp = {'linewidth':1.5, 'edgecolor':\"white\"}\n",
    "    def func(pct, allvalues):\n",
    "        absolute = int(pct / 100.*np.sum(allvalues))\n",
    "        return \"{:.1f}%\\n({:d})\".format(pct, absolute)\n",
    "\n",
    "    fig, ax = plt.subplots(figsize =(12, 10))\n",
    "    wedges, texts, autotexts = ax.pie(data,\n",
    "                                    autopct = lambda pct: func(pct, data),\n",
    "                                    explode = explode,\n",
    "                                    labels = labels,\n",
    "                                    shadow = True,\n",
    "                                    colors = colors,\n",
    "                                    startangle = 90,\n",
    "                                    wedgeprops = wp,\n",
    "                                    textprops = dict(color =\"black\", fontsize = 14))\n",
    "\n",
    "    ax.legend(wedges, labels,\n",
    "              title =\"Major categories\",\n",
    "              loc =\"center left\",\n",
    "              bbox_to_anchor = (1, .75, .5, .5),\n",
    "              fontsize = 11)\n",
    "\n",
    "    plt.setp(autotexts, size = 8)\n",
    "    ax.set_title(f\"Major expenditures\", color = \"black\", weight=\"bold\", fontsize = 20)\n",
    "    plt.show()"
   ]
  },
  {
   "cell_type": "code",
   "execution_count": null,
   "id": "ceda2b74-0e13-45be-99d4-f79590e2189f",
   "metadata": {},
   "outputs": [],
   "source": [
    "import numpy as np\n",
    "import matplotlib.pyplot as plt\n",
    "import matplotlib.patheffects as path_effects\n",
    "\n",
    "labels = qnumberso['mcategory']\n",
    "data = qnumberso['betrag_eur'].abs()\n",
    "\n",
    "explode = (0.1, 0.0, 0.2, 0.3, 0.0, 0.0)\n",
    "colors = (\"orange\", \"green\", \"indigo\", \"r\", \"c\", 'b','y','g')\n",
    "wp = {'linewidth':1.5, 'edgecolor':\"white\"}\n",
    "def func(pct, allvalues):\n",
    "\tabsolute = int(pct / 100.*np.sum(allvalues))\n",
    "\treturn \"{:.1f}%\\n({:d})\".format(pct, absolute)\n",
    "\n",
    "fig, ax = plt.subplots(figsize =(12, 8))\n",
    "wedges, texts, autotexts = ax.pie(data,\n",
    "\t\t\t\t\t\t\t\tautopct = lambda pct: func(pct, data),\n",
    "\t\t\t\t\t\t\t\texplode = explode,\n",
    "\t\t\t\t\t\t\t\tlabels = labels,\n",
    "\t\t\t\t\t\t\t\tshadow = True,\n",
    "\t\t\t\t\t\t\t\tcolors = colors,\n",
    "\t\t\t\t\t\t\t\tstartangle = 90,\n",
    "\t\t\t\t\t\t\t\twedgeprops = wp,\n",
    "\t\t\t\t\t\t\t\ttextprops = dict(color =\"brown\", fontsize = 14))\n",
    "\n",
    "ax.legend(wedges, labels,\n",
    "          title =\"Major categories\",\n",
    "          loc =\"center left\",\n",
    "          bbox_to_anchor = (1, .75, .5, .5),\n",
    "          fontsize = 11)\n",
    "\n",
    "plt.setp(autotexts, size = 8)\n",
    "ax.set_title(\"Major expenditures\", color = \"brown\", weight=\"bold\", fontsize = 20)\n",
    "plt.show()"
   ]
  },
  {
   "cell_type": "code",
   "execution_count": 99,
   "id": "e062eaf7-ae07-47f6-8944-b78c922a5207",
   "metadata": {},
   "outputs": [
    {
     "data": {
      "text/html": [
       "<div>\n",
       "<style scoped>\n",
       "    .dataframe tbody tr th:only-of-type {\n",
       "        vertical-align: middle;\n",
       "    }\n",
       "\n",
       "    .dataframe tbody tr th {\n",
       "        vertical-align: top;\n",
       "    }\n",
       "\n",
       "    .dataframe thead th {\n",
       "        text-align: right;\n",
       "    }\n",
       "</style>\n",
       "<table border=\"1\" class=\"dataframe\">\n",
       "  <thead>\n",
       "    <tr style=\"text-align: right;\">\n",
       "      <th></th>\n",
       "      <th>mcategory</th>\n",
       "      <th>betrag_eur</th>\n",
       "    </tr>\n",
       "  </thead>\n",
       "  <tbody>\n",
       "    <tr>\n",
       "      <th>3</th>\n",
       "      <td>rent</td>\n",
       "      <td>-5173.28</td>\n",
       "    </tr>\n",
       "    <tr>\n",
       "      <th>2</th>\n",
       "      <td>miscellaneous</td>\n",
       "      <td>-2629.00</td>\n",
       "    </tr>\n",
       "    <tr>\n",
       "      <th>0</th>\n",
       "      <td>dailylife</td>\n",
       "      <td>-2078.58</td>\n",
       "    </tr>\n",
       "    <tr>\n",
       "      <th>6</th>\n",
       "      <td>uncategorized</td>\n",
       "      <td>-1911.25</td>\n",
       "    </tr>\n",
       "    <tr>\n",
       "      <th>1</th>\n",
       "      <td>grocery</td>\n",
       "      <td>-1734.89</td>\n",
       "    </tr>\n",
       "    <tr>\n",
       "      <th>5</th>\n",
       "      <td>savings_plan</td>\n",
       "      <td>-1500.00</td>\n",
       "    </tr>\n",
       "  </tbody>\n",
       "</table>\n",
       "</div>"
      ],
      "text/plain": [
       "       mcategory  betrag_eur\n",
       "3           rent    -5173.28\n",
       "2  miscellaneous    -2629.00\n",
       "0      dailylife    -2078.58\n",
       "6  uncategorized    -1911.25\n",
       "1        grocery    -1734.89\n",
       "5   savings_plan    -1500.00"
      ]
     },
     "execution_count": 99,
     "metadata": {},
     "output_type": "execute_result"
    }
   ],
   "source": [
    "temp = (\n",
    "df\n",
    "    .groupby(['mcategory'])\n",
    "    .agg({'betrag_eur':'sum'})\n",
    "    .reset_index()\n",
    "    .sort_values('betrag_eur')\n",
    ")\n",
    "\n",
    "rev_overview = temp.query('betrag_eur > 0')\n",
    "exp_overview = temp.query('betrag_eur < 0')\n",
    "exp_overview"
   ]
  },
  {
   "cell_type": "code",
   "execution_count": null,
   "id": "640305f8-a844-476a-be08-b9e83f51d216",
   "metadata": {},
   "outputs": [],
   "source": [
    "rev_overview"
   ]
  },
  {
   "cell_type": "code",
   "execution_count": 100,
   "id": "d7411ac2-f390-4f49-8e66-d6d2e5a90118",
   "metadata": {},
   "outputs": [
    {
     "data": {
      "text/plain": [
       "-15027.0"
      ]
     },
     "execution_count": 100,
     "metadata": {},
     "output_type": "execute_result"
    }
   ],
   "source": [
    "# overall revenues and expenditure in sum\n",
    "revenue_overall = rev_overview['betrag_eur'].sum()\n",
    "expenditure_overall = exp_overview['betrag_eur'].sum()\n",
    "expenditure_overall"
   ]
  },
  {
   "cell_type": "code",
   "execution_count": 101,
   "id": "0a6934c3-bc47-4f96-90ce-db45d636fa64",
   "metadata": {},
   "outputs": [
    {
     "data": {
      "text/html": [
       "<div>\n",
       "<style scoped>\n",
       "    .dataframe tbody tr th:only-of-type {\n",
       "        vertical-align: middle;\n",
       "    }\n",
       "\n",
       "    .dataframe tbody tr th {\n",
       "        vertical-align: top;\n",
       "    }\n",
       "\n",
       "    .dataframe thead th {\n",
       "        text-align: right;\n",
       "    }\n",
       "</style>\n",
       "<table border=\"1\" class=\"dataframe\">\n",
       "  <thead>\n",
       "    <tr style=\"text-align: right;\">\n",
       "      <th></th>\n",
       "      <th></th>\n",
       "      <th>betrag_eur</th>\n",
       "    </tr>\n",
       "    <tr>\n",
       "      <th>year</th>\n",
       "      <th>month</th>\n",
       "      <th></th>\n",
       "    </tr>\n",
       "  </thead>\n",
       "  <tbody>\n",
       "    <tr>\n",
       "      <th>2022</th>\n",
       "      <th>Jan</th>\n",
       "      <td>795.00</td>\n",
       "    </tr>\n",
       "    <tr>\n",
       "      <th rowspan=\"3\" valign=\"top\">2021</th>\n",
       "      <th>Dec</th>\n",
       "      <td>4772.66</td>\n",
       "    </tr>\n",
       "    <tr>\n",
       "      <th>Nov</th>\n",
       "      <td>5722.46</td>\n",
       "    </tr>\n",
       "    <tr>\n",
       "      <th>Oct</th>\n",
       "      <td>3556.32</td>\n",
       "    </tr>\n",
       "  </tbody>\n",
       "</table>\n",
       "</div>"
      ],
      "text/plain": [
       "            betrag_eur\n",
       "year month            \n",
       "2022 Jan        795.00\n",
       "2021 Dec       4772.66\n",
       "     Nov       5722.46\n",
       "     Oct       3556.32"
      ]
     },
     "execution_count": 101,
     "metadata": {},
     "output_type": "execute_result"
    }
   ],
   "source": [
    "# monthly overview of revenue\n",
    "rev_monthly = (\n",
    "revenues\n",
    "    .assign(year = revenues['buchungsdatum'].dt.strftime('%Y'), \n",
    "           month = revenues['buchungsdatum'].dt.strftime('%b'))\n",
    "    .groupby(['year','month'])\n",
    "    .sum()\n",
    "    .sort_values(['year'], ascending=False)\n",
    ")\n",
    "rev_monthly"
   ]
  },
  {
   "cell_type": "code",
   "execution_count": 102,
   "id": "e1ebc5c2-c1da-4e3a-9456-37bdee0080d8",
   "metadata": {},
   "outputs": [
    {
     "data": {
      "text/html": [
       "<div>\n",
       "<style scoped>\n",
       "    .dataframe tbody tr th:only-of-type {\n",
       "        vertical-align: middle;\n",
       "    }\n",
       "\n",
       "    .dataframe tbody tr th {\n",
       "        vertical-align: top;\n",
       "    }\n",
       "\n",
       "    .dataframe thead th {\n",
       "        text-align: right;\n",
       "    }\n",
       "</style>\n",
       "<table border=\"1\" class=\"dataframe\">\n",
       "  <thead>\n",
       "    <tr style=\"text-align: right;\">\n",
       "      <th></th>\n",
       "      <th></th>\n",
       "      <th>betrag_eur</th>\n",
       "    </tr>\n",
       "    <tr>\n",
       "      <th>year</th>\n",
       "      <th>month</th>\n",
       "      <th></th>\n",
       "    </tr>\n",
       "  </thead>\n",
       "  <tbody>\n",
       "    <tr>\n",
       "      <th>2022</th>\n",
       "      <th>Jan</th>\n",
       "      <td>-3877.92</td>\n",
       "    </tr>\n",
       "    <tr>\n",
       "      <th rowspan=\"3\" valign=\"top\">2021</th>\n",
       "      <th>Dec</th>\n",
       "      <td>-4185.71</td>\n",
       "    </tr>\n",
       "    <tr>\n",
       "      <th>Nov</th>\n",
       "      <td>-4305.39</td>\n",
       "    </tr>\n",
       "    <tr>\n",
       "      <th>Oct</th>\n",
       "      <td>-1523.02</td>\n",
       "    </tr>\n",
       "  </tbody>\n",
       "</table>\n",
       "</div>"
      ],
      "text/plain": [
       "            betrag_eur\n",
       "year month            \n",
       "2022 Jan      -3877.92\n",
       "2021 Dec      -4185.71\n",
       "     Nov      -4305.39\n",
       "     Oct      -1523.02"
      ]
     },
     "execution_count": 102,
     "metadata": {},
     "output_type": "execute_result"
    }
   ],
   "source": [
    "# monthly overview of expenditure\n",
    "exp_monthly = (\n",
    "expenditures\n",
    "    .assign(year = expenditures['buchungsdatum'].dt.strftime('%Y'), \n",
    "           month = expenditures['buchungsdatum'].dt.strftime('%b'))\n",
    "    .groupby(['year','month'])\n",
    "    .sum()\n",
    "    .sort_values(['year'], ascending=False)\n",
    ")\n",
    "exp_monthly"
   ]
  },
  {
   "cell_type": "code",
   "execution_count": null,
   "id": "ca72c813-28cc-4975-9274-8066d4cf38f2",
   "metadata": {},
   "outputs": [],
   "source": [
    "rev_monthly.plot.bar();"
   ]
  },
  {
   "cell_type": "code",
   "execution_count": null,
   "id": "606311c3-7712-4567-bd0a-6041b2ca50b6",
   "metadata": {},
   "outputs": [],
   "source": [
    "# expenditures.query('mcategory == \"dailylife\"')['betrag_eur'].hist()\n",
    "exp_monthly.plot.bar(); "
   ]
  },
  {
   "cell_type": "markdown",
   "id": "7e03b8f7-95ac-4eef-a488-17f20612e8d2",
   "metadata": {},
   "source": [
    "## pie chart of expenditures"
   ]
  },
  {
   "cell_type": "code",
   "execution_count": 156,
   "id": "12765dde-b3de-43ba-84d0-ca1f23a12ac3",
   "metadata": {},
   "outputs": [
    {
     "data": {
      "image/png": "[encoded data removed]",
      "text/plain": [
       "<Figure size 864x720 with 1 Axes>"
      ]
     },
     "metadata": {},
     "output_type": "display_data"
    }
   ],
   "source": [
    "# Import libraries\n",
    "import numpy as np\n",
    "import matplotlib.pyplot as plt\n",
    "import matplotlib.patheffects as path_effects\n",
    "\n",
    "# Creating dataset\n",
    "labels = exp_overview['mcategory']\n",
    "data = exp_overview['betrag_eur'].abs()\n",
    "\n",
    "# Creating explode data\n",
    "explode = (0.1, 0.0, 0.2, 0.3, 0.0, 0.0)\n",
    "\n",
    "# Creating color parameters\n",
    "colors = (\"orange\", \"green\", \"indigo\", \"r\", \"c\", 'b','y','g')\n",
    "\n",
    "# Wedge properties\n",
    "wp = {'linewidth':1.5, 'edgecolor':\"white\"}\n",
    "\n",
    "# Creating autocpt arguments\n",
    "def func(pct, allvalues):\n",
    "\tabsolute = int(pct / 100.*np.sum(allvalues))\n",
    "\treturn \"{:.1f}%\\n({:d})\".format(pct, absolute)\n",
    "\n",
    "# Creating plot\n",
    "fig, ax = plt.subplots(figsize =(12, 10))\n",
    "wedges, texts, autotexts = ax.pie(data,\n",
    "\t\t\t\t\t\t\t\tautopct = lambda pct: func(pct, data),\n",
    "\t\t\t\t\t\t\t\texplode = explode,\n",
    "\t\t\t\t\t\t\t\tlabels = labels,\n",
    "\t\t\t\t\t\t\t\tshadow = True,\n",
    "\t\t\t\t\t\t\t\tcolors = colors,\n",
    "\t\t\t\t\t\t\t\tstartangle = 90,\n",
    "\t\t\t\t\t\t\t\twedgeprops = wp,\n",
    "\t\t\t\t\t\t\t\ttextprops = dict(color =\"white\", fontsize = 14))\n",
    "\n",
    "# Adding legend\n",
    "ax.legend(wedges, labels,\n",
    "          title =\"Major categories\",\n",
    "          loc =\"center left\",\n",
    "          bbox_to_anchor = (1, .75, .5, .5),\n",
    "          fontsize = 11)\n",
    "\n",
    "plt.setp(autotexts, size = 8)\n",
    "ax.set_title(\"Expenditures on major categories\", color = \"white\", weight=\"bold\", fontsize = 20)\n",
    "\n",
    "# show plot\n",
    "plt.show()"
   ]
  },
  {
   "cell_type": "markdown",
   "id": "0cf2bf30-b29f-4bea-b5ae-bcb34c9766df",
   "metadata": {},
   "source": [
    "## expenditure distribution"
   ]
  },
  {
   "cell_type": "code",
   "execution_count": null,
   "id": "b70c4d62-63c0-436e-972d-ee3670276420",
   "metadata": {},
   "outputs": [],
   "source": [
    "import matplotlib.pyplot as plt\n",
    "import seaborn as sns\n",
    "# do not display the number with scientific notation\n",
    "pd.options.display.float_format = '{:.2f}'.format\n",
    "\n",
    "p_df = (\n",
    "df\n",
    "    .query('betrag_eur < 0')\n",
    "    .assign(year = df['buchungsdatum'].dt.strftime('%Y'), \n",
    "           month = df['buchungsdatum'].dt.strftime('%b'))\n",
    "    .groupby(['year','month'])\n",
    "    .agg({'betrag_eur':'sum'})\n",
    "    .reset_index()\n",
    ")\n",
    "# p_df"
   ]
  },
  {
   "cell_type": "code",
   "execution_count": null,
   "id": "88dfa0b0-f283-4fc3-99a4-3bed0e341b1f",
   "metadata": {
    "tags": []
   },
   "outputs": [],
   "source": [
    "# revenues and expenditure \n",
    "months = ['Jan', 'Feb', 'Mar', 'Apr', 'May', 'Jun', 'Jul', 'Aug', 'Sep', 'Oct', 'Nov', 'Dec']\n",
    "plt.subplots(figsize=(12, 6))\n",
    "p = sns.barplot(data=p_df, x='month', y='betrag_eur', hue='year', order=months)\n",
    "p.axhline(p_df['betrag_eur'].mean(), linestyle='--',  color='gray')\n",
    "plt.xlabel('Month')\n",
    "plt.ylabel('Expenditure') \n",
    "plt.title('Expenditure evolution') \n",
    "plt.ticklabel_format(style='plain', axis='y') \n",
    "plt.show()"
   ]
  },
  {
   "cell_type": "code",
   "execution_count": null,
   "id": "f8bb5288-e0e7-4339-8881-974c559598d3",
   "metadata": {},
   "outputs": [],
   "source": [
    "p_df = (\n",
    "df\n",
    "    .query('betrag_eur > 0')\n",
    "    .assign(year = transactions['buchungsdatum'].dt.strftime('%Y'), \n",
    "           month = transactions['buchungsdatum'].dt.strftime('%b'))\n",
    "    .groupby(['year','month'])\n",
    "    .agg({'betrag_eur':'sum'})\n",
    "    .reset_index()\n",
    ")"
   ]
  },
  {
   "cell_type": "code",
   "execution_count": null,
   "id": "d4341a8f-74d7-473f-a64f-e6e7f269b29f",
   "metadata": {},
   "outputs": [],
   "source": [
    "# revenues and expenditure \n",
    "months = ['Jan', 'Feb', 'Mar', 'Apr', 'May', 'Jun', 'Jul', 'Aug', 'Sep', 'Oct', 'Nov', 'Dec']\n",
    "plt.subplots(figsize=(12, 6))\n",
    "p = sns.barplot(data=p_df, x='month', y='betrag_eur', hue='year', order=months)\n",
    "p.axhline(p_df['betrag_eur'].mean(), linestyle='--',  color='gray')\n",
    "plt.xlabel('Month')\n",
    "plt.ylabel('Revenues') \n",
    "plt.title('Revenues evolution') \n",
    "plt.ticklabel_format(style='plain', axis='y') \n",
    "plt.show()"
   ]
  },
  {
   "cell_type": "code",
   "execution_count": null,
   "id": "48efc73a-2d45-4324-be16-224d418f37d4",
   "metadata": {},
   "outputs": [],
   "source": []
  }
 ],
 "metadata": {
  "kernelspec": {
   "display_name": "Python 3 (ipykernel)",
   "language": "python",
   "name": "python3"
  },
  "language_info": {
   "codemirror_mode": {
    "name": "ipython",
    "version": 3
   },
   "file_extension": ".py",
   "mimetype": "text/x-python",
   "name": "python",
   "nbconvert_exporter": "python",
   "pygments_lexer": "ipython3",
   "version": "3.8.8"
  }
 },
 "nbformat": 4,
 "nbformat_minor": 5
}
