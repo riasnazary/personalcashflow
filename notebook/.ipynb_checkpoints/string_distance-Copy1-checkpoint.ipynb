{
 "cells": [
  {
   "cell_type": "code",
   "execution_count": 1,
   "metadata": {},
   "outputs": [],
   "source": [
    "import pandas as pd\n",
    "trans = pd.read_csv(\"/Users/riasnazary/datascience/00_final-project/data/to_csv/transactions_filtered_joan.csv\").drop(columns=[\"Unnamed: 0\"])[[\"details\",\"mcategory\"]]"
   ]
  },
  {
   "cell_type": "markdown",
   "metadata": {},
   "source": [
    "https://stackoverflow.com/questions/13636848/is-it-possible-to-do-fuzzy-match-merge-with-python-pandas"
   ]
  },
  {
   "cell_type": "code",
   "execution_count": 5,
   "metadata": {},
   "outputs": [
    {
     "name": "stderr",
     "output_type": "stream",
     "text": [
      "/var/folders/r_/w9z4r8gj2030yxfs91tj40_00000gn/T/ipykernel_27071/1616139096.py:12: SettingWithCopyWarning: \n",
      "A value is trying to be set on a copy of a slice from a DataFrame.\n",
      "Try using .loc[row_indexer,col_indexer] = value instead\n",
      "\n",
      "See the caveats in the documentation: https://pandas.pydata.org/pandas-docs/stable/user_guide/indexing.html#returning-a-view-versus-a-copy\n",
      "  X_no_dupl[\"details\"] = [str(val) for val in X_no_dupl[\"details\"].tolist()]\n"
     ]
    },
    {
     "data": {
      "text/html": [
       "<div>\n",
       "<style scoped>\n",
       "    .dataframe tbody tr th:only-of-type {\n",
       "        vertical-align: middle;\n",
       "    }\n",
       "\n",
       "    .dataframe tbody tr th {\n",
       "        vertical-align: top;\n",
       "    }\n",
       "\n",
       "    .dataframe thead th {\n",
       "        text-align: right;\n",
       "    }\n",
       "</style>\n",
       "<table border=\"1\" class=\"dataframe\">\n",
       "  <thead>\n",
       "    <tr style=\"text-align: right;\">\n",
       "      <th></th>\n",
       "      <th>details_x</th>\n",
       "      <th>possible_det</th>\n",
       "      <th>mcategory</th>\n",
       "      <th>original_cat</th>\n",
       "    </tr>\n",
       "  </thead>\n",
       "  <tbody>\n",
       "    <tr>\n",
       "      <th>0</th>\n",
       "      <td>Takeaway.com PaymentsB.V., Ihr Einkauf bei Tak...</td>\n",
       "      <td>Takeaway.com PaymentsB.V., Ihr Einkauf bei Tak...</td>\n",
       "      <td>dailylife</td>\n",
       "      <td>dailylife</td>\n",
       "    </tr>\n",
       "    <tr>\n",
       "      <th>1</th>\n",
       "      <td>Apple Services, Ihr Einkauf bei Apple Services</td>\n",
       "      <td>Apple Services, Ihr Einkauf bei Apple Services</td>\n",
       "      <td>dailylife</td>\n",
       "      <td>dailylife</td>\n",
       "    </tr>\n",
       "    <tr>\n",
       "      <th>2</th>\n",
       "      <td>Referenz 0000131258850Mandat 000000023236548Ei...</td>\n",
       "      <td>Referenz 0000130124190Mandat 000000023236548Ei...</td>\n",
       "      <td>cash</td>\n",
       "      <td>cash</td>\n",
       "    </tr>\n",
       "    <tr>\n",
       "      <th>3</th>\n",
       "      <td>Apple Services, Ihr Einkauf bei Apple Services</td>\n",
       "      <td>Apple Services, Ihr Einkauf bei Apple Services</td>\n",
       "      <td>dailylife</td>\n",
       "      <td>dailylife</td>\n",
       "    </tr>\n",
       "    <tr>\n",
       "      <th>4</th>\n",
       "      <td>Referenz NOTPROVIDEDMandat 01-20180607-164912-...</td>\n",
       "      <td>Referenz NOTPROVIDEDMandat 01-20180607-164912-...</td>\n",
       "      <td>cash</td>\n",
       "      <td>cash</td>\n",
       "    </tr>\n",
       "    <tr>\n",
       "      <th>5</th>\n",
       "      <td>inkauf beiREWE Markt GmbH</td>\n",
       "      <td>inkauf beiREWE Markt GmbH</td>\n",
       "      <td>grocery</td>\n",
       "      <td>grocery</td>\n",
       "    </tr>\n",
       "    <tr>\n",
       "      <th>6</th>\n",
       "      <td>Referenz NOTPROVIDEDMandat EC341E1552A5BE3D8C2...</td>\n",
       "      <td>Referenz NOTPROVIDEDMandat EC341E1552A5BE3D8C2...</td>\n",
       "      <td>dailylife</td>\n",
       "      <td>dailylife</td>\n",
       "    </tr>\n",
       "    <tr>\n",
       "      <th>7</th>\n",
       "      <td>iTunes and App Store,Ihr Einkauf bei iTunes an...</td>\n",
       "      <td>iTunes and App Store,Ihr Einkauf bei iTunes an...</td>\n",
       "      <td>dailylife</td>\n",
       "      <td>dailylife</td>\n",
       "    </tr>\n",
       "    <tr>\n",
       "      <th>8</th>\n",
       "      <td>RENTE FÜR ELTERN</td>\n",
       "      <td>RENTE FÜR ELTERN</td>\n",
       "      <td>budgeted</td>\n",
       "      <td>budgeted</td>\n",
       "    </tr>\n",
       "    <tr>\n",
       "      <th>9</th>\n",
       "      <td>Takeaway.com PaymentsB.V., Ihr Einkauf bei Tak...</td>\n",
       "      <td>Takeaway.com PaymentsB.V., Ihr Einkauf bei Tak...</td>\n",
       "      <td>dailylife</td>\n",
       "      <td>dailylife</td>\n",
       "    </tr>\n",
       "  </tbody>\n",
       "</table>\n",
       "</div>"
      ],
      "text/plain": [
       "                                           details_x  \\\n",
       "0  Takeaway.com PaymentsB.V., Ihr Einkauf bei Tak...   \n",
       "1     Apple Services, Ihr Einkauf bei Apple Services   \n",
       "2  Referenz 0000131258850Mandat 000000023236548Ei...   \n",
       "3     Apple Services, Ihr Einkauf bei Apple Services   \n",
       "4  Referenz NOTPROVIDEDMandat 01-20180607-164912-...   \n",
       "5                          inkauf beiREWE Markt GmbH   \n",
       "6  Referenz NOTPROVIDEDMandat EC341E1552A5BE3D8C2...   \n",
       "7  iTunes and App Store,Ihr Einkauf bei iTunes an...   \n",
       "8                                   RENTE FÜR ELTERN   \n",
       "9  Takeaway.com PaymentsB.V., Ihr Einkauf bei Tak...   \n",
       "\n",
       "                                        possible_det  mcategory original_cat  \n",
       "0  Takeaway.com PaymentsB.V., Ihr Einkauf bei Tak...  dailylife    dailylife  \n",
       "1     Apple Services, Ihr Einkauf bei Apple Services  dailylife    dailylife  \n",
       "2  Referenz 0000130124190Mandat 000000023236548Ei...       cash         cash  \n",
       "3     Apple Services, Ihr Einkauf bei Apple Services  dailylife    dailylife  \n",
       "4  Referenz NOTPROVIDEDMandat 01-20180607-164912-...       cash         cash  \n",
       "5                          inkauf beiREWE Markt GmbH    grocery      grocery  \n",
       "6  Referenz NOTPROVIDEDMandat EC341E1552A5BE3D8C2...  dailylife    dailylife  \n",
       "7  iTunes and App Store,Ihr Einkauf bei iTunes an...  dailylife    dailylife  \n",
       "8                                   RENTE FÜR ELTERN   budgeted     budgeted  \n",
       "9  Takeaway.com PaymentsB.V., Ihr Einkauf bei Tak...  dailylife    dailylife  "
      ]
     },
     "execution_count": 5,
     "metadata": {},
     "output_type": "execute_result"
    }
   ],
   "source": [
    "# the idea is to create a \"fuzzy join\" to help assign a category to new transactions by looking at its details. \n",
    "# If the details are similar to a previous details we already categorised, then assign the same category. \n",
    "\n",
    "# first create a train and a test. One will only will contain the transaction details, and the other will contain\n",
    "# the details and the assigned category\n",
    "from sklearn.model_selection import train_test_split\n",
    "X, y = train_test_split(trans, train_size=.8)\n",
    "\n",
    "# we prepare the data with the detaisl and cateogries\n",
    "X_no_dupl = X.drop_duplicates()\n",
    "# as there are some missing values, will force all the detials column to be strings\n",
    "X_no_dupl[\"details\"] = [str(val) for val in X_no_dupl[\"details\"].tolist()]\n",
    "\n",
    "# we will only keep the details column and will coerce it into string as we did before\n",
    "y_no_categ = y.drop(columns=[\"mcategory\"])\n",
    "y_no_categ[\"details\"] = [str(val) for val in y_no_categ[\"details\"].tolist()]\n",
    "\n",
    "# now we will look at the most similar description for each non categoried transaction \n",
    "import difflib\n",
    "y_no_categ[\"possible_det\"] = y_no_categ['details'].apply(lambda x: difflib.get_close_matches(x, X_no_dupl['details']))\n",
    "\n",
    "# the output from the function is a list, so we will transform it into a value\n",
    "for index, val in y_no_categ.iterrows(): \n",
    "    try: \n",
    "        y_no_categ.loc[index, \"possible_det\"] = val[\"possible_det\"][0]\n",
    "    # some values are missing, so the list will be empyt, that's why we are manually\n",
    "    # giving a value\n",
    "    except: \n",
    "        y_no_categ.loc[index, \"possible_det\"] = \"nan\"\n",
    "\n",
    "# now we can merge it with the data that we already know the categories\n",
    "y_categorised = (\n",
    "y_no_categ\n",
    "    .merge(\n",
    "        X_no_dupl,\n",
    "        left_on=\"possible_det\", \n",
    "        right_on=\"details\", \n",
    "        how=\"left\"\n",
    "        )\n",
    "    .drop(columns=[\"details_y\"])\n",
    "    .assign(original_cat = y[\"mcategory\"].tolist())\n",
    ")\n",
    "y_categorised[:10]"
   ]
  },
  {
   "cell_type": "code",
   "execution_count": 4,
   "metadata": {},
   "outputs": [
    {
     "data": {
      "text/plain": [
       "0.9787234042553191"
      ]
     },
     "execution_count": 4,
     "metadata": {},
     "output_type": "execute_result"
    }
   ],
   "source": [
    "# last steps is to check if our merge is accurate or not. \n",
    "from sklearn.metrics import accuracy_score\n",
    "accuracy_score(y_categorised[\"mcategory\"], y_categorised[\"original_cat\"])"
   ]
  },
  {
   "cell_type": "code",
   "execution_count": null,
   "metadata": {},
   "outputs": [],
   "source": []
  }
 ],
 "metadata": {
  "interpreter": {
   "hash": "8557169e40f946b7b2d53c2523703920421f68fc791b17347e1c368925750859"
  },
  "kernelspec": {
   "display_name": "Python 3 (ipykernel)",
   "language": "python",
   "name": "python3"
  },
  "language_info": {
   "codemirror_mode": {
    "name": "ipython",
    "version": 3
   },
   "file_extension": ".py",
   "mimetype": "text/x-python",
   "name": "python",
   "nbconvert_exporter": "python",
   "pygments_lexer": "ipython3",
   "version": "3.8.8"
  }
 },
 "nbformat": 4,
 "nbformat_minor": 4
}
